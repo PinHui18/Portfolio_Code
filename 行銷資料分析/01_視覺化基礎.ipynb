{
 "cells": [
  {
   "cell_type": "markdown",
   "metadata": {},
   "source": [
    "# Matplotlib靜態繪圖與Plotly網頁動態繪圖操作\n",
    "![](https://imgur.com/8yq3VVp.png)\n"
   ]
  },
  {
   "cell_type": "code",
   "execution_count": null,
   "metadata": {},
   "outputs": [],
   "source": [
    "import matplotlib.pyplot as plt"
   ]
  },
  {
   "source": [
    "![](https://imgur.com/PpbF1d6.png)"
   ],
   "cell_type": "markdown",
   "metadata": {}
  },
  {
   "cell_type": "code",
   "execution_count": null,
   "metadata": {},
   "outputs": [],
   "source": [
    "import plotly.tools as tls\n",
    "import plotly.graph_objs as go\n",
    "from plotly.offline import download_plotlyjs, init_notebook_mode, plot, iplot\n",
    "import plotly.express as px"
   ]
  },
  {
   "cell_type": "markdown",
   "metadata": {},
   "source": [
    "## 輸入x 與 y\n",
    "![](https://imgur.com/AVxGhuN.png)"
   ]
  },
  {
   "cell_type": "code",
   "execution_count": null,
   "metadata": {},
   "outputs": [],
   "source": [
    "fig = plt.figure(figsize=(15,10))\n",
    "x = [1, 2, 3, 4]\n",
    "y = [4, 8, 12, 16]\n",
    "plt.plot(x,y)\n",
    "plt.xlabel('some numbers')\n",
    "plt.show()\n"
   ]
  },
  {
   "cell_type": "code",
   "execution_count": null,
   "metadata": {},
   "outputs": [],
   "source": [
    "# 動態圖寫法\n",
    "fig = px.line(x = [1, 2, 3, 4],\n",
    "              y = [4, 8, 12, 16] )\n",
    "\n",
    "fig.update_layout(\n",
    "    xaxis_title=\"some numbers\",\n",
    "    yaxis_title=\"\" )\n",
    "\n",
    "# 在notebook中產出檔案\n",
    "iplot(fig)\n",
    "\n",
    "# 產出html檔案\n",
    "plot(fig, filename='plot2.html')"
   ]
  },
  {
   "cell_type": "markdown",
   "metadata": {},
   "source": [
    "### 設定線的記號\n",
    "![](https://imgur.com/2gmcQRD.png)\n",
    "![](https://imgur.com/Zo4Ilh1.png)"
   ]
  },
  {
   "cell_type": "code",
   "execution_count": null,
   "metadata": {},
   "outputs": [],
   "source": [
    "x = np.linspace(0, 2, 30)\n",
    "fig = plt.figure(figsize=(15,10))\n",
    "plt.plot(x, x**3,'-p') #第三個參數設定記號\n",
    "plt.title('Simple Plot')\n",
    "plt.xlabel('x label')\n",
    "plt.ylabel('y label')\n",
    "plt.xlim(0,2.5)\n",
    "plt.ylim(0,9)\n",
    "plt.show()"
   ]
  },
  {
   "cell_type": "code",
   "execution_count": null,
   "metadata": {},
   "outputs": [],
   "source": [
    "fig = px.line( x=x, y = x**3)\n",
    "\n",
    "\n",
    "fig.update_layout(\n",
    "    # title=\"Simple Plot\",\n",
    "    title={\n",
    "        'text': \"Simple Plot\"},\n",
    "\n",
    "    xaxis_title=\"x label\",\n",
    "    xaxis = dict(range=[0, 2.5],\n",
    "                #  tick0 = 0,\n",
    "                #  dtick = 0.2\n",
    "    ),\n",
    "\n",
    "    yaxis_title=\"y label\",\n",
    "    yaxis = dict(range=[0,9])\n",
    "    \n",
    ")\n",
    "\n",
    "# 繪圖：繪圖上 markers\n",
    "fig.update_traces( mode='lines+markers')\n",
    "iplot(fig)\n"
   ]
  },
  {
   "cell_type": "markdown",
   "metadata": {},
   "source": [
    "### 顯示背後格線"
   ]
  },
  {
   "cell_type": "code",
   "execution_count": null,
   "metadata": {},
   "outputs": [],
   "source": [
    "import matplotlib.pyplot as plt\n",
    "import numpy as np\n",
    "x = np.linspace(0, 2, 30)\n",
    "fig = plt.figure(figsize=(15,10))\n",
    "plt.plot(x, x**3,'-o') #第三個參數設定記號\n",
    "plt.title('Simple Plot')\n",
    "plt.xlabel('x label')\n",
    "plt.ylabel('y label')\n",
    "plt.xlim(0,2.5)\n",
    "plt.ylim(0,9)\n",
    "plt.grid(True) #開啟\n",
    "plt.show()"
   ]
  },
  {
   "cell_type": "code",
   "execution_count": null,
   "metadata": {},
   "outputs": [],
   "source": [
    "fig = px.line( x=x, y = x**3)\n",
    "\n",
    "\n",
    "fig.update_layout(\n",
    "    # title=\"Simple Plot\",\n",
    "    title={\n",
    "        'text': \"Simple Plot\"},\n",
    "\n",
    "    xaxis_title=\"x label\",\n",
    "    xaxis = dict(range=[0, 2.5],\n",
    "                #  tick0 = 0,\n",
    "                #  dtick = 0.2\n",
    "    ),\n",
    "\n",
    "    yaxis_title=\"y label\",\n",
    "    yaxis = dict(range=[0,9])\n",
    "    \n",
    ")\n",
    "\n",
    "fig.update_traces( mode='lines+markers')\n",
    "iplot(fig)\n"
   ]
  },
  {
   "cell_type": "markdown",
   "metadata": {},
   "source": [
    "### 多資料呈現\n",
    "![](https://imgur.com/yizsPTm.png)"
   ]
  },
  {
   "cell_type": "code",
   "execution_count": null,
   "metadata": {},
   "outputs": [],
   "source": [
    "import matplotlib.pyplot as plt\n",
    "import numpy as np\n",
    "x = np.linspace(0, 2, 30)\n",
    "fig = plt.figure(figsize=(15,10))\n",
    "\n",
    "plt.plot(x, x, '-o') #設定第一條折線圖\n",
    "plt.plot(x, x**2)  #設定第二條折線圖\n",
    "plt.plot(x, x**3)  #設定第三條折線圖\n",
    "plt.xlabel('x label')\n",
    "plt.ylabel('y label')\n",
    "plt.title('Simple Plot')\n",
    "plt.show()\n"
   ]
  },
  {
   "cell_type": "code",
   "execution_count": null,
   "metadata": {},
   "outputs": [],
   "source": []
  },
  {
   "cell_type": "code",
   "execution_count": null,
   "metadata": {},
   "outputs": [],
   "source": [
    "# Create traces\n",
    "# 類似  plt.figure的概念\n",
    "fig = go.Figure()\n",
    "\n",
    "# 類似plt.plot(x, x, '-o')\n",
    "# trace:與圖（線、bar、scatter）有關係\n",
    "fig.add_trace(go.Scatter(x=x, y=x,\n",
    "                    mode='lines+markers',\n",
    "                    ))\n",
    "\n",
    "# 類似：plt.plot(x, x**2)  #設定第二條折線圖\n",
    "fig.add_trace(go.Scatter(x=x, y=x**2,\n",
    "                    mode='lines',\n",
    "                    ))\n",
    "\n",
    "# 類似：plt.plot(x, x**3)  #設定第三條折線圖\n",
    "fig.add_trace(go.Scatter(x=x, y=x**3,\n",
    "                    mode='lines'))\n",
    "\n",
    "\n",
    "fig.update_layout(showlegend=False)\n",
    "\n",
    "\n",
    "\n",
    "fig.update_layout(\n",
    "    # title=\"Simple Plot\",\n",
    "    title={\n",
    "        'text': \"Simple Plot\"},\n",
    "\n",
    "    xaxis_title=\"x label\",\n",
    "    \n",
    "    yaxis_title=\"y label\",\n",
    "    \n",
    ")\n",
    "\n",
    "\n",
    "fig.show()"
   ]
  },
  {
   "cell_type": "markdown",
   "metadata": {},
   "source": [
    "### 開啟圖例與設定標籤\n",
    "![](https://imgur.com/wtFdV6S.png)\n",
    "![](https://imgur.com/aW9Edjf.png)\n",
    "\n"
   ]
  },
  {
   "cell_type": "code",
   "execution_count": null,
   "metadata": {},
   "outputs": [],
   "source": [
    "import matplotlib.pyplot as plt\n",
    "import numpy as np\n",
    "x = np.linspace(0, 2, 30)\n",
    "plt.plot(x, x, '-o',label='linear') #給予線標籤\n",
    "plt.plot(x, x**2, label='jjhhuhhuhc') #給予線標籤\n",
    "plt.plot(x, x**3, label='cubic') #給予線標籤\n",
    "plt.xlabel('x label')\n",
    "plt.ylabel('y label')\n",
    "plt.title('Simple Plot')\n",
    "plt.legend() #開啟圖例\n",
    "plt.show()"
   ]
  },
  {
   "cell_type": "code",
   "execution_count": null,
   "metadata": {},
   "outputs": [],
   "source": [
    "# Create traces\n",
    "fig = go.Figure()\n",
    "\n",
    "fig.add_trace(go.Scatter(x=x, y=x,\n",
    "                    mode='lines+markers',\n",
    "\n",
    "                    # name對應matplotlib裡面的label\n",
    "                    name='linear'))\n",
    "\n",
    "fig.add_trace(go.Scatter(x=x, y=x**2,\n",
    "                    mode='lines',\n",
    "\n",
    "                    # name對應matplotlib裡面的label\n",
    "                    name='jjhhuhhuhc'))\n",
    "\n",
    "fig.add_trace(go.Scatter(x=x, y=x**3,\n",
    "                    mode='lines', \n",
    "\n",
    "                    # name對應matplotlib裡面的label\n",
    "                    name='cubic'))\n",
    "\n",
    "\n",
    "fig.update_layout(\n",
    "    # title=\"Simple Plot\",\n",
    "    title={\n",
    "        'text': \"Simple Plot\"},\n",
    "\n",
    "    xaxis_title=\"x label\",\n",
    "    \n",
    "    yaxis_title=\"y label\",\n",
    "    \n",
    ")\n",
    "\n",
    "\n",
    "# fig.update_layout(showlegend=False)\n",
    "fig.show()"
   ]
  },
  {
   "cell_type": "markdown",
   "metadata": {},
   "source": [
    "### 圖例位置"
   ]
  },
  {
   "cell_type": "code",
   "execution_count": null,
   "metadata": {},
   "outputs": [],
   "source": [
    "import matplotlib.pyplot as plt\n",
    "import numpy as np\n",
    "x = np.linspace(0, 2, 30)\n",
    "plt.plot(x, x, '-o',label='linear') #給予線標籤\n",
    "plt.plot(x, x**2, label='quadratic') #給予線標籤\n",
    "plt.plot(x, x**3, label='cubic') #給予線標籤\n",
    "plt.xlabel('x label')\n",
    "plt.ylabel('y label')\n",
    "plt.title('Simple Plot')\n",
    "plt.legend(loc =10) # 圖例位置\n",
    "plt.show()"
   ]
  },
  {
   "cell_type": "code",
   "execution_count": null,
   "metadata": {},
   "outputs": [],
   "source": [
    "# Create traces\n",
    "fig = go.Figure()\n",
    "\n",
    "fig.add_trace(go.Scatter(x=x, y=x,\n",
    "                    mode='lines+markers',\n",
    "                    name='linear'))\n",
    "\n",
    "fig.add_trace(go.Scatter(x=x, y=x**2,\n",
    "                    mode='lines',\n",
    "                    name='jjhhuhhuhc'))\n",
    "\n",
    "fig.add_trace(go.Scatter(x=x, y=x**3,\n",
    "                    mode='lines', \n",
    "                    name='cubic'))\n",
    "\n",
    "\n",
    "fig.update_layout(\n",
    "    # title=\"Simple Plot\",\n",
    "    title={\n",
    "        'text': \"Simple Plot\"},\n",
    "\n",
    "    xaxis_title=\"x label\",\n",
    "    \n",
    "    yaxis_title=\"y label\",\n",
    "    \n",
    ")\n",
    "\n",
    "\n",
    "fig.update_layout(legend=dict(\n",
    "    orientation=\"h\",\n",
    "    yanchor=\"bottom\",\n",
    "    y=1.02,\n",
    "    xanchor=\"right\",\n",
    "    x=1\n",
    "))\n",
    "iplot(fig)\n",
    "\n",
    "\n"
   ]
  },
  {
   "cell_type": "code",
   "execution_count": null,
   "metadata": {},
   "outputs": [],
   "source": [
    "# Create traces\n",
    "fig = go.Figure()\n",
    "\n",
    "fig.add_trace(go.Scatter(x=x, y=x,\n",
    "                    mode='lines+markers',\n",
    "                    name='linear'))\n",
    "\n",
    "fig.add_trace(go.Scatter(x=x, y=x**2,\n",
    "                    mode='lines',\n",
    "                    name='jjhhuhhuhc'))\n",
    "\n",
    "fig.add_trace(go.Scatter(x=x, y=x**3,\n",
    "                    mode='lines', \n",
    "                    name='cubic'))\n",
    "\n",
    "\n",
    "fig.update_layout(\n",
    "    # title=\"Simple Plot\",\n",
    "    title={\n",
    "        'text': \"Simple Plot\"},\n",
    "\n",
    "    xaxis_title=\"x label\",\n",
    "    \n",
    "    yaxis_title=\"y label\",\n",
    "    \n",
    ")\n",
    "fig.update_layout(legend=dict(\n",
    "    orientation=\"v\",\n",
    "    yanchor=\"top\",\n",
    "    y=0.89,\n",
    "    xanchor=\"left\",\n",
    "    x=0.01\n",
    "))\n",
    "iplot(fig)"
   ]
  },
  {
   "cell_type": "code",
   "execution_count": null,
   "metadata": {},
   "outputs": [],
   "source": []
  }
 ],
 "metadata": {
  "language_info": {
   "codemirror_mode": {
    "name": "ipython",
    "version": 3
   },
   "file_extension": ".py",
   "mimetype": "text/x-python",
   "name": "python",
   "nbconvert_exporter": "python",
   "pygments_lexer": "ipython3",
   "version": "3.8.5-final"
  },
  "orig_nbformat": 2,
  "kernelspec": {
   "name": "Python 3.8.5 32-bit",
   "display_name": "Python 3.8.5 32-bit",
   "metadata": {
    "interpreter": {
     "hash": "5375478cec0731c42624206d67a78b563b1e61f470535195767a99fb7bbc330a"
    }
   }
  }
 },
 "nbformat": 4,
 "nbformat_minor": 2
}