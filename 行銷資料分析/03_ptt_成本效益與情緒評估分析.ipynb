{
 "metadata": {
  "language_info": {
   "codemirror_mode": {
    "name": "ipython",
    "version": 3
   },
   "file_extension": ".py",
   "mimetype": "text/x-python",
   "name": "python",
   "nbconvert_exporter": "python",
   "pygments_lexer": "ipython3",
   "version": "3.8.3-final"
  },
  "orig_nbformat": 2,
  "kernelspec": {
   "name": "python3",
   "display_name": "Python 3",
   "language": "python"
  }
 },
 "nbformat": 4,
 "nbformat_minor": 2,
 "cells": [
  {
   "cell_type": "code",
   "execution_count": 3,
   "metadata": {},
   "outputs": [],
   "source": [
    "import plotly.tools as tls\n",
    "import plotly.graph_objs as go\n",
    "from plotly.offline import download_plotlyjs, init_notebook_mode, plot, iplot"
   ]
  },
  {
   "cell_type": "code",
   "execution_count": 4,
   "metadata": {},
   "outputs": [],
   "source": [
    "import pandas as pd\n",
    "import numpy as np\n",
    "import jieba\n",
    "jieba.set_dictionary('dict.txt.big')"
   ]
  },
  {
   "source": [
    "# 資料前處理"
   ],
   "cell_type": "markdown",
   "metadata": {}
  },
  {
   "source": [
    "## 讀入爬蟲資料"
   ],
   "cell_type": "markdown",
   "metadata": {}
  },
  {
   "cell_type": "code",
   "execution_count": 5,
   "metadata": {},
   "outputs": [],
   "source": [
    "KoreaDrama=pd.read_csv('KoreaDrama_re.csv') #開啟檔案"
   ]
  },
  {
   "source": [
    "## 無意義字元列表，可以自行新增"
   ],
   "cell_type": "markdown",
   "metadata": {}
  },
  {
   "cell_type": "code",
   "execution_count": null,
   "metadata": {},
   "outputs": [],
   "source": [
    "removeword = ['span','class','f3','https','imgur','h1','_   blank','href','rel',\n",
    "              'nofollow','target','cdn','cgi','b4','jpg','hl','b1','f5','f4',\n",
    "              'goo.gl','f2','email','map','f1','f6','__cf___','data','bbs'\n",
    "              'html','cf','f0','b2','b3','b5','b6','原文內容','原文連結','作者'\n",
    "              '標題','時間','看板','<','>','，','。','？','—','閒聊','・','/',\n",
    "              ' ','=','\\\"','\\n','」','「','！','[',']','：','‧','╦','╔','╗','║'\n",
    "              ,'╠','╬','╬',':','╰','╩','╯','╭','╮','│','╪','─','《','》','_'\n",
    "              ,'.','、','（','）','　','*','※','~','○','”','“','～','@','＋']"
   ]
  },
  {
   "source": [
    "## 設定你關心的影劇名稱"
   ],
   "cell_type": "markdown",
   "metadata": {}
  },
  {
   "cell_type": "code",
   "execution_count": null,
   "metadata": {},
   "outputs": [],
   "source": [
    "movie = ['成為王的男人','皇后的品格','赤月青日','神的測驗',\n",
    "        '死之詠讚','王牌大律師','Priest驅魔者','加油吧威基基',\n",
    "        '皮諾丘','魔女寶鑑','好運羅曼史','購物王路易','七次初吻',\n",
    "        '男朋友','請回答1997','來自星星的你']"
   ]
  },
  {
   "source": [
    "## 將我們關心的影劇名稱加入jieba的字典裡面"
   ],
   "cell_type": "markdown",
   "metadata": {}
  },
  {
   "cell_type": "code",
   "execution_count": null,
   "metadata": {},
   "outputs": [],
   "source": [
    "for i in movie:\n",
    "    jieba.add_word(i)"
   ]
  },
  {
   "source": [
    "## 豆瓣上面的評分"
   ],
   "cell_type": "markdown",
   "metadata": {}
  },
  {
   "cell_type": "code",
   "execution_count": null,
   "metadata": {},
   "outputs": [],
   "source": [
    "bean = [6.9, 7.5, 8.6, 7.8, 8.5, 9.3, 6.8, 8.6, 8.2, 5.9, 6.7, 7.2, 5.8, 7.0, 9.0, 8.3]\n",
    "score_avg = np.mean(bean)"
   ]
  },
  {
   "cell_type": "code",
   "execution_count": null,
   "metadata": {},
   "outputs": [],
   "source": [
    "KoreaDrama['標題與內容'] = KoreaDrama['標題'] +  KoreaDrama['內容']"
   ]
  },
  {
   "source": [
    "## 移除無意義字元列"
   ],
   "cell_type": "markdown",
   "metadata": {}
  },
  {
   "cell_type": "code",
   "execution_count": null,
   "metadata": {},
   "outputs": [],
   "source": [
    "'好棒棒'.replace('好', '')"
   ]
  },
  {
   "cell_type": "code",
   "execution_count": null,
   "metadata": {},
   "outputs": [],
   "source": [
    "for word in removeword:\n",
    "    KoreaDrama['標題與內容'] = KoreaDrama['標題與內容'].str.replace(word,'')"
   ]
  },
  {
   "source": [
    "## 所有文章和標題都串在一起"
   ],
   "cell_type": "markdown",
   "metadata": {}
  },
  {
   "cell_type": "code",
   "execution_count": null,
   "metadata": {},
   "outputs": [],
   "source": [
    "theSTR = KoreaDrama['標題與內容'].tolist() \n"
   ]
  },
  {
   "cell_type": "code",
   "execution_count": null,
   "metadata": {},
   "outputs": [],
   "source": [
    "theSTR = ''.join(theSTR ) # 「標題與內容」全部併在一起"
   ]
  },
  {
   "cell_type": "code",
   "execution_count": null,
   "metadata": {},
   "outputs": [],
   "source": [
    "theSTR[0:1000]"
   ]
  },
  {
   "source": [
    "## 切詞"
   ],
   "cell_type": "markdown",
   "metadata": {}
  },
  {
   "cell_type": "code",
   "execution_count": null,
   "metadata": {},
   "outputs": [],
   "source": [
    "words = list(jieba.cut(theSTR))"
   ]
  },
  {
   "cell_type": "code",
   "execution_count": null,
   "metadata": {},
   "outputs": [],
   "source": [
    "words[0:10]"
   ]
  },
  {
   "source": [
    "## 問題：以影劇為單位，去計算每個影劇，在所有資料中的聲量"
   ],
   "cell_type": "markdown",
   "metadata": {}
  },
  {
   "cell_type": "code",
   "execution_count": null,
   "metadata": {},
   "outputs": [],
   "source": [
    "# 問題：定義在list裡面找尋字詞的function\n",
    "def search_word(word, word_list):\n",
    "    save = []\n",
    "\n",
    "    for i in word_list:\n",
    "        if word in i:\n",
    "            save.append(i)\n",
    "\n",
    "    return save"
   ]
  },
  {
   "cell_type": "code",
   "execution_count": null,
   "metadata": {},
   "outputs": [],
   "source": [
    "save = search_word(word = '來自星星的你', word_list = words)"
   ]
  },
  {
   "cell_type": "code",
   "execution_count": null,
   "metadata": {},
   "outputs": [],
   "source": [
    "save"
   ]
  },
  {
   "cell_type": "code",
   "execution_count": null,
   "metadata": {},
   "outputs": [],
   "source": [
    "# 問題：找出聲量\n",
    "# hint：len\n",
    "len(save)"
   ]
  },
  {
   "cell_type": "code",
   "execution_count": null,
   "metadata": {},
   "outputs": [],
   "source": [
    "# 如何使用for迴圈，將movie裡面的字詞都在words（wordlist）找出來聲量\n",
    "# 並且以mv_voice來存儲[ 影劇名稱, 聲量 ]\n",
    "mv_voice = []\n",
    "for i in movie:\n",
    "    save = search_word(word = i, word_list = words)\n",
    "    mv_voice.append([i, len(save) ])\n",
    "    "
   ]
  },
  {
   "cell_type": "code",
   "execution_count": null,
   "metadata": {},
   "outputs": [],
   "source": [
    "mv_voice"
   ]
  },
  {
   "cell_type": "code",
   "execution_count": null,
   "metadata": {},
   "outputs": [],
   "source": [
    "# 問題：將mv_voice list轉換成DataFrame\n",
    "# 並命名兩個欄位為「劇名」與「聲量」\n",
    "mv_voice = pd.DataFrame( mv_voice )"
   ]
  },
  {
   "cell_type": "code",
   "execution_count": null,
   "metadata": {},
   "outputs": [],
   "source": [
    "mv_voice"
   ]
  },
  {
   "cell_type": "code",
   "execution_count": null,
   "metadata": {},
   "outputs": [],
   "source": [
    "mv_voice.columns =['劇名', '聲量']"
   ]
  },
  {
   "cell_type": "code",
   "execution_count": null,
   "metadata": {},
   "outputs": [],
   "source": [
    "mv_voice"
   ]
  },
  {
   "cell_type": "code",
   "execution_count": null,
   "metadata": {},
   "outputs": [],
   "source": [
    "# 問題：將豆瓣評分（bean）給放入mv_voice中，並新增一個欄位為「評分」\n",
    "mv_voice['評分'] = bean"
   ]
  },
  {
   "cell_type": "code",
   "execution_count": null,
   "metadata": {},
   "outputs": [],
   "source": [
    "mv_voice"
   ]
  },
  {
   "source": [
    "## 計算聲量的平均"
   ],
   "cell_type": "markdown",
   "metadata": {}
  },
  {
   "cell_type": "code",
   "execution_count": null,
   "metadata": {},
   "outputs": [],
   "source": [
    "avg=np.mean(mv_voice['聲量'])"
   ]
  },
  {
   "cell_type": "code",
   "execution_count": null,
   "metadata": {},
   "outputs": [],
   "source": [
    "avg"
   ]
  },
  {
   "source": [
    "# 基礎點陣圖與cp值清單"
   ],
   "cell_type": "markdown",
   "metadata": {}
  },
  {
   "source": [
    "![](https://imgur.com/GbPK113.png)"
   ],
   "cell_type": "markdown",
   "metadata": {}
  },
  {
   "source": [
    "## 繪圖"
   ],
   "cell_type": "markdown",
   "metadata": {}
  },
  {
   "source": [
    "## 判斷四個象限所在的位置，來決定顏色"
   ],
   "cell_type": "markdown",
   "metadata": {}
  },
  {
   "cell_type": "code",
   "execution_count": null,
   "metadata": {},
   "outputs": [],
   "source": [
    "mv_voice.head(3)"
   ]
  },
  {
   "cell_type": "code",
   "execution_count": null,
   "metadata": {},
   "outputs": [],
   "source": [
    "mv_voice['評分'].iloc[0]"
   ]
  },
  {
   "cell_type": "code",
   "execution_count": null,
   "metadata": {},
   "outputs": [],
   "source": [
    "len(mv_voice)"
   ]
  },
  {
   "cell_type": "code",
   "execution_count": null,
   "metadata": {},
   "outputs": [],
   "source": [
    "axe_list = []\n",
    "for i in range(len(mv_voice)):\n",
    "    if mv_voice['評分'].iloc[i] > score_avg and mv_voice['聲量'].iloc[i] > avg:#1_第一象限\n",
    "        color = 'blue'\n",
    "        axe = '1_第一象限'\n",
    "        \n",
    "    elif mv_voice['評分'].iloc[i] >score_avg and mv_voice['聲量'].iloc[i]<= avg:#4_第四象限\n",
    "        color = 'green'\n",
    "        axe = '4_第四象限'\n",
    "        \n",
    "    elif mv_voice['評分'].iloc[i] <=score_avg and  mv_voice['聲量'].iloc[i]> avg:\n",
    "        color = 'red'\n",
    "        axe = '2_第二象限'\n",
    "        \n",
    "    else:#2_第二象限\n",
    "        color = 'black'\n",
    "        axe = '3_第三象限'\n",
    "    # plt.scatter(bean[i],mv_voice[i], color=color)\n",
    "\n",
    "    # voice_list.append(mv_voice[i])\n",
    "    # bean_list.append(bean[i])\n",
    "    axe_list.append(axe)\n",
    "\n",
    "# plt.axhline(avg, color='c', linestyle='dashed', linewidth=1) # 繪製水平平均線 \n",
    "# plt.axvline(score_avg, color='c', linestyle='dashed', linewidth=1) # 繪製垂直平均線  \n",
    "\n",
    "# plt.title(\"scatter\",fontsize=30)#標題\n",
    "# plt.ylabel(\"frequency\",fontsize=15)#y的標題\n",
    "# plt.xlabel(\"ratings\",fontsize=15) #x的標題\n",
    "# plt.legend()\n",
    "# plt.show()"
   ]
  },
  {
   "source": [
    "## 製作清單"
   ],
   "cell_type": "markdown",
   "metadata": {}
  },
  {
   "cell_type": "code",
   "execution_count": null,
   "metadata": {},
   "outputs": [],
   "source": [
    "axe_list"
   ]
  },
  {
   "cell_type": "code",
   "execution_count": null,
   "metadata": {},
   "outputs": [],
   "source": [
    "# 問題：將axe_list加入到mv_voice裡面，增加欄位「象限」\n",
    "mv_voice['象限'] = axe_list"
   ]
  },
  {
   "cell_type": "code",
   "execution_count": null,
   "metadata": {},
   "outputs": [],
   "source": [
    "mv_voice"
   ]
  },
  {
   "source": [
    "## 問題：將mv_voice根據「象限」由第一象限排序到第四象限"
   ],
   "cell_type": "markdown",
   "metadata": {}
  },
  {
   "cell_type": "code",
   "execution_count": null,
   "metadata": {},
   "outputs": [],
   "source": [
    "mv_voice = mv_voice.sort_values('象限')"
   ]
  },
  {
   "cell_type": "code",
   "execution_count": null,
   "metadata": {},
   "outputs": [],
   "source": [
    "mv_voice"
   ]
  },
  {
   "source": [
    "## 問題：將mv_voice輸出csv\n",
    "## 名稱：評分與聲量圖.csv"
   ],
   "cell_type": "markdown",
   "metadata": {}
  },
  {
   "cell_type": "code",
   "execution_count": null,
   "metadata": {},
   "outputs": [],
   "source": [
    "mv_voice.to_csv('評分與聲量圖.csv', encoding='UTF-8-sig')"
   ]
  },
  {
   "source": [
    "# 成本效益評估分析"
   ],
   "cell_type": "markdown",
   "metadata": {}
  },
  {
   "source": [
    "![](https://imgur.com/RcPeewO.png)"
   ],
   "cell_type": "markdown",
   "metadata": {}
  },
  {
   "source": [
    "## 我們可不可以加入每一則影劇的成本？\n",
    "## 問題：請讀取drama_cost.csv，並存到drama_cost裡面"
   ],
   "cell_type": "markdown",
   "metadata": {}
  },
  {
   "cell_type": "code",
   "execution_count": null,
   "metadata": {},
   "outputs": [],
   "source": [
    "drama_cost = pd.read_csv('drama_cost.csv', encoding='cp950') #encoding='cp950'"
   ]
  },
  {
   "cell_type": "code",
   "execution_count": null,
   "metadata": {},
   "outputs": [],
   "source": [
    "drama_cost"
   ]
  },
  {
   "cell_type": "code",
   "execution_count": null,
   "metadata": {},
   "outputs": [],
   "source": [
    "mv_voice"
   ]
  },
  {
   "cell_type": "code",
   "execution_count": null,
   "metadata": {},
   "outputs": [],
   "source": [
    "# 問題：將drama_cost的cost欄位加入mv_voice，並將欄位取名為「成本」\n",
    "# merge 等同於 excel裡面的vlookup\n",
    "mv_voice = mv_voice.merge( drama_cost, on = '劇名', how = 'left' )"
   ]
  },
  {
   "cell_type": "code",
   "execution_count": null,
   "metadata": {},
   "outputs": [],
   "source": [
    "mv_voice"
   ]
  },
  {
   "cell_type": "code",
   "execution_count": null,
   "metadata": {},
   "outputs": [],
   "source": [
    "# 將cost欄位改成「成本」\n",
    "\n",
    "mv_voice = mv_voice.rename( columns = { 'cost' :  '成本'  } )\n",
    "mv_voice"
   ]
  },
  {
   "source": [
    "## 計算drama_cost成本(cost)的平均（mean），作為X軸的分割線"
   ],
   "cell_type": "markdown",
   "metadata": {}
  },
  {
   "source": [
    "avg_cost = drama_cost['cost'].mean()\n",
    "\n",
    "# fig = plt.figure(figsize=(15,10))\n",
    "voice_list =[]\n",
    "cost_list = []\n",
    "axe_list = []\n",
    "for i in range(len(drama_cost['cost'])):\n",
    "    if mv_voice['成本'].iloc[i] > avg_cost and mv_voice['聲量'].iloc[i] >avg:#1_第一象限\n",
    "        color = 'blue'\n",
    "        axe = '1_第一象限'\n",
    "        \n",
    "    elif mv_voice['成本'].iloc[i] > avg_cost and mv_voice['聲量'].iloc[i] <= avg:#4_第四象限\n",
    "        color = 'green'\n",
    "        axe = '4_第四象限'\n",
    "        \n",
    "    elif mv_voice['成本'].iloc[i] <= avg_cost and mv_voice['聲量'].iloc[i] > avg:#3_第三象限\n",
    "        color = 'red'\n",
    "        axe = '2_第二象限'\n",
    "        \n",
    "    else:#2_第二象限\n",
    "        color = 'black'\n",
    "        axe = '3_第三象限'\n",
    "        \n",
    "    axe_list.append(axe)\n",
    "    \n",
    "    "
   ],
   "cell_type": "code",
   "metadata": {},
   "execution_count": null,
   "outputs": []
  },
  {
   "source": [
    "## 製作清單"
   ],
   "cell_type": "markdown",
   "metadata": {}
  },
  {
   "cell_type": "code",
   "execution_count": null,
   "metadata": {},
   "outputs": [],
   "source": [
    "# 問題：將axe_list加入到mv_voice裡面，增加欄位「成本效益象限」\n",
    "mv_voice['成本效益象限'] = axe_list"
   ]
  },
  {
   "cell_type": "code",
   "execution_count": null,
   "metadata": {},
   "outputs": [],
   "source": [
    "mv_voice"
   ]
  },
  {
   "source": [
    "## 將mv_voice根據「象限」由第一現象排序到第四象限"
   ],
   "cell_type": "markdown",
   "metadata": {}
  },
  {
   "cell_type": "code",
   "execution_count": null,
   "metadata": {},
   "outputs": [],
   "source": [
    "mv_voice = mv_voice.sort_values('成本效益象限')"
   ]
  },
  {
   "cell_type": "code",
   "execution_count": null,
   "metadata": {},
   "outputs": [],
   "source": [
    "mv_voice"
   ]
  },
  {
   "source": [
    "## 請將mv_voice輸出csv"
   ],
   "cell_type": "markdown",
   "metadata": {}
  },
  {
   "cell_type": "code",
   "execution_count": null,
   "metadata": {},
   "outputs": [],
   "source": [
    "mv_voice.to_csv('成本效益評估分析.csv', encoding = 'utf-8-sig')"
   ]
  },
  {
   "source": [
    "# 動態圖製作 - 成本效益評估分析"
   ],
   "cell_type": "markdown",
   "metadata": {}
  },
  {
   "cell_type": "code",
   "execution_count": null,
   "metadata": {},
   "outputs": [],
   "source": [
    "import plotly.express as px"
   ]
  },
  {
   "source": [
    "## 問題：\n",
    "- x 為成本\n",
    "-  y 為聲量（關注程度）\n",
    "-  以成本效益象限當做顏色點的區分\n",
    "-  size大小以成本區分"
   ],
   "cell_type": "markdown",
   "metadata": {}
  },
  {
   "cell_type": "code",
   "execution_count": null,
   "metadata": {},
   "outputs": [],
   "source": [
    "mv_voice.head(2)"
   ]
  },
  {
   "cell_type": "code",
   "execution_count": null,
   "metadata": {},
   "outputs": [],
   "source": [
    "# scatter: 散佈圖\n",
    "fig = px.scatter(mv_voice,\n",
    "                x = '成本',\n",
    "                 y = '聲量',\n",
    "\n",
    "                 # 點的大小\n",
    "                 size = '成本',\n",
    "\n",
    "                 # 點的顏色\n",
    "                 color = '成本效益象限',\n",
    "\n",
    "                 # 新增點的名稱\n",
    "                 hover_data=['劇名'])\n",
    "\n",
    "plot(fig, filename='成本效益評估分析1.html')"
   ]
  },
  {
   "source": [
    "## 接下來，我們要將X軸與Y軸放入動態圖中！\n",
    "## 我們會使用的是 update_layout\n",
    "\n",
    "![](https://imgur.com/2b3ZR2u.png)\n",
    "![](https://imgur.com/coC68XJ.png)\n",
    "![](https://imgur.com/hkMyuhS.png)\n",
    "![](https://imgur.com/pl6p20r.png)\n",
    "\n",
    "\n"
   ],
   "cell_type": "markdown",
   "metadata": {}
  },
  {
   "cell_type": "code",
   "execution_count": null,
   "metadata": {},
   "outputs": [],
   "source": [
    "\n",
    "fig.update_layout(\n",
    "        \n",
    "        title = '成本效益評估分析',\n",
    "        shapes=[\n",
    "        \n",
    "        # 設定X軸\n",
    "        dict({\n",
    "            'type': 'line',\n",
    "            'x0': avg_cost,\n",
    "            'y0': -10,\n",
    "            \n",
    "            'x1': avg_cost,\n",
    "            'y1': mv_voice['聲量'].max()*1.1,\n",
    "\n",
    "            }),\n",
    "    \n",
    "        # 設定Y軸\n",
    "        dict({\n",
    "            'type': 'line',\n",
    "            'x0': 0,\n",
    "            'y0': avg,\n",
    "            \n",
    "            'x1': mv_voice['成本'].max()*1.1,\n",
    "            'y1': avg,\n",
    "            \n",
    "            })\n",
    "    \n",
    "    ])\n",
    "\n",
    "plot(fig, filename='成本效益評估分析2.html')"
   ]
  },
  {
   "source": [
    "# 情緒分析圖"
   ],
   "cell_type": "markdown",
   "metadata": {}
  },
  {
   "source": [
    "![](https://imgur.com/JTjlRTt.png)"
   ],
   "cell_type": "markdown",
   "metadata": {}
  },
  {
   "source": [
    "![](https://imgur.com/mU373B7.png)"
   ],
   "cell_type": "markdown",
   "metadata": {}
  },
  {
   "source": [
    "## 我們可不可以加入正負面聲量？\n",
    "## 目的：了解目前評論的正負聲量，作為買進的參考指標"
   ],
   "cell_type": "markdown",
   "metadata": {}
  },
  {
   "cell_type": "code",
   "execution_count": null,
   "metadata": {},
   "outputs": [],
   "source": [
    "from Self_sentiment import Self_sentiment\n",
    "sentiment = Self_sentiment()\n",
    "sentiment.load('MultinomialNB') "
   ]
  },
  {
   "source": [
    "## 範例 "
   ],
   "cell_type": "markdown",
   "metadata": {}
  },
  {
   "cell_type": "code",
   "execution_count": null,
   "metadata": {},
   "outputs": [],
   "source": [
    "content_self = '資料來源百百款，種類繁複，有些由人們所產生，有些則由機器所產生；有些資料存放在企業內部，極其珍貴，有些資料則屬於外部來源，讓資料科學家可以信手拈來。'\n",
    "\n",
    "dist= sentiment.sentiment(content_self)\n",
    "\n",
    "dist\n",
    "\n",
    "# pos 正向\n",
    "# neg 負向\n",
    "# Range 從 0 ~ 1, 通常 pos >= 0.5 即是正向\n",
    "dist.prob('pos')   "
   ]
  },
  {
   "source": [
    "## 統計正負輿情 範例"
   ],
   "cell_type": "markdown",
   "metadata": {}
  },
  {
   "cell_type": "code",
   "execution_count": null,
   "metadata": {},
   "outputs": [],
   "source": [
    "j = '來自星星的你'\n",
    "star = KoreaDrama[KoreaDrama['標題與內容'].str.contains(j)]\n",
    "star \n"
   ]
  },
  {
   "cell_type": "code",
   "execution_count": null,
   "metadata": {},
   "outputs": [],
   "source": [
    "dist= sentiment.sentiment(star['標題與內容'].iloc[0])\n",
    "dist.prob('pos') "
   ]
  },
  {
   "source": [
    "# 2020/12/15 進度到此"
   ],
   "cell_type": "markdown",
   "metadata": {}
  },
  {
   "source": [
    "## 計算不同韓劇的情緒分數"
   ],
   "cell_type": "markdown",
   "metadata": {}
  },
  {
   "cell_type": "code",
   "execution_count": null,
   "metadata": {},
   "outputs": [],
   "source": [
    "from cp import calculate_sentiment_pos\n",
    "mv_sent = calculate_sentiment_pos(KoreaDrama=KoreaDrama,\n",
    "                        movie=movie,\n",
    "                        col='標題與內容' )\n",
    "mv_sent\n",
    "\n",
    "mv_voice['情緒分數'] = mv_sent\n",
    "\n",
    "mv_voice['評分'] = bean"
   ]
  },
  {
   "source": [
    "## 將mv_voice根據「象限」由第一象限排序到第四象限"
   ],
   "cell_type": "markdown",
   "metadata": {}
  },
  {
   "cell_type": "code",
   "execution_count": null,
   "metadata": {},
   "outputs": [],
   "source": [
    "mv_voice = mv_voice.sort_values('成本效益象限')"
   ]
  },
  {
   "source": [
    "## 請將mv_voice輸出csv"
   ],
   "cell_type": "markdown",
   "metadata": {}
  },
  {
   "cell_type": "code",
   "execution_count": null,
   "metadata": {},
   "outputs": [],
   "source": [
    "mv_voice.to_csv('成本效益與情緒評估分析.csv', encoding = 'utf-8-sig')"
   ]
  },
  {
   "source": [
    "## 問題：將「動態圖製作 - 成本效益評估分析」中的\n",
    "## size變成「情緒分數」\n",
    "## title變成 「成本效益與情緒評估分析」"
   ],
   "cell_type": "markdown",
   "metadata": {}
  },
  {
   "cell_type": "code",
   "execution_count": null,
   "metadata": {},
   "outputs": [],
   "source": [
    "import plotly.express as px"
   ]
  },
  {
   "cell_type": "code",
   "execution_count": null,
   "metadata": {},
   "outputs": [],
   "source": [
    "fig = px.scatter(mv_voice, x=\"成本\", y=\"聲量\", \n",
    "                 color=\"成本效益象限\",\n",
    "                 size= '？？？？', hover_data=['劇名'], \n",
    "                 title = '？？？？')\n",
    "\n",
    "\n",
    "fig.update_layout(\n",
    "        \n",
    "        shapes=[\n",
    "        \n",
    "        # 設定X軸\n",
    "        dict({\n",
    "            'type': 'line',\n",
    "            'x0': avg_cost,\n",
    "            'y0': -10,\n",
    "            \n",
    "            'x1': avg_cost,\n",
    "            'y1': mv_voice['聲量'].max()*1.1,\n",
    "            }),\n",
    "    \n",
    "        # 設定Y軸\n",
    "        dict({\n",
    "            'type': 'line',\n",
    "            'x0': 0,\n",
    "            'y0': avg,\n",
    "            \n",
    "            'x1': mv_voice['成本'].max()*1.1,\n",
    "            'y1': avg,\n",
    "           })\n",
    "    \n",
    "    ])\n",
    "\n",
    "    \n",
    "plot(fig, filename='成本效益與情緒評估分析.html')\n"
   ]
  },
  {
   "source": [
    "# 綜整模組"
   ],
   "cell_type": "markdown",
   "metadata": {}
  },
  {
   "cell_type": "code",
   "execution_count": 6,
   "metadata": {},
   "outputs": [],
   "source": [
    "import pandas as pd\n",
    "import numpy as np\n",
    "import jieba\n",
    "jieba.set_dictionary('dict.txt.big')"
   ]
  },
  {
   "source": [
    "## 無意義字元列表，可以自行新增"
   ],
   "cell_type": "markdown",
   "metadata": {}
  },
  {
   "cell_type": "code",
   "execution_count": 7,
   "metadata": {},
   "outputs": [],
   "source": [
    "# 停止字stop word：專門為ptt的，如果抓有抓取不同論壇，如：dcard等，自己觀察官的停止字，並補充上去。\n",
    "removeword = ['span','class','f3','https','imgur','h1','_   blank','href','rel',\n",
    "              'nofollow','target','cdn','cgi','b4','jpg','hl','b1','f5','f4',\n",
    "              'goo.gl','f2','email','map','f1','f6','__cf___','data','bbs'\n",
    "              'html','cf','f0','b2','b3','b5','b6','原文內容','原文連結','作者'\n",
    "              '標題','時間','看板','<','>','，','。','？','—','閒聊','・','/',\n",
    "              ' ','=','\\\"','\\n','」','「','！','[',']','：','‧','╦','╔','╗','║'\n",
    "              ,'╠','╬','╬',':','╰','╩','╯','╭','╮','│','╪','─','《','》','_'\n",
    "              ,'.','、','（','）','　','*','※','~','○','”','“','～','@','＋']"
   ]
  },
  {
   "source": [
    "## 讀入爬蟲資料"
   ],
   "cell_type": "markdown",
   "metadata": {}
  },
  {
   "cell_type": "code",
   "execution_count": 10,
   "metadata": {},
   "outputs": [],
   "source": [
    "# 請從過的資料 MDS_06-->03ppt_crawler-->爬取ppt爬取ppt版位\n",
    "KoreaDrama=pd.read_csv('KoreaDrama_re.csv') #開啟檔案"
   ]
  },
  {
   "source": [
    "## 設定你關心的影劇名稱"
   ],
   "cell_type": "markdown",
   "metadata": {}
  },
  {
   "cell_type": "code",
   "execution_count": 11,
   "metadata": {},
   "outputs": [],
   "source": [
    "# 設定與想得知的「產品」\n",
    "movie = ['成為王的男人','皇后的品格','赤月青日','神的測驗',\n",
    "        '死之詠讚','王牌大律師','Priest驅魔者','加油吧威基基',\n",
    "        '皮諾丘','魔女寶鑑','好運羅曼史','購物王路易','七次初吻',\n",
    "        '男朋友','請回答1997','來自星星的你']"
   ]
  },
  {
   "source": [
    "## 喜劇評分"
   ],
   "cell_type": "markdown",
   "metadata": {}
  },
  {
   "cell_type": "code",
   "execution_count": 12,
   "metadata": {},
   "outputs": [],
   "source": [
    "# 自己設定的屬性(source:內、外部資料)\n",
    "bean = [6.9, 7.5, 8.6, 7.8, 8.5, 9.3, 6.8, 8.6, 8.2, 5.9, 6.7, 7.2, 5.8, 7.0, 9.0, 8.3]"
   ]
  },
  {
   "source": [
    "## 加入成本要素"
   ],
   "cell_type": "markdown",
   "metadata": {}
  },
  {
   "cell_type": "code",
   "execution_count": 14,
   "metadata": {},
   "outputs": [],
   "source": [
    "# 自己設定的「內部資料」，通常或與x相關，例如：成本\n",
    "\n",
    "drama_cost = pd.read_csv('drama_cost.csv', encoding ='cp950')"
   ]
  },
  {
   "cell_type": "code",
   "execution_count": 15,
   "metadata": {},
   "outputs": [
    {
     "output_type": "stream",
     "name": "stderr",
     "text": [
      "Building prefix dict from d:\\學校\\台科大\\碩二上學期\\(旁)行銷資料科學\\20201229\\01_產品價值分類模型與實戰\\dict.txt.big ...\n",
      "Dumping model to file cache C:\\Users\\user\\AppData\\Local\\Temp\\jieba.u8ebfd45f39c5f3b5d96fb0740ed57b4e.cache\n",
      "Loading model cost 0.972 seconds.\n",
      "Prefix dict has been built successfully.\n",
      "load default bestMainFeatures\n",
      "load default bestMainFeatures success!!\n",
      "load model from MultinomialNB\n"
     ]
    }
   ],
   "source": [
    "from cp import plt_cp_product"
   ]
  },
  {
   "source": [
    "## removeword:要刪除字詞\n",
    "## movie : 我們的產品\n",
    "## bean : 產品評分\n",
    "## drama cost : 產品的成本\n",
    "## KoreaDrama : 從ptt裡面爬下來的資料"
   ],
   "cell_type": "markdown",
   "metadata": {}
  },
  {
   "cell_type": "code",
   "execution_count": 16,
   "metadata": {},
   "outputs": [
    {
     "output_type": "stream",
     "name": "stderr",
     "text": [
      "No handles with labels found to put in legend.\n"
     ]
    },
    {
     "output_type": "display_data",
     "data": {
      "text/plain": "<Figure size 432x288 with 1 Axes>",
      "image/svg+xml": "<?xml version=\"1.0\" encoding=\"utf-8\" standalone=\"no\"?>\r\n<!DOCTYPE svg PUBLIC \"-//W3C//DTD SVG 1.1//EN\"\r\n  \"http://www.w3.org/Graphics/SVG/1.1/DTD/svg11.dtd\">\r\n<!-- Created with matplotlib (https://matplotlib.org/) -->\r\n<svg height=\"296.069687pt\" version=\"1.1\" viewBox=\"0 0 387.442187 296.069687\" width=\"387.442187pt\" xmlns=\"http://www.w3.org/2000/svg\" xmlns:xlink=\"http://www.w3.org/1999/xlink\">\r\n <defs>\r\n  <style type=\"text/css\">\r\n*{stroke-linecap:butt;stroke-linejoin:round;}\r\n  </style>\r\n </defs>\r\n <g id=\"figure_1\">\r\n  <g id=\"patch_1\">\r\n   <path d=\"M 0 296.069687 \r\nL 387.442187 296.069687 \r\nL 387.442187 0 \r\nL 0 0 \r\nz\r\n\" style=\"fill:none;\"/>\r\n  </g>\r\n  <g id=\"axes_1\">\r\n   <g id=\"patch_2\">\r\n    <path d=\"M 45.442188 253.674375 \r\nL 380.242188 253.674375 \r\nL 380.242188 36.234375 \r\nL 45.442188 36.234375 \r\nz\r\n\" style=\"fill:#ffffff;\"/>\r\n   </g>\r\n   <g id=\"PathCollection_1\">\r\n    <defs>\r\n     <path d=\"M 0 3 \r\nC 0.795609 3 1.55874 2.683901 2.12132 2.12132 \r\nC 2.683901 1.55874 3 0.795609 3 0 \r\nC 3 -0.795609 2.683901 -1.55874 2.12132 -2.12132 \r\nC 1.55874 -2.683901 0.795609 -3 0 -3 \r\nC -0.795609 -3 -1.55874 -2.683901 -2.12132 -2.12132 \r\nC -2.683901 -1.55874 -3 -0.795609 -3 0 \r\nC -3 0.795609 -2.683901 1.55874 -2.12132 2.12132 \r\nC -1.55874 2.683901 -0.795609 3 0 3 \r\nz\r\n\" id=\"m5e3069bede\" style=\"stroke:#000000;\"/>\r\n    </defs>\r\n    <g clip-path=\"url(#p3b72865db7)\">\r\n     <use style=\"stroke:#000000;\" x=\"156.317512\" xlink:href=\"#m5e3069bede\" y=\"231.037659\"/>\r\n    </g>\r\n   </g>\r\n   <g id=\"PathCollection_2\">\r\n    <defs>\r\n     <path d=\"M 0 3 \r\nC 0.795609 3 1.55874 2.683901 2.12132 2.12132 \r\nC 2.683901 1.55874 3 0.795609 3 0 \r\nC 3 -0.795609 2.683901 -1.55874 2.12132 -2.12132 \r\nC 1.55874 -2.683901 0.795609 -3 0 -3 \r\nC -0.795609 -3 -1.55874 -2.683901 -2.12132 -2.12132 \r\nC -2.683901 -1.55874 -3 -0.795609 -3 0 \r\nC -3 0.795609 -2.683901 1.55874 -2.12132 2.12132 \r\nC -1.55874 2.683901 -0.795609 3 0 3 \r\nz\r\n\" id=\"m537a1d152a\" style=\"stroke:#ff0000;\"/>\r\n    </defs>\r\n    <g clip-path=\"url(#p3b72865db7)\">\r\n     <use style=\"fill:#ff0000;stroke:#ff0000;\" x=\"208.494136\" xlink:href=\"#m537a1d152a\" y=\"46.118011\"/>\r\n    </g>\r\n   </g>\r\n   <g id=\"PathCollection_3\">\r\n    <defs>\r\n     <path d=\"M 0 3 \r\nC 0.795609 3 1.55874 2.683901 2.12132 2.12132 \r\nC 2.683901 1.55874 3 0.795609 3 0 \r\nC 3 -0.795609 2.683901 -1.55874 2.12132 -2.12132 \r\nC 1.55874 -2.683901 0.795609 -3 0 -3 \r\nC -0.795609 -3 -1.55874 -2.683901 -2.12132 -2.12132 \r\nC -2.683901 -1.55874 -3 -0.795609 -3 0 \r\nC -3 0.795609 -2.683901 1.55874 -2.12132 2.12132 \r\nC -1.55874 2.683901 -0.795609 3 0 3 \r\nz\r\n\" id=\"md91c53236a\" style=\"stroke:#0000ff;\"/>\r\n    </defs>\r\n    <g clip-path=\"url(#p3b72865db7)\">\r\n     <use style=\"fill:#0000ff;stroke:#0000ff;\" x=\"304.151278\" xlink:href=\"#md91c53236a\" y=\"157.707454\"/>\r\n    </g>\r\n   </g>\r\n   <g id=\"PathCollection_4\">\r\n    <g clip-path=\"url(#p3b72865db7)\">\r\n     <use style=\"fill:#0000ff;stroke:#0000ff;\" x=\"234.582447\" xlink:href=\"#md91c53236a\" y=\"160.895724\"/>\r\n    </g>\r\n   </g>\r\n   <g id=\"PathCollection_5\">\r\n    <g clip-path=\"url(#p3b72865db7)\">\r\n     <use style=\"fill:#0000ff;stroke:#0000ff;\" x=\"295.455175\" xlink:href=\"#md91c53236a\" y=\"119.448217\"/>\r\n    </g>\r\n   </g>\r\n   <g id=\"PathCollection_6\">\r\n    <defs>\r\n     <path d=\"M 0 3 \r\nC 0.795609 3 1.55874 2.683901 2.12132 2.12132 \r\nC 2.683901 1.55874 3 0.795609 3 0 \r\nC 3 -0.795609 2.683901 -1.55874 2.12132 -2.12132 \r\nC 1.55874 -2.683901 0.795609 -3 0 -3 \r\nC -0.795609 -3 -1.55874 -2.683901 -2.12132 -2.12132 \r\nC -2.683901 -1.55874 -3 -0.795609 -3 0 \r\nC -3 0.795609 -2.683901 1.55874 -2.12132 2.12132 \r\nC -1.55874 2.683901 -0.795609 3 0 3 \r\nz\r\n\" id=\"mec7f2839a4\" style=\"stroke:#008000;\"/>\r\n    </defs>\r\n    <g clip-path=\"url(#p3b72865db7)\">\r\n     <use style=\"fill:#008000;stroke:#008000;\" x=\"365.024006\" xlink:href=\"#mec7f2839a4\" y=\"243.790739\"/>\r\n    </g>\r\n   </g>\r\n   <g id=\"PathCollection_7\">\r\n    <g clip-path=\"url(#p3b72865db7)\">\r\n     <use style=\"stroke:#000000;\" x=\"147.621408\" xlink:href=\"#m5e3069bede\" y=\"215.09631\"/>\r\n    </g>\r\n   </g>\r\n   <g id=\"PathCollection_8\">\r\n    <g clip-path=\"url(#p3b72865db7)\">\r\n     <use style=\"fill:#008000;stroke:#008000;\" x=\"304.151278\" xlink:href=\"#mec7f2839a4\" y=\"205.531501\"/>\r\n    </g>\r\n   </g>\r\n   <g id=\"PathCollection_9\">\r\n    <g clip-path=\"url(#p3b72865db7)\">\r\n     <use style=\"fill:#0000ff;stroke:#0000ff;\" x=\"269.366863\" xlink:href=\"#md91c53236a\" y=\"180.025343\"/>\r\n    </g>\r\n   </g>\r\n   <g id=\"PathCollection_10\">\r\n    <g clip-path=\"url(#p3b72865db7)\">\r\n     <use style=\"stroke:#000000;\" x=\"69.356473\" xlink:href=\"#m5e3069bede\" y=\"199.154962\"/>\r\n    </g>\r\n   </g>\r\n   <g id=\"PathCollection_11\">\r\n    <g clip-path=\"url(#p3b72865db7)\">\r\n     <use style=\"stroke:#000000;\" x=\"138.925304\" xlink:href=\"#m5e3069bede\" y=\"243.790739\"/>\r\n    </g>\r\n   </g>\r\n   <g id=\"PathCollection_12\">\r\n    <g clip-path=\"url(#p3b72865db7)\">\r\n     <use style=\"stroke:#000000;\" x=\"182.405824\" xlink:href=\"#m5e3069bede\" y=\"243.790739\"/>\r\n    </g>\r\n   </g>\r\n   <g id=\"PathCollection_13\">\r\n    <g clip-path=\"url(#p3b72865db7)\">\r\n     <use style=\"stroke:#000000;\" x=\"60.660369\" xlink:href=\"#m5e3069bede\" y=\"243.790739\"/>\r\n    </g>\r\n   </g>\r\n   <g id=\"PathCollection_14\">\r\n    <g clip-path=\"url(#p3b72865db7)\">\r\n     <use style=\"fill:#ff0000;stroke:#ff0000;\" x=\"165.013616\" xlink:href=\"#m537a1d152a\" y=\"78.000709\"/>\r\n    </g>\r\n   </g>\r\n   <g id=\"PathCollection_15\">\r\n    <g clip-path=\"url(#p3b72865db7)\">\r\n     <use style=\"fill:#008000;stroke:#008000;\" x=\"338.935694\" xlink:href=\"#mec7f2839a4\" y=\"243.790739\"/>\r\n    </g>\r\n   </g>\r\n   <g id=\"PathCollection_16\">\r\n    <g clip-path=\"url(#p3b72865db7)\">\r\n     <use style=\"fill:#008000;stroke:#008000;\" x=\"278.062967\" xlink:href=\"#mec7f2839a4\" y=\"211.908041\"/>\r\n    </g>\r\n   </g>\r\n   <g id=\"matplotlib.axis_1\">\r\n    <g id=\"xtick_1\">\r\n     <g id=\"line2d_1\">\r\n      <defs>\r\n       <path d=\"M 0 0 \r\nL 0 3.5 \r\n\" id=\"me8c0e9c4d6\" style=\"stroke:#000000;stroke-width:0.8;\"/>\r\n      </defs>\r\n      <g>\r\n       <use style=\"stroke:#000000;stroke-width:0.8;\" x=\"78.052577\" xlink:href=\"#me8c0e9c4d6\" y=\"253.674375\"/>\r\n      </g>\r\n     </g>\r\n     <g id=\"text_1\">\r\n      <!-- 6.0 -->\r\n      <defs>\r\n       <path d=\"M 33.015625 40.375 \r\nQ 26.375 40.375 22.484375 35.828125 \r\nQ 18.609375 31.296875 18.609375 23.390625 \r\nQ 18.609375 15.53125 22.484375 10.953125 \r\nQ 26.375 6.390625 33.015625 6.390625 \r\nQ 39.65625 6.390625 43.53125 10.953125 \r\nQ 47.40625 15.53125 47.40625 23.390625 \r\nQ 47.40625 31.296875 43.53125 35.828125 \r\nQ 39.65625 40.375 33.015625 40.375 \r\nz\r\nM 52.59375 71.296875 \r\nL 52.59375 62.3125 \r\nQ 48.875 64.0625 45.09375 64.984375 \r\nQ 41.3125 65.921875 37.59375 65.921875 \r\nQ 27.828125 65.921875 22.671875 59.328125 \r\nQ 17.53125 52.734375 16.796875 39.40625 \r\nQ 19.671875 43.65625 24.015625 45.921875 \r\nQ 28.375 48.1875 33.59375 48.1875 \r\nQ 44.578125 48.1875 50.953125 41.515625 \r\nQ 57.328125 34.859375 57.328125 23.390625 \r\nQ 57.328125 12.15625 50.6875 5.359375 \r\nQ 44.046875 -1.421875 33.015625 -1.421875 \r\nQ 20.359375 -1.421875 13.671875 8.265625 \r\nQ 6.984375 17.96875 6.984375 36.375 \r\nQ 6.984375 53.65625 15.1875 63.9375 \r\nQ 23.390625 74.21875 37.203125 74.21875 \r\nQ 40.921875 74.21875 44.703125 73.484375 \r\nQ 48.484375 72.75 52.59375 71.296875 \r\nz\r\n\" id=\"DejaVuSans-54\"/>\r\n       <path d=\"M 10.6875 12.40625 \r\nL 21 12.40625 \r\nL 21 0 \r\nL 10.6875 0 \r\nz\r\n\" id=\"DejaVuSans-46\"/>\r\n       <path d=\"M 31.78125 66.40625 \r\nQ 24.171875 66.40625 20.328125 58.90625 \r\nQ 16.5 51.421875 16.5 36.375 \r\nQ 16.5 21.390625 20.328125 13.890625 \r\nQ 24.171875 6.390625 31.78125 6.390625 \r\nQ 39.453125 6.390625 43.28125 13.890625 \r\nQ 47.125 21.390625 47.125 36.375 \r\nQ 47.125 51.421875 43.28125 58.90625 \r\nQ 39.453125 66.40625 31.78125 66.40625 \r\nz\r\nM 31.78125 74.21875 \r\nQ 44.046875 74.21875 50.515625 64.515625 \r\nQ 56.984375 54.828125 56.984375 36.375 \r\nQ 56.984375 17.96875 50.515625 8.265625 \r\nQ 44.046875 -1.421875 31.78125 -1.421875 \r\nQ 19.53125 -1.421875 13.0625 8.265625 \r\nQ 6.59375 17.96875 6.59375 36.375 \r\nQ 6.59375 54.828125 13.0625 64.515625 \r\nQ 19.53125 74.21875 31.78125 74.21875 \r\nz\r\n\" id=\"DejaVuSans-48\"/>\r\n      </defs>\r\n      <g transform=\"translate(70.101015 268.272812)scale(0.1 -0.1)\">\r\n       <use xlink:href=\"#DejaVuSans-54\"/>\r\n       <use x=\"63.623047\" xlink:href=\"#DejaVuSans-46\"/>\r\n       <use x=\"95.410156\" xlink:href=\"#DejaVuSans-48\"/>\r\n      </g>\r\n     </g>\r\n    </g>\r\n    <g id=\"xtick_2\">\r\n     <g id=\"line2d_2\">\r\n      <g>\r\n       <use style=\"stroke:#000000;stroke-width:0.8;\" x=\"121.533097\" xlink:href=\"#me8c0e9c4d6\" y=\"253.674375\"/>\r\n      </g>\r\n     </g>\r\n     <g id=\"text_2\">\r\n      <!-- 6.5 -->\r\n      <defs>\r\n       <path d=\"M 10.796875 72.90625 \r\nL 49.515625 72.90625 \r\nL 49.515625 64.59375 \r\nL 19.828125 64.59375 \r\nL 19.828125 46.734375 \r\nQ 21.96875 47.46875 24.109375 47.828125 \r\nQ 26.265625 48.1875 28.421875 48.1875 \r\nQ 40.625 48.1875 47.75 41.5 \r\nQ 54.890625 34.8125 54.890625 23.390625 \r\nQ 54.890625 11.625 47.5625 5.09375 \r\nQ 40.234375 -1.421875 26.90625 -1.421875 \r\nQ 22.3125 -1.421875 17.546875 -0.640625 \r\nQ 12.796875 0.140625 7.71875 1.703125 \r\nL 7.71875 11.625 \r\nQ 12.109375 9.234375 16.796875 8.0625 \r\nQ 21.484375 6.890625 26.703125 6.890625 \r\nQ 35.15625 6.890625 40.078125 11.328125 \r\nQ 45.015625 15.765625 45.015625 23.390625 \r\nQ 45.015625 31 40.078125 35.4375 \r\nQ 35.15625 39.890625 26.703125 39.890625 \r\nQ 22.75 39.890625 18.8125 39.015625 \r\nQ 14.890625 38.140625 10.796875 36.28125 \r\nz\r\n\" id=\"DejaVuSans-53\"/>\r\n      </defs>\r\n      <g transform=\"translate(113.581534 268.272812)scale(0.1 -0.1)\">\r\n       <use xlink:href=\"#DejaVuSans-54\"/>\r\n       <use x=\"63.623047\" xlink:href=\"#DejaVuSans-46\"/>\r\n       <use x=\"95.410156\" xlink:href=\"#DejaVuSans-53\"/>\r\n      </g>\r\n     </g>\r\n    </g>\r\n    <g id=\"xtick_3\">\r\n     <g id=\"line2d_3\">\r\n      <g>\r\n       <use style=\"stroke:#000000;stroke-width:0.8;\" x=\"165.013616\" xlink:href=\"#me8c0e9c4d6\" y=\"253.674375\"/>\r\n      </g>\r\n     </g>\r\n     <g id=\"text_3\">\r\n      <!-- 7.0 -->\r\n      <defs>\r\n       <path d=\"M 8.203125 72.90625 \r\nL 55.078125 72.90625 \r\nL 55.078125 68.703125 \r\nL 28.609375 0 \r\nL 18.3125 0 \r\nL 43.21875 64.59375 \r\nL 8.203125 64.59375 \r\nz\r\n\" id=\"DejaVuSans-55\"/>\r\n      </defs>\r\n      <g transform=\"translate(157.062054 268.272812)scale(0.1 -0.1)\">\r\n       <use xlink:href=\"#DejaVuSans-55\"/>\r\n       <use x=\"63.623047\" xlink:href=\"#DejaVuSans-46\"/>\r\n       <use x=\"95.410156\" xlink:href=\"#DejaVuSans-48\"/>\r\n      </g>\r\n     </g>\r\n    </g>\r\n    <g id=\"xtick_4\">\r\n     <g id=\"line2d_4\">\r\n      <g>\r\n       <use style=\"stroke:#000000;stroke-width:0.8;\" x=\"208.494136\" xlink:href=\"#me8c0e9c4d6\" y=\"253.674375\"/>\r\n      </g>\r\n     </g>\r\n     <g id=\"text_4\">\r\n      <!-- 7.5 -->\r\n      <g transform=\"translate(200.542573 268.272812)scale(0.1 -0.1)\">\r\n       <use xlink:href=\"#DejaVuSans-55\"/>\r\n       <use x=\"63.623047\" xlink:href=\"#DejaVuSans-46\"/>\r\n       <use x=\"95.410156\" xlink:href=\"#DejaVuSans-53\"/>\r\n      </g>\r\n     </g>\r\n    </g>\r\n    <g id=\"xtick_5\">\r\n     <g id=\"line2d_5\">\r\n      <g>\r\n       <use style=\"stroke:#000000;stroke-width:0.8;\" x=\"251.974655\" xlink:href=\"#me8c0e9c4d6\" y=\"253.674375\"/>\r\n      </g>\r\n     </g>\r\n     <g id=\"text_5\">\r\n      <!-- 8.0 -->\r\n      <defs>\r\n       <path d=\"M 31.78125 34.625 \r\nQ 24.75 34.625 20.71875 30.859375 \r\nQ 16.703125 27.09375 16.703125 20.515625 \r\nQ 16.703125 13.921875 20.71875 10.15625 \r\nQ 24.75 6.390625 31.78125 6.390625 \r\nQ 38.8125 6.390625 42.859375 10.171875 \r\nQ 46.921875 13.96875 46.921875 20.515625 \r\nQ 46.921875 27.09375 42.890625 30.859375 \r\nQ 38.875 34.625 31.78125 34.625 \r\nz\r\nM 21.921875 38.8125 \r\nQ 15.578125 40.375 12.03125 44.71875 \r\nQ 8.5 49.078125 8.5 55.328125 \r\nQ 8.5 64.0625 14.71875 69.140625 \r\nQ 20.953125 74.21875 31.78125 74.21875 \r\nQ 42.671875 74.21875 48.875 69.140625 \r\nQ 55.078125 64.0625 55.078125 55.328125 \r\nQ 55.078125 49.078125 51.53125 44.71875 \r\nQ 48 40.375 41.703125 38.8125 \r\nQ 48.828125 37.15625 52.796875 32.3125 \r\nQ 56.78125 27.484375 56.78125 20.515625 \r\nQ 56.78125 9.90625 50.3125 4.234375 \r\nQ 43.84375 -1.421875 31.78125 -1.421875 \r\nQ 19.734375 -1.421875 13.25 4.234375 \r\nQ 6.78125 9.90625 6.78125 20.515625 \r\nQ 6.78125 27.484375 10.78125 32.3125 \r\nQ 14.796875 37.15625 21.921875 38.8125 \r\nz\r\nM 18.3125 54.390625 \r\nQ 18.3125 48.734375 21.84375 45.5625 \r\nQ 25.390625 42.390625 31.78125 42.390625 \r\nQ 38.140625 42.390625 41.71875 45.5625 \r\nQ 45.3125 48.734375 45.3125 54.390625 \r\nQ 45.3125 60.0625 41.71875 63.234375 \r\nQ 38.140625 66.40625 31.78125 66.40625 \r\nQ 25.390625 66.40625 21.84375 63.234375 \r\nQ 18.3125 60.0625 18.3125 54.390625 \r\nz\r\n\" id=\"DejaVuSans-56\"/>\r\n      </defs>\r\n      <g transform=\"translate(244.023093 268.272812)scale(0.1 -0.1)\">\r\n       <use xlink:href=\"#DejaVuSans-56\"/>\r\n       <use x=\"63.623047\" xlink:href=\"#DejaVuSans-46\"/>\r\n       <use x=\"95.410156\" xlink:href=\"#DejaVuSans-48\"/>\r\n      </g>\r\n     </g>\r\n    </g>\r\n    <g id=\"xtick_6\">\r\n     <g id=\"line2d_6\">\r\n      <g>\r\n       <use style=\"stroke:#000000;stroke-width:0.8;\" x=\"295.455175\" xlink:href=\"#me8c0e9c4d6\" y=\"253.674375\"/>\r\n      </g>\r\n     </g>\r\n     <g id=\"text_6\">\r\n      <!-- 8.5 -->\r\n      <g transform=\"translate(287.503612 268.272812)scale(0.1 -0.1)\">\r\n       <use xlink:href=\"#DejaVuSans-56\"/>\r\n       <use x=\"63.623047\" xlink:href=\"#DejaVuSans-46\"/>\r\n       <use x=\"95.410156\" xlink:href=\"#DejaVuSans-53\"/>\r\n      </g>\r\n     </g>\r\n    </g>\r\n    <g id=\"xtick_7\">\r\n     <g id=\"line2d_7\">\r\n      <g>\r\n       <use style=\"stroke:#000000;stroke-width:0.8;\" x=\"338.935694\" xlink:href=\"#me8c0e9c4d6\" y=\"253.674375\"/>\r\n      </g>\r\n     </g>\r\n     <g id=\"text_7\">\r\n      <!-- 9.0 -->\r\n      <defs>\r\n       <path d=\"M 10.984375 1.515625 \r\nL 10.984375 10.5 \r\nQ 14.703125 8.734375 18.5 7.8125 \r\nQ 22.3125 6.890625 25.984375 6.890625 \r\nQ 35.75 6.890625 40.890625 13.453125 \r\nQ 46.046875 20.015625 46.78125 33.40625 \r\nQ 43.953125 29.203125 39.59375 26.953125 \r\nQ 35.25 24.703125 29.984375 24.703125 \r\nQ 19.046875 24.703125 12.671875 31.3125 \r\nQ 6.296875 37.9375 6.296875 49.421875 \r\nQ 6.296875 60.640625 12.9375 67.421875 \r\nQ 19.578125 74.21875 30.609375 74.21875 \r\nQ 43.265625 74.21875 49.921875 64.515625 \r\nQ 56.59375 54.828125 56.59375 36.375 \r\nQ 56.59375 19.140625 48.40625 8.859375 \r\nQ 40.234375 -1.421875 26.421875 -1.421875 \r\nQ 22.703125 -1.421875 18.890625 -0.6875 \r\nQ 15.09375 0.046875 10.984375 1.515625 \r\nz\r\nM 30.609375 32.421875 \r\nQ 37.25 32.421875 41.125 36.953125 \r\nQ 45.015625 41.5 45.015625 49.421875 \r\nQ 45.015625 57.28125 41.125 61.84375 \r\nQ 37.25 66.40625 30.609375 66.40625 \r\nQ 23.96875 66.40625 20.09375 61.84375 \r\nQ 16.21875 57.28125 16.21875 49.421875 \r\nQ 16.21875 41.5 20.09375 36.953125 \r\nQ 23.96875 32.421875 30.609375 32.421875 \r\nz\r\n\" id=\"DejaVuSans-57\"/>\r\n      </defs>\r\n      <g transform=\"translate(330.984131 268.272812)scale(0.1 -0.1)\">\r\n       <use xlink:href=\"#DejaVuSans-57\"/>\r\n       <use x=\"63.623047\" xlink:href=\"#DejaVuSans-46\"/>\r\n       <use x=\"95.410156\" xlink:href=\"#DejaVuSans-48\"/>\r\n      </g>\r\n     </g>\r\n    </g>\r\n    <g id=\"text_8\">\r\n     <!-- ratings -->\r\n     <defs>\r\n      <path d=\"M 41.109375 46.296875 \r\nQ 39.59375 47.171875 37.8125 47.578125 \r\nQ 36.03125 48 33.890625 48 \r\nQ 26.265625 48 22.1875 43.046875 \r\nQ 18.109375 38.09375 18.109375 28.8125 \r\nL 18.109375 0 \r\nL 9.078125 0 \r\nL 9.078125 54.6875 \r\nL 18.109375 54.6875 \r\nL 18.109375 46.1875 \r\nQ 20.953125 51.171875 25.484375 53.578125 \r\nQ 30.03125 56 36.53125 56 \r\nQ 37.453125 56 38.578125 55.875 \r\nQ 39.703125 55.765625 41.0625 55.515625 \r\nz\r\n\" id=\"DejaVuSans-114\"/>\r\n      <path d=\"M 34.28125 27.484375 \r\nQ 23.390625 27.484375 19.1875 25 \r\nQ 14.984375 22.515625 14.984375 16.5 \r\nQ 14.984375 11.71875 18.140625 8.90625 \r\nQ 21.296875 6.109375 26.703125 6.109375 \r\nQ 34.1875 6.109375 38.703125 11.40625 \r\nQ 43.21875 16.703125 43.21875 25.484375 \r\nL 43.21875 27.484375 \r\nz\r\nM 52.203125 31.203125 \r\nL 52.203125 0 \r\nL 43.21875 0 \r\nL 43.21875 8.296875 \r\nQ 40.140625 3.328125 35.546875 0.953125 \r\nQ 30.953125 -1.421875 24.3125 -1.421875 \r\nQ 15.921875 -1.421875 10.953125 3.296875 \r\nQ 6 8.015625 6 15.921875 \r\nQ 6 25.140625 12.171875 29.828125 \r\nQ 18.359375 34.515625 30.609375 34.515625 \r\nL 43.21875 34.515625 \r\nL 43.21875 35.40625 \r\nQ 43.21875 41.609375 39.140625 45 \r\nQ 35.0625 48.390625 27.6875 48.390625 \r\nQ 23 48.390625 18.546875 47.265625 \r\nQ 14.109375 46.140625 10.015625 43.890625 \r\nL 10.015625 52.203125 \r\nQ 14.9375 54.109375 19.578125 55.046875 \r\nQ 24.21875 56 28.609375 56 \r\nQ 40.484375 56 46.34375 49.84375 \r\nQ 52.203125 43.703125 52.203125 31.203125 \r\nz\r\n\" id=\"DejaVuSans-97\"/>\r\n      <path d=\"M 18.3125 70.21875 \r\nL 18.3125 54.6875 \r\nL 36.8125 54.6875 \r\nL 36.8125 47.703125 \r\nL 18.3125 47.703125 \r\nL 18.3125 18.015625 \r\nQ 18.3125 11.328125 20.140625 9.421875 \r\nQ 21.96875 7.515625 27.59375 7.515625 \r\nL 36.8125 7.515625 \r\nL 36.8125 0 \r\nL 27.59375 0 \r\nQ 17.1875 0 13.234375 3.875 \r\nQ 9.28125 7.765625 9.28125 18.015625 \r\nL 9.28125 47.703125 \r\nL 2.6875 47.703125 \r\nL 2.6875 54.6875 \r\nL 9.28125 54.6875 \r\nL 9.28125 70.21875 \r\nz\r\n\" id=\"DejaVuSans-116\"/>\r\n      <path d=\"M 9.421875 54.6875 \r\nL 18.40625 54.6875 \r\nL 18.40625 0 \r\nL 9.421875 0 \r\nz\r\nM 9.421875 75.984375 \r\nL 18.40625 75.984375 \r\nL 18.40625 64.59375 \r\nL 9.421875 64.59375 \r\nz\r\n\" id=\"DejaVuSans-105\"/>\r\n      <path d=\"M 54.890625 33.015625 \r\nL 54.890625 0 \r\nL 45.90625 0 \r\nL 45.90625 32.71875 \r\nQ 45.90625 40.484375 42.875 44.328125 \r\nQ 39.84375 48.1875 33.796875 48.1875 \r\nQ 26.515625 48.1875 22.3125 43.546875 \r\nQ 18.109375 38.921875 18.109375 30.90625 \r\nL 18.109375 0 \r\nL 9.078125 0 \r\nL 9.078125 54.6875 \r\nL 18.109375 54.6875 \r\nL 18.109375 46.1875 \r\nQ 21.34375 51.125 25.703125 53.5625 \r\nQ 30.078125 56 35.796875 56 \r\nQ 45.21875 56 50.046875 50.171875 \r\nQ 54.890625 44.34375 54.890625 33.015625 \r\nz\r\n\" id=\"DejaVuSans-110\"/>\r\n      <path d=\"M 45.40625 27.984375 \r\nQ 45.40625 37.75 41.375 43.109375 \r\nQ 37.359375 48.484375 30.078125 48.484375 \r\nQ 22.859375 48.484375 18.828125 43.109375 \r\nQ 14.796875 37.75 14.796875 27.984375 \r\nQ 14.796875 18.265625 18.828125 12.890625 \r\nQ 22.859375 7.515625 30.078125 7.515625 \r\nQ 37.359375 7.515625 41.375 12.890625 \r\nQ 45.40625 18.265625 45.40625 27.984375 \r\nz\r\nM 54.390625 6.78125 \r\nQ 54.390625 -7.171875 48.1875 -13.984375 \r\nQ 42 -20.796875 29.203125 -20.796875 \r\nQ 24.46875 -20.796875 20.265625 -20.09375 \r\nQ 16.0625 -19.390625 12.109375 -17.921875 \r\nL 12.109375 -9.1875 \r\nQ 16.0625 -11.328125 19.921875 -12.34375 \r\nQ 23.78125 -13.375 27.78125 -13.375 \r\nQ 36.625 -13.375 41.015625 -8.765625 \r\nQ 45.40625 -4.15625 45.40625 5.171875 \r\nL 45.40625 9.625 \r\nQ 42.625 4.78125 38.28125 2.390625 \r\nQ 33.9375 0 27.875 0 \r\nQ 17.828125 0 11.671875 7.65625 \r\nQ 5.515625 15.328125 5.515625 27.984375 \r\nQ 5.515625 40.671875 11.671875 48.328125 \r\nQ 17.828125 56 27.875 56 \r\nQ 33.9375 56 38.28125 53.609375 \r\nQ 42.625 51.21875 45.40625 46.390625 \r\nL 45.40625 54.6875 \r\nL 54.390625 54.6875 \r\nz\r\n\" id=\"DejaVuSans-103\"/>\r\n      <path d=\"M 44.28125 53.078125 \r\nL 44.28125 44.578125 \r\nQ 40.484375 46.53125 36.375 47.5 \r\nQ 32.28125 48.484375 27.875 48.484375 \r\nQ 21.1875 48.484375 17.84375 46.4375 \r\nQ 14.5 44.390625 14.5 40.28125 \r\nQ 14.5 37.15625 16.890625 35.375 \r\nQ 19.28125 33.59375 26.515625 31.984375 \r\nL 29.59375 31.296875 \r\nQ 39.15625 29.25 43.1875 25.515625 \r\nQ 47.21875 21.78125 47.21875 15.09375 \r\nQ 47.21875 7.46875 41.1875 3.015625 \r\nQ 35.15625 -1.421875 24.609375 -1.421875 \r\nQ 20.21875 -1.421875 15.453125 -0.5625 \r\nQ 10.6875 0.296875 5.421875 2 \r\nL 5.421875 11.28125 \r\nQ 10.40625 8.6875 15.234375 7.390625 \r\nQ 20.0625 6.109375 24.8125 6.109375 \r\nQ 31.15625 6.109375 34.5625 8.28125 \r\nQ 37.984375 10.453125 37.984375 14.40625 \r\nQ 37.984375 18.0625 35.515625 20.015625 \r\nQ 33.0625 21.96875 24.703125 23.78125 \r\nL 21.578125 24.515625 \r\nQ 13.234375 26.265625 9.515625 29.90625 \r\nQ 5.8125 33.546875 5.8125 39.890625 \r\nQ 5.8125 47.609375 11.28125 51.796875 \r\nQ 16.75 56 26.8125 56 \r\nQ 31.78125 56 36.171875 55.265625 \r\nQ 40.578125 54.546875 44.28125 53.078125 \r\nz\r\n\" id=\"DejaVuSans-115\"/>\r\n     </defs>\r\n     <g transform=\"translate(186.717578 285.750156)scale(0.15 -0.15)\">\r\n      <use xlink:href=\"#DejaVuSans-114\"/>\r\n      <use x=\"41.113281\" xlink:href=\"#DejaVuSans-97\"/>\r\n      <use x=\"102.392578\" xlink:href=\"#DejaVuSans-116\"/>\r\n      <use x=\"141.601562\" xlink:href=\"#DejaVuSans-105\"/>\r\n      <use x=\"169.384766\" xlink:href=\"#DejaVuSans-110\"/>\r\n      <use x=\"232.763672\" xlink:href=\"#DejaVuSans-103\"/>\r\n      <use x=\"296.240234\" xlink:href=\"#DejaVuSans-115\"/>\r\n     </g>\r\n    </g>\r\n   </g>\r\n   <g id=\"matplotlib.axis_2\">\r\n    <g id=\"ytick_1\">\r\n     <g id=\"line2d_8\">\r\n      <defs>\r\n       <path d=\"M 0 0 \r\nL -3.5 0 \r\n\" id=\"m4c0e53c0c2\" style=\"stroke:#000000;stroke-width:0.8;\"/>\r\n      </defs>\r\n      <g>\r\n       <use style=\"stroke:#000000;stroke-width:0.8;\" x=\"45.442188\" xlink:href=\"#m4c0e53c0c2\" y=\"243.790739\"/>\r\n      </g>\r\n     </g>\r\n     <g id=\"text_9\">\r\n      <!-- 0 -->\r\n      <g transform=\"translate(32.079688 247.589957)scale(0.1 -0.1)\">\r\n       <use xlink:href=\"#DejaVuSans-48\"/>\r\n      </g>\r\n     </g>\r\n    </g>\r\n    <g id=\"ytick_2\">\r\n     <g id=\"line2d_9\">\r\n      <g>\r\n       <use style=\"stroke:#000000;stroke-width:0.8;\" x=\"45.442188\" xlink:href=\"#m4c0e53c0c2\" y=\"211.908041\"/>\r\n      </g>\r\n     </g>\r\n     <g id=\"text_10\">\r\n      <!-- 10 -->\r\n      <defs>\r\n       <path d=\"M 12.40625 8.296875 \r\nL 28.515625 8.296875 \r\nL 28.515625 63.921875 \r\nL 10.984375 60.40625 \r\nL 10.984375 69.390625 \r\nL 28.421875 72.90625 \r\nL 38.28125 72.90625 \r\nL 38.28125 8.296875 \r\nL 54.390625 8.296875 \r\nL 54.390625 0 \r\nL 12.40625 0 \r\nz\r\n\" id=\"DejaVuSans-49\"/>\r\n      </defs>\r\n      <g transform=\"translate(25.717188 215.707259)scale(0.1 -0.1)\">\r\n       <use xlink:href=\"#DejaVuSans-49\"/>\r\n       <use x=\"63.623047\" xlink:href=\"#DejaVuSans-48\"/>\r\n      </g>\r\n     </g>\r\n    </g>\r\n    <g id=\"ytick_3\">\r\n     <g id=\"line2d_10\">\r\n      <g>\r\n       <use style=\"stroke:#000000;stroke-width:0.8;\" x=\"45.442188\" xlink:href=\"#m4c0e53c0c2\" y=\"180.025343\"/>\r\n      </g>\r\n     </g>\r\n     <g id=\"text_11\">\r\n      <!-- 20 -->\r\n      <defs>\r\n       <path d=\"M 19.1875 8.296875 \r\nL 53.609375 8.296875 \r\nL 53.609375 0 \r\nL 7.328125 0 \r\nL 7.328125 8.296875 \r\nQ 12.9375 14.109375 22.625 23.890625 \r\nQ 32.328125 33.6875 34.8125 36.53125 \r\nQ 39.546875 41.84375 41.421875 45.53125 \r\nQ 43.3125 49.21875 43.3125 52.78125 \r\nQ 43.3125 58.59375 39.234375 62.25 \r\nQ 35.15625 65.921875 28.609375 65.921875 \r\nQ 23.96875 65.921875 18.8125 64.3125 \r\nQ 13.671875 62.703125 7.8125 59.421875 \r\nL 7.8125 69.390625 \r\nQ 13.765625 71.78125 18.9375 73 \r\nQ 24.125 74.21875 28.421875 74.21875 \r\nQ 39.75 74.21875 46.484375 68.546875 \r\nQ 53.21875 62.890625 53.21875 53.421875 \r\nQ 53.21875 48.921875 51.53125 44.890625 \r\nQ 49.859375 40.875 45.40625 35.40625 \r\nQ 44.1875 33.984375 37.640625 27.21875 \r\nQ 31.109375 20.453125 19.1875 8.296875 \r\nz\r\n\" id=\"DejaVuSans-50\"/>\r\n      </defs>\r\n      <g transform=\"translate(25.717188 183.824561)scale(0.1 -0.1)\">\r\n       <use xlink:href=\"#DejaVuSans-50\"/>\r\n       <use x=\"63.623047\" xlink:href=\"#DejaVuSans-48\"/>\r\n      </g>\r\n     </g>\r\n    </g>\r\n    <g id=\"ytick_4\">\r\n     <g id=\"line2d_11\">\r\n      <g>\r\n       <use style=\"stroke:#000000;stroke-width:0.8;\" x=\"45.442188\" xlink:href=\"#m4c0e53c0c2\" y=\"148.142645\"/>\r\n      </g>\r\n     </g>\r\n     <g id=\"text_12\">\r\n      <!-- 30 -->\r\n      <defs>\r\n       <path d=\"M 40.578125 39.3125 \r\nQ 47.65625 37.796875 51.625 33 \r\nQ 55.609375 28.21875 55.609375 21.1875 \r\nQ 55.609375 10.40625 48.1875 4.484375 \r\nQ 40.765625 -1.421875 27.09375 -1.421875 \r\nQ 22.515625 -1.421875 17.65625 -0.515625 \r\nQ 12.796875 0.390625 7.625 2.203125 \r\nL 7.625 11.71875 \r\nQ 11.71875 9.328125 16.59375 8.109375 \r\nQ 21.484375 6.890625 26.8125 6.890625 \r\nQ 36.078125 6.890625 40.9375 10.546875 \r\nQ 45.796875 14.203125 45.796875 21.1875 \r\nQ 45.796875 27.640625 41.28125 31.265625 \r\nQ 36.765625 34.90625 28.71875 34.90625 \r\nL 20.21875 34.90625 \r\nL 20.21875 43.015625 \r\nL 29.109375 43.015625 \r\nQ 36.375 43.015625 40.234375 45.921875 \r\nQ 44.09375 48.828125 44.09375 54.296875 \r\nQ 44.09375 59.90625 40.109375 62.90625 \r\nQ 36.140625 65.921875 28.71875 65.921875 \r\nQ 24.65625 65.921875 20.015625 65.03125 \r\nQ 15.375 64.15625 9.8125 62.3125 \r\nL 9.8125 71.09375 \r\nQ 15.4375 72.65625 20.34375 73.4375 \r\nQ 25.25 74.21875 29.59375 74.21875 \r\nQ 40.828125 74.21875 47.359375 69.109375 \r\nQ 53.90625 64.015625 53.90625 55.328125 \r\nQ 53.90625 49.265625 50.4375 45.09375 \r\nQ 46.96875 40.921875 40.578125 39.3125 \r\nz\r\n\" id=\"DejaVuSans-51\"/>\r\n      </defs>\r\n      <g transform=\"translate(25.717188 151.941864)scale(0.1 -0.1)\">\r\n       <use xlink:href=\"#DejaVuSans-51\"/>\r\n       <use x=\"63.623047\" xlink:href=\"#DejaVuSans-48\"/>\r\n      </g>\r\n     </g>\r\n    </g>\r\n    <g id=\"ytick_5\">\r\n     <g id=\"line2d_12\">\r\n      <g>\r\n       <use style=\"stroke:#000000;stroke-width:0.8;\" x=\"45.442188\" xlink:href=\"#m4c0e53c0c2\" y=\"116.259947\"/>\r\n      </g>\r\n     </g>\r\n     <g id=\"text_13\">\r\n      <!-- 40 -->\r\n      <defs>\r\n       <path d=\"M 37.796875 64.3125 \r\nL 12.890625 25.390625 \r\nL 37.796875 25.390625 \r\nz\r\nM 35.203125 72.90625 \r\nL 47.609375 72.90625 \r\nL 47.609375 25.390625 \r\nL 58.015625 25.390625 \r\nL 58.015625 17.1875 \r\nL 47.609375 17.1875 \r\nL 47.609375 0 \r\nL 37.796875 0 \r\nL 37.796875 17.1875 \r\nL 4.890625 17.1875 \r\nL 4.890625 26.703125 \r\nz\r\n\" id=\"DejaVuSans-52\"/>\r\n      </defs>\r\n      <g transform=\"translate(25.717188 120.059166)scale(0.1 -0.1)\">\r\n       <use xlink:href=\"#DejaVuSans-52\"/>\r\n       <use x=\"63.623047\" xlink:href=\"#DejaVuSans-48\"/>\r\n      </g>\r\n     </g>\r\n    </g>\r\n    <g id=\"ytick_6\">\r\n     <g id=\"line2d_13\">\r\n      <g>\r\n       <use style=\"stroke:#000000;stroke-width:0.8;\" x=\"45.442188\" xlink:href=\"#m4c0e53c0c2\" y=\"84.377249\"/>\r\n      </g>\r\n     </g>\r\n     <g id=\"text_14\">\r\n      <!-- 50 -->\r\n      <g transform=\"translate(25.717188 88.176468)scale(0.1 -0.1)\">\r\n       <use xlink:href=\"#DejaVuSans-53\"/>\r\n       <use x=\"63.623047\" xlink:href=\"#DejaVuSans-48\"/>\r\n      </g>\r\n     </g>\r\n    </g>\r\n    <g id=\"ytick_7\">\r\n     <g id=\"line2d_14\">\r\n      <g>\r\n       <use style=\"stroke:#000000;stroke-width:0.8;\" x=\"45.442188\" xlink:href=\"#m4c0e53c0c2\" y=\"52.494551\"/>\r\n      </g>\r\n     </g>\r\n     <g id=\"text_15\">\r\n      <!-- 60 -->\r\n      <g transform=\"translate(25.717188 56.29377)scale(0.1 -0.1)\">\r\n       <use xlink:href=\"#DejaVuSans-54\"/>\r\n       <use x=\"63.623047\" xlink:href=\"#DejaVuSans-48\"/>\r\n      </g>\r\n     </g>\r\n    </g>\r\n    <g id=\"text_16\">\r\n     <!-- frequency -->\r\n     <defs>\r\n      <path d=\"M 37.109375 75.984375 \r\nL 37.109375 68.5 \r\nL 28.515625 68.5 \r\nQ 23.6875 68.5 21.796875 66.546875 \r\nQ 19.921875 64.59375 19.921875 59.515625 \r\nL 19.921875 54.6875 \r\nL 34.71875 54.6875 \r\nL 34.71875 47.703125 \r\nL 19.921875 47.703125 \r\nL 19.921875 0 \r\nL 10.890625 0 \r\nL 10.890625 47.703125 \r\nL 2.296875 47.703125 \r\nL 2.296875 54.6875 \r\nL 10.890625 54.6875 \r\nL 10.890625 58.5 \r\nQ 10.890625 67.625 15.140625 71.796875 \r\nQ 19.390625 75.984375 28.609375 75.984375 \r\nz\r\n\" id=\"DejaVuSans-102\"/>\r\n      <path d=\"M 56.203125 29.59375 \r\nL 56.203125 25.203125 \r\nL 14.890625 25.203125 \r\nQ 15.484375 15.921875 20.484375 11.0625 \r\nQ 25.484375 6.203125 34.421875 6.203125 \r\nQ 39.59375 6.203125 44.453125 7.46875 \r\nQ 49.3125 8.734375 54.109375 11.28125 \r\nL 54.109375 2.78125 \r\nQ 49.265625 0.734375 44.1875 -0.34375 \r\nQ 39.109375 -1.421875 33.890625 -1.421875 \r\nQ 20.796875 -1.421875 13.15625 6.1875 \r\nQ 5.515625 13.8125 5.515625 26.8125 \r\nQ 5.515625 40.234375 12.765625 48.109375 \r\nQ 20.015625 56 32.328125 56 \r\nQ 43.359375 56 49.78125 48.890625 \r\nQ 56.203125 41.796875 56.203125 29.59375 \r\nz\r\nM 47.21875 32.234375 \r\nQ 47.125 39.59375 43.09375 43.984375 \r\nQ 39.0625 48.390625 32.421875 48.390625 \r\nQ 24.90625 48.390625 20.390625 44.140625 \r\nQ 15.875 39.890625 15.1875 32.171875 \r\nz\r\n\" id=\"DejaVuSans-101\"/>\r\n      <path d=\"M 14.796875 27.296875 \r\nQ 14.796875 17.390625 18.875 11.75 \r\nQ 22.953125 6.109375 30.078125 6.109375 \r\nQ 37.203125 6.109375 41.296875 11.75 \r\nQ 45.40625 17.390625 45.40625 27.296875 \r\nQ 45.40625 37.203125 41.296875 42.84375 \r\nQ 37.203125 48.484375 30.078125 48.484375 \r\nQ 22.953125 48.484375 18.875 42.84375 \r\nQ 14.796875 37.203125 14.796875 27.296875 \r\nz\r\nM 45.40625 8.203125 \r\nQ 42.578125 3.328125 38.25 0.953125 \r\nQ 33.9375 -1.421875 27.875 -1.421875 \r\nQ 17.96875 -1.421875 11.734375 6.484375 \r\nQ 5.515625 14.40625 5.515625 27.296875 \r\nQ 5.515625 40.1875 11.734375 48.09375 \r\nQ 17.96875 56 27.875 56 \r\nQ 33.9375 56 38.25 53.625 \r\nQ 42.578125 51.265625 45.40625 46.390625 \r\nL 45.40625 54.6875 \r\nL 54.390625 54.6875 \r\nL 54.390625 -20.796875 \r\nL 45.40625 -20.796875 \r\nz\r\n\" id=\"DejaVuSans-113\"/>\r\n      <path d=\"M 8.5 21.578125 \r\nL 8.5 54.6875 \r\nL 17.484375 54.6875 \r\nL 17.484375 21.921875 \r\nQ 17.484375 14.15625 20.5 10.265625 \r\nQ 23.53125 6.390625 29.59375 6.390625 \r\nQ 36.859375 6.390625 41.078125 11.03125 \r\nQ 45.3125 15.671875 45.3125 23.6875 \r\nL 45.3125 54.6875 \r\nL 54.296875 54.6875 \r\nL 54.296875 0 \r\nL 45.3125 0 \r\nL 45.3125 8.40625 \r\nQ 42.046875 3.421875 37.71875 1 \r\nQ 33.40625 -1.421875 27.6875 -1.421875 \r\nQ 18.265625 -1.421875 13.375 4.4375 \r\nQ 8.5 10.296875 8.5 21.578125 \r\nz\r\nM 31.109375 56 \r\nz\r\n\" id=\"DejaVuSans-117\"/>\r\n      <path d=\"M 48.78125 52.59375 \r\nL 48.78125 44.1875 \r\nQ 44.96875 46.296875 41.140625 47.34375 \r\nQ 37.3125 48.390625 33.40625 48.390625 \r\nQ 24.65625 48.390625 19.8125 42.84375 \r\nQ 14.984375 37.3125 14.984375 27.296875 \r\nQ 14.984375 17.28125 19.8125 11.734375 \r\nQ 24.65625 6.203125 33.40625 6.203125 \r\nQ 37.3125 6.203125 41.140625 7.25 \r\nQ 44.96875 8.296875 48.78125 10.40625 \r\nL 48.78125 2.09375 \r\nQ 45.015625 0.34375 40.984375 -0.53125 \r\nQ 36.96875 -1.421875 32.421875 -1.421875 \r\nQ 20.0625 -1.421875 12.78125 6.34375 \r\nQ 5.515625 14.109375 5.515625 27.296875 \r\nQ 5.515625 40.671875 12.859375 48.328125 \r\nQ 20.21875 56 33.015625 56 \r\nQ 37.15625 56 41.109375 55.140625 \r\nQ 45.0625 54.296875 48.78125 52.59375 \r\nz\r\n\" id=\"DejaVuSans-99\"/>\r\n      <path d=\"M 32.171875 -5.078125 \r\nQ 28.375 -14.84375 24.75 -17.8125 \r\nQ 21.140625 -20.796875 15.09375 -20.796875 \r\nL 7.90625 -20.796875 \r\nL 7.90625 -13.28125 \r\nL 13.1875 -13.28125 \r\nQ 16.890625 -13.28125 18.9375 -11.515625 \r\nQ 21 -9.765625 23.484375 -3.21875 \r\nL 25.09375 0.875 \r\nL 2.984375 54.6875 \r\nL 12.5 54.6875 \r\nL 29.59375 11.921875 \r\nL 46.6875 54.6875 \r\nL 56.203125 54.6875 \r\nz\r\n\" id=\"DejaVuSans-121\"/>\r\n     </defs>\r\n     <g transform=\"translate(18.597656 182.569219)rotate(-90)scale(0.15 -0.15)\">\r\n      <use xlink:href=\"#DejaVuSans-102\"/>\r\n      <use x=\"35.205078\" xlink:href=\"#DejaVuSans-114\"/>\r\n      <use x=\"74.068359\" xlink:href=\"#DejaVuSans-101\"/>\r\n      <use x=\"135.591797\" xlink:href=\"#DejaVuSans-113\"/>\r\n      <use x=\"199.068359\" xlink:href=\"#DejaVuSans-117\"/>\r\n      <use x=\"262.447266\" xlink:href=\"#DejaVuSans-101\"/>\r\n      <use x=\"323.970703\" xlink:href=\"#DejaVuSans-110\"/>\r\n      <use x=\"387.349609\" xlink:href=\"#DejaVuSans-99\"/>\r\n      <use x=\"442.330078\" xlink:href=\"#DejaVuSans-121\"/>\r\n     </g>\r\n    </g>\r\n   </g>\r\n   <g id=\"line2d_15\">\r\n    <path clip-path=\"url(#p3b72865db7)\" d=\"M 45.442188 188.992352 \r\nL 380.242188 188.992352 \r\n\" style=\"fill:none;stroke:#00bfbf;stroke-dasharray:3.7,1.6;stroke-dashoffset:0;\"/>\r\n   </g>\r\n   <g id=\"line2d_16\">\r\n    <path clip-path=\"url(#p3b72865db7)\" d=\"M 219.907772 253.674375 \r\nL 219.907772 36.234375 \r\n\" style=\"fill:none;stroke:#00bfbf;stroke-dasharray:3.7,1.6;stroke-dashoffset:0;\"/>\r\n   </g>\r\n   <g id=\"patch_3\">\r\n    <path d=\"M 45.442188 253.674375 \r\nL 45.442188 36.234375 \r\n\" style=\"fill:none;stroke:#000000;stroke-linecap:square;stroke-linejoin:miter;stroke-width:0.8;\"/>\r\n   </g>\r\n   <g id=\"patch_4\">\r\n    <path d=\"M 380.242188 253.674375 \r\nL 380.242188 36.234375 \r\n\" style=\"fill:none;stroke:#000000;stroke-linecap:square;stroke-linejoin:miter;stroke-width:0.8;\"/>\r\n   </g>\r\n   <g id=\"patch_5\">\r\n    <path d=\"M 45.442187 253.674375 \r\nL 380.242187 253.674375 \r\n\" style=\"fill:none;stroke:#000000;stroke-linecap:square;stroke-linejoin:miter;stroke-width:0.8;\"/>\r\n   </g>\r\n   <g id=\"patch_6\">\r\n    <path d=\"M 45.442187 36.234375 \r\nL 380.242187 36.234375 \r\n\" style=\"fill:none;stroke:#000000;stroke-linecap:square;stroke-linejoin:miter;stroke-width:0.8;\"/>\r\n   </g>\r\n   <g id=\"text_17\">\r\n    <!-- scatter -->\r\n    <g transform=\"translate(160.43125 29.995313)scale(0.3 -0.3)\">\r\n     <use xlink:href=\"#DejaVuSans-115\"/>\r\n     <use x=\"52.099609\" xlink:href=\"#DejaVuSans-99\"/>\r\n     <use x=\"107.080078\" xlink:href=\"#DejaVuSans-97\"/>\r\n     <use x=\"168.359375\" xlink:href=\"#DejaVuSans-116\"/>\r\n     <use x=\"207.568359\" xlink:href=\"#DejaVuSans-116\"/>\r\n     <use x=\"246.777344\" xlink:href=\"#DejaVuSans-101\"/>\r\n     <use x=\"308.300781\" xlink:href=\"#DejaVuSans-114\"/>\r\n    </g>\r\n   </g>\r\n   <g id=\"legend_1\">\r\n    <g id=\"patch_7\">\r\n     <path d=\"M 369.242188 49.234375 \r\nL 373.242188 49.234375 \r\nQ 375.242188 49.234375 375.242188 47.234375 \r\nL 375.242188 43.234375 \r\nQ 375.242188 41.234375 373.242188 41.234375 \r\nL 369.242188 41.234375 \r\nQ 367.242188 41.234375 367.242188 43.234375 \r\nL 367.242188 47.234375 \r\nQ 367.242188 49.234375 369.242188 49.234375 \r\nz\r\n\" style=\"fill:#ffffff;opacity:0.8;stroke:#cccccc;stroke-linejoin:miter;\"/>\r\n    </g>\r\n   </g>\r\n  </g>\r\n </g>\r\n <defs>\r\n  <clipPath id=\"p3b72865db7\">\r\n   <rect height=\"217.44\" width=\"334.8\" x=\"45.442188\" y=\"36.234375\"/>\r\n  </clipPath>\r\n </defs>\r\n</svg>\r\n",
      "image/png": "[encoded data removed]"
     },
     "metadata": {
      "needs_background": "light"
     }
    },
    {
     "output_type": "stream",
     "name": "stderr",
     "text": [
      "No handles with labels found to put in legend.\n"
     ]
    },
    {
     "output_type": "display_data",
     "data": {
      "text/plain": "<Figure size 1080x720 with 1 Axes>",
      "image/svg+xml": "<?xml version=\"1.0\" encoding=\"utf-8\" standalone=\"no\"?>\r\n<!DOCTYPE svg PUBLIC \"-//W3C//DTD SVG 1.1//EN\"\r\n  \"http://www.w3.org/Graphics/SVG/1.1/DTD/svg11.dtd\">\r\n<!-- Created with matplotlib (https://matplotlib.org/) -->\r\n<svg height=\"622.229687pt\" version=\"1.1\" viewBox=\"0 0 889.642187 622.229687\" width=\"889.642187pt\" xmlns=\"http://www.w3.org/2000/svg\" xmlns:xlink=\"http://www.w3.org/1999/xlink\">\r\n <defs>\r\n  <style type=\"text/css\">\r\n*{stroke-linecap:butt;stroke-linejoin:round;}\r\n  </style>\r\n </defs>\r\n <g id=\"figure_1\">\r\n  <g id=\"patch_1\">\r\n   <path d=\"M 0 622.229687 \r\nL 889.642187 622.229687 \r\nL 889.642187 0 \r\nL 0 0 \r\nz\r\n\" style=\"fill:none;\"/>\r\n  </g>\r\n  <g id=\"axes_1\">\r\n   <g id=\"patch_2\">\r\n    <path d=\"M 45.442188 579.834375 \r\nL 882.442188 579.834375 \r\nL 882.442188 36.234375 \r\nL 45.442188 36.234375 \r\nz\r\n\" style=\"fill:#ffffff;\"/>\r\n   </g>\r\n   <g id=\"PathCollection_1\">\r\n    <defs>\r\n     <path d=\"M 0 2.179449 \r\nC 0.577997 2.179449 1.132398 1.949809 1.541104 1.541104 \r\nC 1.949809 1.132398 2.179449 0.577997 2.179449 0 \r\nC 2.179449 -0.577997 1.949809 -1.132398 1.541104 -1.541104 \r\nC 1.132398 -1.949809 0.577997 -2.179449 0 -2.179449 \r\nC -0.577997 -2.179449 -1.132398 -1.949809 -1.541104 -1.541104 \r\nC -1.949809 -1.132398 -2.179449 -0.577997 -2.179449 0 \r\nC -2.179449 0.577997 -1.949809 1.132398 -1.541104 1.541104 \r\nC -1.132398 1.949809 -0.577997 2.179449 0 2.179449 \r\nz\r\n\" id=\"m47c15768ba\" style=\"stroke:#000000;\"/>\r\n    </defs>\r\n    <g clip-path=\"url(#pbd7b1e9b33)\">\r\n     <use style=\"stroke:#000000;\" x=\"83.487642\" xlink:href=\"#m47c15768ba\" y=\"523.242586\"/>\r\n    </g>\r\n   </g>\r\n   <g id=\"PathCollection_2\">\r\n    <defs>\r\n     <path d=\"M 0 7.071068 \r\nC 1.875269 7.071068 3.673985 6.326016 5 5 \r\nC 6.326016 3.673985 7.071068 1.875269 7.071068 0 \r\nC 7.071068 -1.875269 6.326016 -3.673985 5 -5 \r\nC 3.673985 -6.326016 1.875269 -7.071068 0 -7.071068 \r\nC -1.875269 -7.071068 -3.673985 -6.326016 -5 -5 \r\nC -6.326016 -3.673985 -7.071068 -1.875269 -7.071068 0 \r\nC -7.071068 1.875269 -6.326016 3.673985 -5 5 \r\nC -3.673985 6.326016 -1.875269 7.071068 0 7.071068 \r\nz\r\n\" id=\"mbf62bc465a\" style=\"stroke:#0000ff;\"/>\r\n    </defs>\r\n    <g clip-path=\"url(#pbd7b1e9b33)\">\r\n     <use style=\"fill:#0000ff;stroke:#0000ff;\" x=\"844.396733\" xlink:href=\"#mbf62bc465a\" y=\"60.943466\"/>\r\n    </g>\r\n   </g>\r\n   <g id=\"PathCollection_3\">\r\n    <defs>\r\n     <path d=\"M 0 4.358899 \r\nC 1.155994 4.358899 2.264796 3.899618 3.082207 3.082207 \r\nC 3.899618 2.264796 4.358899 1.155994 4.358899 0 \r\nC 4.358899 -1.155994 3.899618 -2.264796 3.082207 -3.082207 \r\nC 2.264796 -3.899618 1.155994 -4.358899 0 -4.358899 \r\nC -1.155994 -4.358899 -2.264796 -3.899618 -3.082207 -3.082207 \r\nC -3.899618 -2.264796 -4.358899 -1.155994 -4.358899 0 \r\nC -4.358899 1.155994 -3.899618 2.264796 -3.082207 3.082207 \r\nC -2.264796 3.899618 -1.155994 4.358899 0 4.358899 \r\nz\r\n\" id=\"m48db6b23d4\" style=\"stroke:#ff0000;\"/>\r\n    </defs>\r\n    <g clip-path=\"url(#pbd7b1e9b33)\">\r\n     <use style=\"fill:#ff0000;stroke:#ff0000;\" x=\"323.110947\" xlink:href=\"#m48db6b23d4\" y=\"339.917073\"/>\r\n    </g>\r\n   </g>\r\n   <g id=\"PathCollection_4\">\r\n    <defs>\r\n     <path d=\"M 0 3.354102 \r\nC 0.889518 3.354102 1.742724 3.000693 2.371708 2.371708 \r\nC 3.000693 1.742724 3.354102 0.889518 3.354102 0 \r\nC 3.354102 -0.889518 3.000693 -1.742724 2.371708 -2.371708 \r\nC 1.742724 -3.000693 0.889518 -3.354102 0 -3.354102 \r\nC -0.889518 -3.354102 -1.742724 -3.000693 -2.371708 -2.371708 \r\nC -3.000693 -1.742724 -3.354102 -0.889518 -3.354102 0 \r\nC -3.354102 0.889518 -3.000693 1.742724 -2.371708 2.371708 \r\nC -1.742724 3.000693 -0.889518 3.354102 0 3.354102 \r\nz\r\n\" id=\"m97328ec5e0\" style=\"stroke:#ff0000;\"/>\r\n    </defs>\r\n    <g clip-path=\"url(#pbd7b1e9b33)\">\r\n     <use style=\"fill:#ff0000;stroke:#ff0000;\" x=\"192.7895\" xlink:href=\"#m97328ec5e0\" y=\"347.887747\"/>\r\n    </g>\r\n   </g>\r\n   <g id=\"PathCollection_5\">\r\n    <defs>\r\n     <path d=\"M 0 6.98212 \r\nC 1.85168 6.98212 3.627769 6.24644 4.937104 4.937104 \r\nC 6.24644 3.627769 6.98212 1.85168 6.98212 0 \r\nC 6.98212 -1.85168 6.24644 -3.627769 4.937104 -4.937104 \r\nC 3.627769 -6.24644 1.85168 -6.98212 0 -6.98212 \r\nC -1.85168 -6.98212 -3.627769 -6.24644 -4.937104 -4.937104 \r\nC -6.24644 -3.627769 -6.98212 -1.85168 -6.98212 0 \r\nC -6.98212 1.85168 -6.24644 3.627769 -4.937104 4.937104 \r\nC -3.627769 6.24644 -1.85168 6.98212 0 6.98212 \r\nz\r\n\" id=\"mdcf21f1b98\" style=\"stroke:#0000ff;\"/>\r\n    </defs>\r\n    <g clip-path=\"url(#pbd7b1e9b33)\">\r\n     <use style=\"fill:#0000ff;stroke:#0000ff;\" x=\"823.377145\" xlink:href=\"#mdcf21f1b98\" y=\"244.268979\"/>\r\n    </g>\r\n   </g>\r\n   <g id=\"PathCollection_6\">\r\n    <defs>\r\n     <path d=\"M 0 4.821825 \r\nC 1.278763 4.821825 2.505323 4.313767 3.409545 3.409545 \r\nC 4.313767 2.505323 4.821825 1.278763 4.821825 0 \r\nC 4.821825 -1.278763 4.313767 -2.505323 3.409545 -3.409545 \r\nC 2.505323 -4.313767 1.278763 -4.821825 0 -4.821825 \r\nC -1.278763 -4.821825 -2.505323 -4.313767 -3.409545 -3.409545 \r\nC -4.313767 -2.505323 -4.821825 -1.278763 -4.821825 0 \r\nC -4.821825 1.278763 -4.313767 2.505323 -3.409545 3.409545 \r\nC -2.505323 4.313767 -1.278763 4.821825 0 4.821825 \r\nz\r\n\" id=\"me5ec77a1e1\" style=\"stroke:#008000;\"/>\r\n    </defs>\r\n    <g clip-path=\"url(#pbd7b1e9b33)\">\r\n     <use style=\"fill:#008000;stroke:#008000;\" x=\"394.577547\" xlink:href=\"#me5ec77a1e1\" y=\"555.125284\"/>\r\n    </g>\r\n   </g>\r\n   <g id=\"PathCollection_7\">\r\n    <defs>\r\n     <path d=\"M 0 3.464102 \r\nC 0.91869 3.464102 1.799877 3.099102 2.44949 2.44949 \r\nC 3.099102 1.799877 3.464102 0.91869 3.464102 0 \r\nC 3.464102 -0.91869 3.099102 -1.799877 2.44949 -2.44949 \r\nC 1.799877 -3.099102 0.91869 -3.464102 0 -3.464102 \r\nC -0.91869 -3.464102 -1.799877 -3.099102 -2.44949 -2.44949 \r\nC -3.099102 -1.799877 -3.464102 -0.91869 -3.464102 0 \r\nC -3.464102 0.91869 -3.099102 1.799877 -2.44949 2.44949 \r\nC -1.799877 3.099102 -0.91869 3.464102 0 3.464102 \r\nz\r\n\" id=\"mffe838bb68\" style=\"stroke:#000000;\"/>\r\n    </defs>\r\n    <g clip-path=\"url(#pbd7b1e9b33)\">\r\n     <use style=\"stroke:#000000;\" x=\"205.401253\" xlink:href=\"#mffe838bb68\" y=\"483.389214\"/>\r\n    </g>\r\n   </g>\r\n   <g id=\"PathCollection_8\">\r\n    <defs>\r\n     <path d=\"M 0 4.636809 \r\nC 1.229696 4.636809 2.409193 4.148246 3.278719 3.278719 \r\nC 4.148246 2.409193 4.636809 1.229696 4.636809 0 \r\nC 4.636809 -1.229696 4.148246 -2.409193 3.278719 -3.278719 \r\nC 2.409193 -4.148246 1.229696 -4.636809 0 -4.636809 \r\nC -1.229696 -4.636809 -2.409193 -4.148246 -3.278719 -3.278719 \r\nC -4.148246 -2.409193 -4.636809 -1.229696 -4.636809 0 \r\nC -4.636809 1.229696 -4.148246 2.409193 -3.278719 3.278719 \r\nC -2.409193 4.148246 -1.229696 4.636809 0 4.636809 \r\nz\r\n\" id=\"m051861f61c\" style=\"stroke:#000000;\"/>\r\n    </defs>\r\n    <g clip-path=\"url(#pbd7b1e9b33)\">\r\n     <use style=\"stroke:#000000;\" x=\"365.150123\" xlink:href=\"#m051861f61c\" y=\"459.47719\"/>\r\n    </g>\r\n   </g>\r\n   <g id=\"PathCollection_9\">\r\n    <defs>\r\n     <path d=\"M 0 4.527693 \r\nC 1.200758 4.527693 2.352498 4.050626 3.201562 3.201562 \r\nC 4.050626 2.352498 4.527693 1.200758 4.527693 0 \r\nC 4.527693 -1.200758 4.050626 -2.352498 3.201562 -3.201562 \r\nC 2.352498 -4.050626 1.200758 -4.527693 0 -4.527693 \r\nC -1.200758 -4.527693 -2.352498 -4.050626 -3.201562 -3.201562 \r\nC -4.050626 -2.352498 -4.527693 -1.200758 -4.527693 0 \r\nC -4.527693 1.200758 -4.050626 2.352498 -3.201562 3.201562 \r\nC -2.352498 4.050626 -1.200758 4.527693 0 4.527693 \r\nz\r\n\" id=\"m73640aa4b7\" style=\"stroke:#ff0000;\"/>\r\n    </defs>\r\n    <g clip-path=\"url(#pbd7b1e9b33)\">\r\n     <use style=\"fill:#ff0000;stroke:#ff0000;\" x=\"348.334453\" xlink:href=\"#m73640aa4b7\" y=\"395.711794\"/>\r\n    </g>\r\n   </g>\r\n   <g id=\"PathCollection_10\">\r\n    <defs>\r\n     <path d=\"M 0 3.840573 \r\nC 1.018532 3.840573 1.995484 3.435906 2.715695 2.715695 \r\nC 3.435906 1.995484 3.840573 1.018532 3.840573 0 \r\nC 3.840573 -1.018532 3.435906 -1.995484 2.715695 -2.715695 \r\nC 1.995484 -3.435906 1.018532 -3.840573 0 -3.840573 \r\nC -1.018532 -3.840573 -1.995484 -3.435906 -2.715695 -2.715695 \r\nC -3.435906 -1.995484 -3.840573 -1.018532 -3.840573 0 \r\nC -3.840573 1.018532 -3.435906 1.995484 -2.715695 2.715695 \r\nC -1.995484 3.435906 -1.018532 3.840573 0 3.840573 \r\nz\r\n\" id=\"me19ffe17b9\" style=\"stroke:#000000;\"/>\r\n    </defs>\r\n    <g clip-path=\"url(#pbd7b1e9b33)\">\r\n     <use style=\"stroke:#000000;\" x=\"251.644347\" xlink:href=\"#me19ffe17b9\" y=\"443.535841\"/>\r\n    </g>\r\n   </g>\r\n   <g id=\"PathCollection_11\">\r\n    <defs>\r\n     <path d=\"M 0 3.774917 \r\nC 1.00112 3.774917 1.961371 3.377168 2.66927 2.66927 \r\nC 3.377168 1.961371 3.774917 1.00112 3.774917 0 \r\nC 3.774917 -1.00112 3.377168 -1.961371 2.66927 -2.66927 \r\nC 1.961371 -3.377168 1.00112 -3.774917 0 -3.774917 \r\nC -1.00112 -3.774917 -1.961371 -3.377168 -2.66927 -2.66927 \r\nC -3.377168 -1.961371 -3.774917 -1.00112 -3.774917 0 \r\nC -3.774917 1.00112 -3.377168 1.961371 -2.66927 2.66927 \r\nC -1.961371 3.377168 -1.00112 3.774917 0 3.774917 \r\nz\r\n\" id=\"m07f288d552\" style=\"stroke:#000000;\"/>\r\n    </defs>\r\n    <g clip-path=\"url(#pbd7b1e9b33)\">\r\n     <use style=\"stroke:#000000;\" x=\"243.236512\" xlink:href=\"#m07f288d552\" y=\"555.125284\"/>\r\n    </g>\r\n   </g>\r\n   <g id=\"PathCollection_12\">\r\n    <defs>\r\n     <path d=\"M 0 4.242641 \r\nC 1.125161 4.242641 2.204391 3.795609 3 3 \r\nC 3.795609 2.204391 4.242641 1.125161 4.242641 0 \r\nC 4.242641 -1.125161 3.795609 -2.204391 3 -3 \r\nC 2.204391 -3.795609 1.125161 -4.242641 0 -4.242641 \r\nC -1.125161 -4.242641 -2.204391 -3.795609 -3 -3 \r\nC -3.795609 -2.204391 -4.242641 -1.125161 -4.242641 0 \r\nC -4.242641 1.125161 -3.795609 2.204391 -3 3 \r\nC -2.204391 3.795609 -1.125161 4.242641 0 4.242641 \r\nz\r\n\" id=\"mf066c2eaec\" style=\"stroke:#000000;\"/>\r\n    </defs>\r\n    <g clip-path=\"url(#pbd7b1e9b33)\">\r\n     <use style=\"stroke:#000000;\" x=\"306.295276\" xlink:href=\"#mf066c2eaec\" y=\"555.125284\"/>\r\n    </g>\r\n   </g>\r\n   <g id=\"PathCollection_13\">\r\n    <defs>\r\n     <path d=\"M 0 3.807887 \r\nC 1.009863 3.807887 1.978501 3.406664 2.692582 2.692582 \r\nC 3.406664 1.978501 3.807887 1.009863 3.807887 0 \r\nC 3.807887 -1.009863 3.406664 -1.978501 2.692582 -2.692582 \r\nC 1.978501 -3.406664 1.009863 -3.807887 0 -3.807887 \r\nC -1.009863 -3.807887 -1.978501 -3.406664 -2.692582 -2.692582 \r\nC -3.406664 -1.978501 -3.807887 -1.009863 -3.807887 0 \r\nC -3.807887 1.009863 -3.406664 1.978501 -2.692582 2.692582 \r\nC -1.978501 3.406664 -1.009863 3.807887 0 3.807887 \r\nz\r\n\" id=\"me36b164ca1\" style=\"stroke:#000000;\"/>\r\n    </defs>\r\n    <g clip-path=\"url(#pbd7b1e9b33)\">\r\n     <use style=\"stroke:#000000;\" x=\"247.44043\" xlink:href=\"#me36b164ca1\" y=\"555.125284\"/>\r\n    </g>\r\n   </g>\r\n   <g id=\"PathCollection_14\">\r\n    <defs>\r\n     <path d=\"M 0 4.1833 \r\nC 1.109424 4.1833 2.173559 3.742521 2.95804 2.95804 \r\nC 3.742521 2.173559 4.1833 1.109424 4.1833 0 \r\nC 4.1833 -1.109424 3.742521 -2.173559 2.95804 -2.95804 \r\nC 2.173559 -3.742521 1.109424 -4.1833 0 -4.1833 \r\nC -1.109424 -4.1833 -2.173559 -3.742521 -2.95804 -2.95804 \r\nC -3.742521 -2.173559 -4.1833 -1.109424 -4.1833 0 \r\nC -4.1833 1.109424 -3.742521 2.173559 -2.95804 2.95804 \r\nC -2.173559 3.742521 -1.109424 4.1833 0 4.1833 \r\nz\r\n\" id=\"mb209fe4f63\" style=\"stroke:#ff0000;\"/>\r\n    </defs>\r\n    <g clip-path=\"url(#pbd7b1e9b33)\">\r\n     <use style=\"fill:#ff0000;stroke:#ff0000;\" x=\"297.887441\" xlink:href=\"#mb209fe4f63\" y=\"140.650211\"/>\r\n    </g>\r\n   </g>\r\n   <g id=\"PathCollection_15\">\r\n    <defs>\r\n     <path d=\"M 0 4.743416 \r\nC 1.257969 4.743416 2.464584 4.24362 3.354102 3.354102 \r\nC 4.24362 2.464584 4.743416 1.257969 4.743416 0 \r\nC 4.743416 -1.257969 4.24362 -2.464584 3.354102 -3.354102 \r\nC 2.464584 -4.24362 1.257969 -4.743416 0 -4.743416 \r\nC -1.257969 -4.743416 -2.464584 -4.24362 -3.354102 -3.354102 \r\nC -4.24362 -2.464584 -4.743416 -1.257969 -4.743416 0 \r\nC -4.743416 1.257969 -4.24362 2.464584 -3.354102 3.354102 \r\nC -2.464584 4.24362 -1.257969 4.743416 0 4.743416 \r\nz\r\n\" id=\"mc14e4f389b\" style=\"stroke:#008000;\"/>\r\n    </defs>\r\n    <g clip-path=\"url(#pbd7b1e9b33)\">\r\n     <use style=\"fill:#008000;stroke:#008000;\" x=\"381.965794\" xlink:href=\"#mc14e4f389b\" y=\"555.125284\"/>\r\n    </g>\r\n   </g>\r\n   <g id=\"PathCollection_16\">\r\n    <defs>\r\n     <path d=\"M 0 6.763875 \r\nC 1.793801 6.763875 3.514373 6.05119 4.782782 4.782782 \r\nC 6.05119 3.514373 6.763875 1.793801 6.763875 0 \r\nC 6.763875 -1.793801 6.05119 -3.514373 4.782782 -4.782782 \r\nC 3.514373 -6.05119 1.793801 -6.763875 0 -6.763875 \r\nC -1.793801 -6.763875 -3.514373 -6.05119 -4.782782 -4.782782 \r\nC -6.05119 -3.514373 -6.763875 -1.793801 -6.763875 0 \r\nC -6.763875 1.793801 -6.05119 3.514373 -4.782782 4.782782 \r\nC -3.514373 6.05119 -1.793801 6.763875 0 6.763875 \r\nz\r\n\" id=\"m3b144c8e05\" style=\"stroke:#008000;\"/>\r\n    </defs>\r\n    <g clip-path=\"url(#pbd7b1e9b33)\">\r\n     <use style=\"fill:#008000;stroke:#008000;\" x=\"772.930133\" xlink:href=\"#m3b144c8e05\" y=\"475.418539\"/>\r\n    </g>\r\n   </g>\r\n   <g id=\"matplotlib.axis_1\">\r\n    <g id=\"xtick_1\">\r\n     <g id=\"line2d_1\">\r\n      <defs>\r\n       <path d=\"M 0 0 \r\nL 0 3.5 \r\n\" id=\"m92d918cee2\" style=\"stroke:#000000;stroke-width:0.8;\"/>\r\n      </defs>\r\n      <g>\r\n       <use style=\"stroke:#000000;stroke-width:0.8;\" x=\"108.711148\" xlink:href=\"#m92d918cee2\" y=\"579.834375\"/>\r\n      </g>\r\n     </g>\r\n     <g id=\"text_1\">\r\n      <!-- 0.25 -->\r\n      <defs>\r\n       <path d=\"M 31.78125 66.40625 \r\nQ 24.171875 66.40625 20.328125 58.90625 \r\nQ 16.5 51.421875 16.5 36.375 \r\nQ 16.5 21.390625 20.328125 13.890625 \r\nQ 24.171875 6.390625 31.78125 6.390625 \r\nQ 39.453125 6.390625 43.28125 13.890625 \r\nQ 47.125 21.390625 47.125 36.375 \r\nQ 47.125 51.421875 43.28125 58.90625 \r\nQ 39.453125 66.40625 31.78125 66.40625 \r\nz\r\nM 31.78125 74.21875 \r\nQ 44.046875 74.21875 50.515625 64.515625 \r\nQ 56.984375 54.828125 56.984375 36.375 \r\nQ 56.984375 17.96875 50.515625 8.265625 \r\nQ 44.046875 -1.421875 31.78125 -1.421875 \r\nQ 19.53125 -1.421875 13.0625 8.265625 \r\nQ 6.59375 17.96875 6.59375 36.375 \r\nQ 6.59375 54.828125 13.0625 64.515625 \r\nQ 19.53125 74.21875 31.78125 74.21875 \r\nz\r\n\" id=\"DejaVuSans-48\"/>\r\n       <path d=\"M 10.6875 12.40625 \r\nL 21 12.40625 \r\nL 21 0 \r\nL 10.6875 0 \r\nz\r\n\" id=\"DejaVuSans-46\"/>\r\n       <path d=\"M 19.1875 8.296875 \r\nL 53.609375 8.296875 \r\nL 53.609375 0 \r\nL 7.328125 0 \r\nL 7.328125 8.296875 \r\nQ 12.9375 14.109375 22.625 23.890625 \r\nQ 32.328125 33.6875 34.8125 36.53125 \r\nQ 39.546875 41.84375 41.421875 45.53125 \r\nQ 43.3125 49.21875 43.3125 52.78125 \r\nQ 43.3125 58.59375 39.234375 62.25 \r\nQ 35.15625 65.921875 28.609375 65.921875 \r\nQ 23.96875 65.921875 18.8125 64.3125 \r\nQ 13.671875 62.703125 7.8125 59.421875 \r\nL 7.8125 69.390625 \r\nQ 13.765625 71.78125 18.9375 73 \r\nQ 24.125 74.21875 28.421875 74.21875 \r\nQ 39.75 74.21875 46.484375 68.546875 \r\nQ 53.21875 62.890625 53.21875 53.421875 \r\nQ 53.21875 48.921875 51.53125 44.890625 \r\nQ 49.859375 40.875 45.40625 35.40625 \r\nQ 44.1875 33.984375 37.640625 27.21875 \r\nQ 31.109375 20.453125 19.1875 8.296875 \r\nz\r\n\" id=\"DejaVuSans-50\"/>\r\n       <path d=\"M 10.796875 72.90625 \r\nL 49.515625 72.90625 \r\nL 49.515625 64.59375 \r\nL 19.828125 64.59375 \r\nL 19.828125 46.734375 \r\nQ 21.96875 47.46875 24.109375 47.828125 \r\nQ 26.265625 48.1875 28.421875 48.1875 \r\nQ 40.625 48.1875 47.75 41.5 \r\nQ 54.890625 34.8125 54.890625 23.390625 \r\nQ 54.890625 11.625 47.5625 5.09375 \r\nQ 40.234375 -1.421875 26.90625 -1.421875 \r\nQ 22.3125 -1.421875 17.546875 -0.640625 \r\nQ 12.796875 0.140625 7.71875 1.703125 \r\nL 7.71875 11.625 \r\nQ 12.109375 9.234375 16.796875 8.0625 \r\nQ 21.484375 6.890625 26.703125 6.890625 \r\nQ 35.15625 6.890625 40.078125 11.328125 \r\nQ 45.015625 15.765625 45.015625 23.390625 \r\nQ 45.015625 31 40.078125 35.4375 \r\nQ 35.15625 39.890625 26.703125 39.890625 \r\nQ 22.75 39.890625 18.8125 39.015625 \r\nQ 14.890625 38.140625 10.796875 36.28125 \r\nz\r\n\" id=\"DejaVuSans-53\"/>\r\n      </defs>\r\n      <g transform=\"translate(97.578335 594.432812)scale(0.1 -0.1)\">\r\n       <use xlink:href=\"#DejaVuSans-48\"/>\r\n       <use x=\"63.623047\" xlink:href=\"#DejaVuSans-46\"/>\r\n       <use x=\"95.410156\" xlink:href=\"#DejaVuSans-50\"/>\r\n       <use x=\"159.033203\" xlink:href=\"#DejaVuSans-53\"/>\r\n      </g>\r\n     </g>\r\n    </g>\r\n    <g id=\"xtick_2\">\r\n     <g id=\"line2d_2\">\r\n      <g>\r\n       <use style=\"stroke:#000000;stroke-width:0.8;\" x=\"213.809089\" xlink:href=\"#m92d918cee2\" y=\"579.834375\"/>\r\n      </g>\r\n     </g>\r\n     <g id=\"text_2\">\r\n      <!-- 0.50 -->\r\n      <g transform=\"translate(202.676276 594.432812)scale(0.1 -0.1)\">\r\n       <use xlink:href=\"#DejaVuSans-48\"/>\r\n       <use x=\"63.623047\" xlink:href=\"#DejaVuSans-46\"/>\r\n       <use x=\"95.410156\" xlink:href=\"#DejaVuSans-53\"/>\r\n       <use x=\"159.033203\" xlink:href=\"#DejaVuSans-48\"/>\r\n      </g>\r\n     </g>\r\n    </g>\r\n    <g id=\"xtick_3\">\r\n     <g id=\"line2d_3\">\r\n      <g>\r\n       <use style=\"stroke:#000000;stroke-width:0.8;\" x=\"318.907029\" xlink:href=\"#m92d918cee2\" y=\"579.834375\"/>\r\n      </g>\r\n     </g>\r\n     <g id=\"text_3\">\r\n      <!-- 0.75 -->\r\n      <defs>\r\n       <path d=\"M 8.203125 72.90625 \r\nL 55.078125 72.90625 \r\nL 55.078125 68.703125 \r\nL 28.609375 0 \r\nL 18.3125 0 \r\nL 43.21875 64.59375 \r\nL 8.203125 64.59375 \r\nz\r\n\" id=\"DejaVuSans-55\"/>\r\n      </defs>\r\n      <g transform=\"translate(307.774217 594.432812)scale(0.1 -0.1)\">\r\n       <use xlink:href=\"#DejaVuSans-48\"/>\r\n       <use x=\"63.623047\" xlink:href=\"#DejaVuSans-46\"/>\r\n       <use x=\"95.410156\" xlink:href=\"#DejaVuSans-55\"/>\r\n       <use x=\"159.033203\" xlink:href=\"#DejaVuSans-53\"/>\r\n      </g>\r\n     </g>\r\n    </g>\r\n    <g id=\"xtick_4\">\r\n     <g id=\"line2d_4\">\r\n      <g>\r\n       <use style=\"stroke:#000000;stroke-width:0.8;\" x=\"424.00497\" xlink:href=\"#m92d918cee2\" y=\"579.834375\"/>\r\n      </g>\r\n     </g>\r\n     <g id=\"text_4\">\r\n      <!-- 1.00 -->\r\n      <defs>\r\n       <path d=\"M 12.40625 8.296875 \r\nL 28.515625 8.296875 \r\nL 28.515625 63.921875 \r\nL 10.984375 60.40625 \r\nL 10.984375 69.390625 \r\nL 28.421875 72.90625 \r\nL 38.28125 72.90625 \r\nL 38.28125 8.296875 \r\nL 54.390625 8.296875 \r\nL 54.390625 0 \r\nL 12.40625 0 \r\nz\r\n\" id=\"DejaVuSans-49\"/>\r\n      </defs>\r\n      <g transform=\"translate(412.872158 594.432812)scale(0.1 -0.1)\">\r\n       <use xlink:href=\"#DejaVuSans-49\"/>\r\n       <use x=\"63.623047\" xlink:href=\"#DejaVuSans-46\"/>\r\n       <use x=\"95.410156\" xlink:href=\"#DejaVuSans-48\"/>\r\n       <use x=\"159.033203\" xlink:href=\"#DejaVuSans-48\"/>\r\n      </g>\r\n     </g>\r\n    </g>\r\n    <g id=\"xtick_5\">\r\n     <g id=\"line2d_5\">\r\n      <g>\r\n       <use style=\"stroke:#000000;stroke-width:0.8;\" x=\"529.102911\" xlink:href=\"#m92d918cee2\" y=\"579.834375\"/>\r\n      </g>\r\n     </g>\r\n     <g id=\"text_5\">\r\n      <!-- 1.25 -->\r\n      <g transform=\"translate(517.970098 594.432812)scale(0.1 -0.1)\">\r\n       <use xlink:href=\"#DejaVuSans-49\"/>\r\n       <use x=\"63.623047\" xlink:href=\"#DejaVuSans-46\"/>\r\n       <use x=\"95.410156\" xlink:href=\"#DejaVuSans-50\"/>\r\n       <use x=\"159.033203\" xlink:href=\"#DejaVuSans-53\"/>\r\n      </g>\r\n     </g>\r\n    </g>\r\n    <g id=\"xtick_6\">\r\n     <g id=\"line2d_6\">\r\n      <g>\r\n       <use style=\"stroke:#000000;stroke-width:0.8;\" x=\"634.200851\" xlink:href=\"#m92d918cee2\" y=\"579.834375\"/>\r\n      </g>\r\n     </g>\r\n     <g id=\"text_6\">\r\n      <!-- 1.50 -->\r\n      <g transform=\"translate(623.068039 594.432812)scale(0.1 -0.1)\">\r\n       <use xlink:href=\"#DejaVuSans-49\"/>\r\n       <use x=\"63.623047\" xlink:href=\"#DejaVuSans-46\"/>\r\n       <use x=\"95.410156\" xlink:href=\"#DejaVuSans-53\"/>\r\n       <use x=\"159.033203\" xlink:href=\"#DejaVuSans-48\"/>\r\n      </g>\r\n     </g>\r\n    </g>\r\n    <g id=\"xtick_7\">\r\n     <g id=\"line2d_7\">\r\n      <g>\r\n       <use style=\"stroke:#000000;stroke-width:0.8;\" x=\"739.298792\" xlink:href=\"#m92d918cee2\" y=\"579.834375\"/>\r\n      </g>\r\n     </g>\r\n     <g id=\"text_7\">\r\n      <!-- 1.75 -->\r\n      <g transform=\"translate(728.16598 594.432812)scale(0.1 -0.1)\">\r\n       <use xlink:href=\"#DejaVuSans-49\"/>\r\n       <use x=\"63.623047\" xlink:href=\"#DejaVuSans-46\"/>\r\n       <use x=\"95.410156\" xlink:href=\"#DejaVuSans-55\"/>\r\n       <use x=\"159.033203\" xlink:href=\"#DejaVuSans-53\"/>\r\n      </g>\r\n     </g>\r\n    </g>\r\n    <g id=\"xtick_8\">\r\n     <g id=\"line2d_8\">\r\n      <g>\r\n       <use style=\"stroke:#000000;stroke-width:0.8;\" x=\"844.396733\" xlink:href=\"#m92d918cee2\" y=\"579.834375\"/>\r\n      </g>\r\n     </g>\r\n     <g id=\"text_8\">\r\n      <!-- 2.00 -->\r\n      <g transform=\"translate(833.26392 594.432812)scale(0.1 -0.1)\">\r\n       <use xlink:href=\"#DejaVuSans-50\"/>\r\n       <use x=\"63.623047\" xlink:href=\"#DejaVuSans-46\"/>\r\n       <use x=\"95.410156\" xlink:href=\"#DejaVuSans-48\"/>\r\n       <use x=\"159.033203\" xlink:href=\"#DejaVuSans-48\"/>\r\n      </g>\r\n     </g>\r\n    </g>\r\n    <g id=\"text_9\">\r\n     <!-- cost -->\r\n     <defs>\r\n      <path d=\"M 48.78125 52.59375 \r\nL 48.78125 44.1875 \r\nQ 44.96875 46.296875 41.140625 47.34375 \r\nQ 37.3125 48.390625 33.40625 48.390625 \r\nQ 24.65625 48.390625 19.8125 42.84375 \r\nQ 14.984375 37.3125 14.984375 27.296875 \r\nQ 14.984375 17.28125 19.8125 11.734375 \r\nQ 24.65625 6.203125 33.40625 6.203125 \r\nQ 37.3125 6.203125 41.140625 7.25 \r\nQ 44.96875 8.296875 48.78125 10.40625 \r\nL 48.78125 2.09375 \r\nQ 45.015625 0.34375 40.984375 -0.53125 \r\nQ 36.96875 -1.421875 32.421875 -1.421875 \r\nQ 20.0625 -1.421875 12.78125 6.34375 \r\nQ 5.515625 14.109375 5.515625 27.296875 \r\nQ 5.515625 40.671875 12.859375 48.328125 \r\nQ 20.21875 56 33.015625 56 \r\nQ 37.15625 56 41.109375 55.140625 \r\nQ 45.0625 54.296875 48.78125 52.59375 \r\nz\r\n\" id=\"DejaVuSans-99\"/>\r\n      <path d=\"M 30.609375 48.390625 \r\nQ 23.390625 48.390625 19.1875 42.75 \r\nQ 14.984375 37.109375 14.984375 27.296875 \r\nQ 14.984375 17.484375 19.15625 11.84375 \r\nQ 23.34375 6.203125 30.609375 6.203125 \r\nQ 37.796875 6.203125 41.984375 11.859375 \r\nQ 46.1875 17.53125 46.1875 27.296875 \r\nQ 46.1875 37.015625 41.984375 42.703125 \r\nQ 37.796875 48.390625 30.609375 48.390625 \r\nz\r\nM 30.609375 56 \r\nQ 42.328125 56 49.015625 48.375 \r\nQ 55.71875 40.765625 55.71875 27.296875 \r\nQ 55.71875 13.875 49.015625 6.21875 \r\nQ 42.328125 -1.421875 30.609375 -1.421875 \r\nQ 18.84375 -1.421875 12.171875 6.21875 \r\nQ 5.515625 13.875 5.515625 27.296875 \r\nQ 5.515625 40.765625 12.171875 48.375 \r\nQ 18.84375 56 30.609375 56 \r\nz\r\n\" id=\"DejaVuSans-111\"/>\r\n      <path d=\"M 44.28125 53.078125 \r\nL 44.28125 44.578125 \r\nQ 40.484375 46.53125 36.375 47.5 \r\nQ 32.28125 48.484375 27.875 48.484375 \r\nQ 21.1875 48.484375 17.84375 46.4375 \r\nQ 14.5 44.390625 14.5 40.28125 \r\nQ 14.5 37.15625 16.890625 35.375 \r\nQ 19.28125 33.59375 26.515625 31.984375 \r\nL 29.59375 31.296875 \r\nQ 39.15625 29.25 43.1875 25.515625 \r\nQ 47.21875 21.78125 47.21875 15.09375 \r\nQ 47.21875 7.46875 41.1875 3.015625 \r\nQ 35.15625 -1.421875 24.609375 -1.421875 \r\nQ 20.21875 -1.421875 15.453125 -0.5625 \r\nQ 10.6875 0.296875 5.421875 2 \r\nL 5.421875 11.28125 \r\nQ 10.40625 8.6875 15.234375 7.390625 \r\nQ 20.0625 6.109375 24.8125 6.109375 \r\nQ 31.15625 6.109375 34.5625 8.28125 \r\nQ 37.984375 10.453125 37.984375 14.40625 \r\nQ 37.984375 18.0625 35.515625 20.015625 \r\nQ 33.0625 21.96875 24.703125 23.78125 \r\nL 21.578125 24.515625 \r\nQ 13.234375 26.265625 9.515625 29.90625 \r\nQ 5.8125 33.546875 5.8125 39.890625 \r\nQ 5.8125 47.609375 11.28125 51.796875 \r\nQ 16.75 56 26.8125 56 \r\nQ 31.78125 56 36.171875 55.265625 \r\nQ 40.578125 54.546875 44.28125 53.078125 \r\nz\r\n\" id=\"DejaVuSans-115\"/>\r\n      <path d=\"M 18.3125 70.21875 \r\nL 18.3125 54.6875 \r\nL 36.8125 54.6875 \r\nL 36.8125 47.703125 \r\nL 18.3125 47.703125 \r\nL 18.3125 18.015625 \r\nQ 18.3125 11.328125 20.140625 9.421875 \r\nQ 21.96875 7.515625 27.59375 7.515625 \r\nL 36.8125 7.515625 \r\nL 36.8125 0 \r\nL 27.59375 0 \r\nQ 17.1875 0 13.234375 3.875 \r\nQ 9.28125 7.765625 9.28125 18.015625 \r\nL 9.28125 47.703125 \r\nL 2.6875 47.703125 \r\nL 2.6875 54.6875 \r\nL 9.28125 54.6875 \r\nL 9.28125 70.21875 \r\nz\r\n\" id=\"DejaVuSans-116\"/>\r\n     </defs>\r\n     <g transform=\"translate(448.382031 611.910156)scale(0.15 -0.15)\">\r\n      <use xlink:href=\"#DejaVuSans-99\"/>\r\n      <use x=\"54.980469\" xlink:href=\"#DejaVuSans-111\"/>\r\n      <use x=\"116.162109\" xlink:href=\"#DejaVuSans-115\"/>\r\n      <use x=\"168.261719\" xlink:href=\"#DejaVuSans-116\"/>\r\n     </g>\r\n    </g>\r\n    <g id=\"text_10\">\r\n     <!-- 1e6 -->\r\n     <defs>\r\n      <path d=\"M 56.203125 29.59375 \r\nL 56.203125 25.203125 \r\nL 14.890625 25.203125 \r\nQ 15.484375 15.921875 20.484375 11.0625 \r\nQ 25.484375 6.203125 34.421875 6.203125 \r\nQ 39.59375 6.203125 44.453125 7.46875 \r\nQ 49.3125 8.734375 54.109375 11.28125 \r\nL 54.109375 2.78125 \r\nQ 49.265625 0.734375 44.1875 -0.34375 \r\nQ 39.109375 -1.421875 33.890625 -1.421875 \r\nQ 20.796875 -1.421875 13.15625 6.1875 \r\nQ 5.515625 13.8125 5.515625 26.8125 \r\nQ 5.515625 40.234375 12.765625 48.109375 \r\nQ 20.015625 56 32.328125 56 \r\nQ 43.359375 56 49.78125 48.890625 \r\nQ 56.203125 41.796875 56.203125 29.59375 \r\nz\r\nM 47.21875 32.234375 \r\nQ 47.125 39.59375 43.09375 43.984375 \r\nQ 39.0625 48.390625 32.421875 48.390625 \r\nQ 24.90625 48.390625 20.390625 44.140625 \r\nQ 15.875 39.890625 15.1875 32.171875 \r\nz\r\n\" id=\"DejaVuSans-101\"/>\r\n      <path d=\"M 33.015625 40.375 \r\nQ 26.375 40.375 22.484375 35.828125 \r\nQ 18.609375 31.296875 18.609375 23.390625 \r\nQ 18.609375 15.53125 22.484375 10.953125 \r\nQ 26.375 6.390625 33.015625 6.390625 \r\nQ 39.65625 6.390625 43.53125 10.953125 \r\nQ 47.40625 15.53125 47.40625 23.390625 \r\nQ 47.40625 31.296875 43.53125 35.828125 \r\nQ 39.65625 40.375 33.015625 40.375 \r\nz\r\nM 52.59375 71.296875 \r\nL 52.59375 62.3125 \r\nQ 48.875 64.0625 45.09375 64.984375 \r\nQ 41.3125 65.921875 37.59375 65.921875 \r\nQ 27.828125 65.921875 22.671875 59.328125 \r\nQ 17.53125 52.734375 16.796875 39.40625 \r\nQ 19.671875 43.65625 24.015625 45.921875 \r\nQ 28.375 48.1875 33.59375 48.1875 \r\nQ 44.578125 48.1875 50.953125 41.515625 \r\nQ 57.328125 34.859375 57.328125 23.390625 \r\nQ 57.328125 12.15625 50.6875 5.359375 \r\nQ 44.046875 -1.421875 33.015625 -1.421875 \r\nQ 20.359375 -1.421875 13.671875 8.265625 \r\nQ 6.984375 17.96875 6.984375 36.375 \r\nQ 6.984375 53.65625 15.1875 63.9375 \r\nQ 23.390625 74.21875 37.203125 74.21875 \r\nQ 40.921875 74.21875 44.703125 73.484375 \r\nQ 48.484375 72.75 52.59375 71.296875 \r\nz\r\n\" id=\"DejaVuSans-54\"/>\r\n     </defs>\r\n     <g transform=\"translate(863.564063 607.110937)scale(0.1 -0.1)\">\r\n      <use xlink:href=\"#DejaVuSans-49\"/>\r\n      <use x=\"63.623047\" xlink:href=\"#DejaVuSans-101\"/>\r\n      <use x=\"125.146484\" xlink:href=\"#DejaVuSans-54\"/>\r\n     </g>\r\n    </g>\r\n   </g>\r\n   <g id=\"matplotlib.axis_2\">\r\n    <g id=\"ytick_1\">\r\n     <g id=\"line2d_9\">\r\n      <defs>\r\n       <path d=\"M 0 0 \r\nL -3.5 0 \r\n\" id=\"m023f14df21\" style=\"stroke:#000000;stroke-width:0.8;\"/>\r\n      </defs>\r\n      <g>\r\n       <use style=\"stroke:#000000;stroke-width:0.8;\" x=\"45.442188\" xlink:href=\"#m023f14df21\" y=\"555.125284\"/>\r\n      </g>\r\n     </g>\r\n     <g id=\"text_11\">\r\n      <!-- 0 -->\r\n      <g transform=\"translate(32.079688 558.924503)scale(0.1 -0.1)\">\r\n       <use xlink:href=\"#DejaVuSans-48\"/>\r\n      </g>\r\n     </g>\r\n    </g>\r\n    <g id=\"ytick_2\">\r\n     <g id=\"line2d_10\">\r\n      <g>\r\n       <use style=\"stroke:#000000;stroke-width:0.8;\" x=\"45.442188\" xlink:href=\"#m023f14df21\" y=\"475.418539\"/>\r\n      </g>\r\n     </g>\r\n     <g id=\"text_12\">\r\n      <!-- 10 -->\r\n      <g transform=\"translate(25.717188 479.217758)scale(0.1 -0.1)\">\r\n       <use xlink:href=\"#DejaVuSans-49\"/>\r\n       <use x=\"63.623047\" xlink:href=\"#DejaVuSans-48\"/>\r\n      </g>\r\n     </g>\r\n    </g>\r\n    <g id=\"ytick_3\">\r\n     <g id=\"line2d_11\">\r\n      <g>\r\n       <use style=\"stroke:#000000;stroke-width:0.8;\" x=\"45.442188\" xlink:href=\"#m023f14df21\" y=\"395.711794\"/>\r\n      </g>\r\n     </g>\r\n     <g id=\"text_13\">\r\n      <!-- 20 -->\r\n      <g transform=\"translate(25.717188 399.511013)scale(0.1 -0.1)\">\r\n       <use xlink:href=\"#DejaVuSans-50\"/>\r\n       <use x=\"63.623047\" xlink:href=\"#DejaVuSans-48\"/>\r\n      </g>\r\n     </g>\r\n    </g>\r\n    <g id=\"ytick_4\">\r\n     <g id=\"line2d_12\">\r\n      <g>\r\n       <use style=\"stroke:#000000;stroke-width:0.8;\" x=\"45.442188\" xlink:href=\"#m023f14df21\" y=\"316.005049\"/>\r\n      </g>\r\n     </g>\r\n     <g id=\"text_14\">\r\n      <!-- 30 -->\r\n      <defs>\r\n       <path d=\"M 40.578125 39.3125 \r\nQ 47.65625 37.796875 51.625 33 \r\nQ 55.609375 28.21875 55.609375 21.1875 \r\nQ 55.609375 10.40625 48.1875 4.484375 \r\nQ 40.765625 -1.421875 27.09375 -1.421875 \r\nQ 22.515625 -1.421875 17.65625 -0.515625 \r\nQ 12.796875 0.390625 7.625 2.203125 \r\nL 7.625 11.71875 \r\nQ 11.71875 9.328125 16.59375 8.109375 \r\nQ 21.484375 6.890625 26.8125 6.890625 \r\nQ 36.078125 6.890625 40.9375 10.546875 \r\nQ 45.796875 14.203125 45.796875 21.1875 \r\nQ 45.796875 27.640625 41.28125 31.265625 \r\nQ 36.765625 34.90625 28.71875 34.90625 \r\nL 20.21875 34.90625 \r\nL 20.21875 43.015625 \r\nL 29.109375 43.015625 \r\nQ 36.375 43.015625 40.234375 45.921875 \r\nQ 44.09375 48.828125 44.09375 54.296875 \r\nQ 44.09375 59.90625 40.109375 62.90625 \r\nQ 36.140625 65.921875 28.71875 65.921875 \r\nQ 24.65625 65.921875 20.015625 65.03125 \r\nQ 15.375 64.15625 9.8125 62.3125 \r\nL 9.8125 71.09375 \r\nQ 15.4375 72.65625 20.34375 73.4375 \r\nQ 25.25 74.21875 29.59375 74.21875 \r\nQ 40.828125 74.21875 47.359375 69.109375 \r\nQ 53.90625 64.015625 53.90625 55.328125 \r\nQ 53.90625 49.265625 50.4375 45.09375 \r\nQ 46.96875 40.921875 40.578125 39.3125 \r\nz\r\n\" id=\"DejaVuSans-51\"/>\r\n      </defs>\r\n      <g transform=\"translate(25.717188 319.804268)scale(0.1 -0.1)\">\r\n       <use xlink:href=\"#DejaVuSans-51\"/>\r\n       <use x=\"63.623047\" xlink:href=\"#DejaVuSans-48\"/>\r\n      </g>\r\n     </g>\r\n    </g>\r\n    <g id=\"ytick_5\">\r\n     <g id=\"line2d_13\">\r\n      <g>\r\n       <use style=\"stroke:#000000;stroke-width:0.8;\" x=\"45.442188\" xlink:href=\"#m023f14df21\" y=\"236.298305\"/>\r\n      </g>\r\n     </g>\r\n     <g id=\"text_15\">\r\n      <!-- 40 -->\r\n      <defs>\r\n       <path d=\"M 37.796875 64.3125 \r\nL 12.890625 25.390625 \r\nL 37.796875 25.390625 \r\nz\r\nM 35.203125 72.90625 \r\nL 47.609375 72.90625 \r\nL 47.609375 25.390625 \r\nL 58.015625 25.390625 \r\nL 58.015625 17.1875 \r\nL 47.609375 17.1875 \r\nL 47.609375 0 \r\nL 37.796875 0 \r\nL 37.796875 17.1875 \r\nL 4.890625 17.1875 \r\nL 4.890625 26.703125 \r\nz\r\n\" id=\"DejaVuSans-52\"/>\r\n      </defs>\r\n      <g transform=\"translate(25.717188 240.097523)scale(0.1 -0.1)\">\r\n       <use xlink:href=\"#DejaVuSans-52\"/>\r\n       <use x=\"63.623047\" xlink:href=\"#DejaVuSans-48\"/>\r\n      </g>\r\n     </g>\r\n    </g>\r\n    <g id=\"ytick_6\">\r\n     <g id=\"line2d_14\">\r\n      <g>\r\n       <use style=\"stroke:#000000;stroke-width:0.8;\" x=\"45.442188\" xlink:href=\"#m023f14df21\" y=\"156.59156\"/>\r\n      </g>\r\n     </g>\r\n     <g id=\"text_16\">\r\n      <!-- 50 -->\r\n      <g transform=\"translate(25.717188 160.390779)scale(0.1 -0.1)\">\r\n       <use xlink:href=\"#DejaVuSans-53\"/>\r\n       <use x=\"63.623047\" xlink:href=\"#DejaVuSans-48\"/>\r\n      </g>\r\n     </g>\r\n    </g>\r\n    <g id=\"ytick_7\">\r\n     <g id=\"line2d_15\">\r\n      <g>\r\n       <use style=\"stroke:#000000;stroke-width:0.8;\" x=\"45.442188\" xlink:href=\"#m023f14df21\" y=\"76.884815\"/>\r\n      </g>\r\n     </g>\r\n     <g id=\"text_17\">\r\n      <!-- 60 -->\r\n      <g transform=\"translate(25.717188 80.684034)scale(0.1 -0.1)\">\r\n       <use xlink:href=\"#DejaVuSans-54\"/>\r\n       <use x=\"63.623047\" xlink:href=\"#DejaVuSans-48\"/>\r\n      </g>\r\n     </g>\r\n    </g>\r\n    <g id=\"text_18\">\r\n     <!-- frequency -->\r\n     <defs>\r\n      <path d=\"M 37.109375 75.984375 \r\nL 37.109375 68.5 \r\nL 28.515625 68.5 \r\nQ 23.6875 68.5 21.796875 66.546875 \r\nQ 19.921875 64.59375 19.921875 59.515625 \r\nL 19.921875 54.6875 \r\nL 34.71875 54.6875 \r\nL 34.71875 47.703125 \r\nL 19.921875 47.703125 \r\nL 19.921875 0 \r\nL 10.890625 0 \r\nL 10.890625 47.703125 \r\nL 2.296875 47.703125 \r\nL 2.296875 54.6875 \r\nL 10.890625 54.6875 \r\nL 10.890625 58.5 \r\nQ 10.890625 67.625 15.140625 71.796875 \r\nQ 19.390625 75.984375 28.609375 75.984375 \r\nz\r\n\" id=\"DejaVuSans-102\"/>\r\n      <path d=\"M 41.109375 46.296875 \r\nQ 39.59375 47.171875 37.8125 47.578125 \r\nQ 36.03125 48 33.890625 48 \r\nQ 26.265625 48 22.1875 43.046875 \r\nQ 18.109375 38.09375 18.109375 28.8125 \r\nL 18.109375 0 \r\nL 9.078125 0 \r\nL 9.078125 54.6875 \r\nL 18.109375 54.6875 \r\nL 18.109375 46.1875 \r\nQ 20.953125 51.171875 25.484375 53.578125 \r\nQ 30.03125 56 36.53125 56 \r\nQ 37.453125 56 38.578125 55.875 \r\nQ 39.703125 55.765625 41.0625 55.515625 \r\nz\r\n\" id=\"DejaVuSans-114\"/>\r\n      <path d=\"M 14.796875 27.296875 \r\nQ 14.796875 17.390625 18.875 11.75 \r\nQ 22.953125 6.109375 30.078125 6.109375 \r\nQ 37.203125 6.109375 41.296875 11.75 \r\nQ 45.40625 17.390625 45.40625 27.296875 \r\nQ 45.40625 37.203125 41.296875 42.84375 \r\nQ 37.203125 48.484375 30.078125 48.484375 \r\nQ 22.953125 48.484375 18.875 42.84375 \r\nQ 14.796875 37.203125 14.796875 27.296875 \r\nz\r\nM 45.40625 8.203125 \r\nQ 42.578125 3.328125 38.25 0.953125 \r\nQ 33.9375 -1.421875 27.875 -1.421875 \r\nQ 17.96875 -1.421875 11.734375 6.484375 \r\nQ 5.515625 14.40625 5.515625 27.296875 \r\nQ 5.515625 40.1875 11.734375 48.09375 \r\nQ 17.96875 56 27.875 56 \r\nQ 33.9375 56 38.25 53.625 \r\nQ 42.578125 51.265625 45.40625 46.390625 \r\nL 45.40625 54.6875 \r\nL 54.390625 54.6875 \r\nL 54.390625 -20.796875 \r\nL 45.40625 -20.796875 \r\nz\r\n\" id=\"DejaVuSans-113\"/>\r\n      <path d=\"M 8.5 21.578125 \r\nL 8.5 54.6875 \r\nL 17.484375 54.6875 \r\nL 17.484375 21.921875 \r\nQ 17.484375 14.15625 20.5 10.265625 \r\nQ 23.53125 6.390625 29.59375 6.390625 \r\nQ 36.859375 6.390625 41.078125 11.03125 \r\nQ 45.3125 15.671875 45.3125 23.6875 \r\nL 45.3125 54.6875 \r\nL 54.296875 54.6875 \r\nL 54.296875 0 \r\nL 45.3125 0 \r\nL 45.3125 8.40625 \r\nQ 42.046875 3.421875 37.71875 1 \r\nQ 33.40625 -1.421875 27.6875 -1.421875 \r\nQ 18.265625 -1.421875 13.375 4.4375 \r\nQ 8.5 10.296875 8.5 21.578125 \r\nz\r\nM 31.109375 56 \r\nz\r\n\" id=\"DejaVuSans-117\"/>\r\n      <path d=\"M 54.890625 33.015625 \r\nL 54.890625 0 \r\nL 45.90625 0 \r\nL 45.90625 32.71875 \r\nQ 45.90625 40.484375 42.875 44.328125 \r\nQ 39.84375 48.1875 33.796875 48.1875 \r\nQ 26.515625 48.1875 22.3125 43.546875 \r\nQ 18.109375 38.921875 18.109375 30.90625 \r\nL 18.109375 0 \r\nL 9.078125 0 \r\nL 9.078125 54.6875 \r\nL 18.109375 54.6875 \r\nL 18.109375 46.1875 \r\nQ 21.34375 51.125 25.703125 53.5625 \r\nQ 30.078125 56 35.796875 56 \r\nQ 45.21875 56 50.046875 50.171875 \r\nQ 54.890625 44.34375 54.890625 33.015625 \r\nz\r\n\" id=\"DejaVuSans-110\"/>\r\n      <path d=\"M 32.171875 -5.078125 \r\nQ 28.375 -14.84375 24.75 -17.8125 \r\nQ 21.140625 -20.796875 15.09375 -20.796875 \r\nL 7.90625 -20.796875 \r\nL 7.90625 -13.28125 \r\nL 13.1875 -13.28125 \r\nQ 16.890625 -13.28125 18.9375 -11.515625 \r\nQ 21 -9.765625 23.484375 -3.21875 \r\nL 25.09375 0.875 \r\nL 2.984375 54.6875 \r\nL 12.5 54.6875 \r\nL 29.59375 11.921875 \r\nL 46.6875 54.6875 \r\nL 56.203125 54.6875 \r\nz\r\n\" id=\"DejaVuSans-121\"/>\r\n     </defs>\r\n     <g transform=\"translate(18.597656 345.649219)rotate(-90)scale(0.15 -0.15)\">\r\n      <use xlink:href=\"#DejaVuSans-102\"/>\r\n      <use x=\"35.205078\" xlink:href=\"#DejaVuSans-114\"/>\r\n      <use x=\"74.068359\" xlink:href=\"#DejaVuSans-101\"/>\r\n      <use x=\"135.591797\" xlink:href=\"#DejaVuSans-113\"/>\r\n      <use x=\"199.068359\" xlink:href=\"#DejaVuSans-117\"/>\r\n      <use x=\"262.447266\" xlink:href=\"#DejaVuSans-101\"/>\r\n      <use x=\"323.970703\" xlink:href=\"#DejaVuSans-110\"/>\r\n      <use x=\"387.349609\" xlink:href=\"#DejaVuSans-99\"/>\r\n      <use x=\"442.330078\" xlink:href=\"#DejaVuSans-121\"/>\r\n     </g>\r\n    </g>\r\n   </g>\r\n   <g id=\"line2d_16\">\r\n    <path clip-path=\"url(#pbd7b1e9b33)\" d=\"M 45.442188 418.129316 \r\nL 882.442188 418.129316 \r\n\" style=\"fill:none;stroke:#00bfbf;stroke-dasharray:3.7,1.6;stroke-dashoffset:0;\"/>\r\n   </g>\r\n   <g id=\"line2d_17\">\r\n    <path clip-path=\"url(#pbd7b1e9b33)\" d=\"M 380.12658 579.834375 \r\nL 380.12658 36.234375 \r\n\" style=\"fill:none;stroke:#00bfbf;stroke-dasharray:3.7,1.6;stroke-dashoffset:0;\"/>\r\n   </g>\r\n   <g id=\"patch_3\">\r\n    <path d=\"M 45.442188 579.834375 \r\nL 45.442188 36.234375 \r\n\" style=\"fill:none;stroke:#000000;stroke-linecap:square;stroke-linejoin:miter;stroke-width:0.8;\"/>\r\n   </g>\r\n   <g id=\"patch_4\">\r\n    <path d=\"M 882.442188 579.834375 \r\nL 882.442188 36.234375 \r\n\" style=\"fill:none;stroke:#000000;stroke-linecap:square;stroke-linejoin:miter;stroke-width:0.8;\"/>\r\n   </g>\r\n   <g id=\"patch_5\">\r\n    <path d=\"M 45.442188 579.834375 \r\nL 882.442187 579.834375 \r\n\" style=\"fill:none;stroke:#000000;stroke-linecap:square;stroke-linejoin:miter;stroke-width:0.8;\"/>\r\n   </g>\r\n   <g id=\"patch_6\">\r\n    <path d=\"M 45.442188 36.234375 \r\nL 882.442187 36.234375 \r\n\" style=\"fill:none;stroke:#000000;stroke-linecap:square;stroke-linejoin:miter;stroke-width:0.8;\"/>\r\n   </g>\r\n   <g id=\"text_19\">\r\n    <!-- Cost-effectiveness analysis -->\r\n    <defs>\r\n     <path d=\"M 64.40625 67.28125 \r\nL 64.40625 56.890625 \r\nQ 59.421875 61.53125 53.78125 63.8125 \r\nQ 48.140625 66.109375 41.796875 66.109375 \r\nQ 29.296875 66.109375 22.65625 58.46875 \r\nQ 16.015625 50.828125 16.015625 36.375 \r\nQ 16.015625 21.96875 22.65625 14.328125 \r\nQ 29.296875 6.6875 41.796875 6.6875 \r\nQ 48.140625 6.6875 53.78125 8.984375 \r\nQ 59.421875 11.28125 64.40625 15.921875 \r\nL 64.40625 5.609375 \r\nQ 59.234375 2.09375 53.4375 0.328125 \r\nQ 47.65625 -1.421875 41.21875 -1.421875 \r\nQ 24.65625 -1.421875 15.125 8.703125 \r\nQ 5.609375 18.84375 5.609375 36.375 \r\nQ 5.609375 53.953125 15.125 64.078125 \r\nQ 24.65625 74.21875 41.21875 74.21875 \r\nQ 47.75 74.21875 53.53125 72.484375 \r\nQ 59.328125 70.75 64.40625 67.28125 \r\nz\r\n\" id=\"DejaVuSans-67\"/>\r\n     <path d=\"M 4.890625 31.390625 \r\nL 31.203125 31.390625 \r\nL 31.203125 23.390625 \r\nL 4.890625 23.390625 \r\nz\r\n\" id=\"DejaVuSans-45\"/>\r\n     <path d=\"M 9.421875 54.6875 \r\nL 18.40625 54.6875 \r\nL 18.40625 0 \r\nL 9.421875 0 \r\nz\r\nM 9.421875 75.984375 \r\nL 18.40625 75.984375 \r\nL 18.40625 64.59375 \r\nL 9.421875 64.59375 \r\nz\r\n\" id=\"DejaVuSans-105\"/>\r\n     <path d=\"M 2.984375 54.6875 \r\nL 12.5 54.6875 \r\nL 29.59375 8.796875 \r\nL 46.6875 54.6875 \r\nL 56.203125 54.6875 \r\nL 35.6875 0 \r\nL 23.484375 0 \r\nz\r\n\" id=\"DejaVuSans-118\"/>\r\n     <path id=\"DejaVuSans-32\"/>\r\n     <path d=\"M 34.28125 27.484375 \r\nQ 23.390625 27.484375 19.1875 25 \r\nQ 14.984375 22.515625 14.984375 16.5 \r\nQ 14.984375 11.71875 18.140625 8.90625 \r\nQ 21.296875 6.109375 26.703125 6.109375 \r\nQ 34.1875 6.109375 38.703125 11.40625 \r\nQ 43.21875 16.703125 43.21875 25.484375 \r\nL 43.21875 27.484375 \r\nz\r\nM 52.203125 31.203125 \r\nL 52.203125 0 \r\nL 43.21875 0 \r\nL 43.21875 8.296875 \r\nQ 40.140625 3.328125 35.546875 0.953125 \r\nQ 30.953125 -1.421875 24.3125 -1.421875 \r\nQ 15.921875 -1.421875 10.953125 3.296875 \r\nQ 6 8.015625 6 15.921875 \r\nQ 6 25.140625 12.171875 29.828125 \r\nQ 18.359375 34.515625 30.609375 34.515625 \r\nL 43.21875 34.515625 \r\nL 43.21875 35.40625 \r\nQ 43.21875 41.609375 39.140625 45 \r\nQ 35.0625 48.390625 27.6875 48.390625 \r\nQ 23 48.390625 18.546875 47.265625 \r\nQ 14.109375 46.140625 10.015625 43.890625 \r\nL 10.015625 52.203125 \r\nQ 14.9375 54.109375 19.578125 55.046875 \r\nQ 24.21875 56 28.609375 56 \r\nQ 40.484375 56 46.34375 49.84375 \r\nQ 52.203125 43.703125 52.203125 31.203125 \r\nz\r\n\" id=\"DejaVuSans-97\"/>\r\n     <path d=\"M 9.421875 75.984375 \r\nL 18.40625 75.984375 \r\nL 18.40625 0 \r\nL 9.421875 0 \r\nz\r\n\" id=\"DejaVuSans-108\"/>\r\n    </defs>\r\n    <g transform=\"translate(259.897656 29.995312)scale(0.3 -0.3)\">\r\n     <use xlink:href=\"#DejaVuSans-67\"/>\r\n     <use x=\"69.824219\" xlink:href=\"#DejaVuSans-111\"/>\r\n     <use x=\"131.005859\" xlink:href=\"#DejaVuSans-115\"/>\r\n     <use x=\"183.105469\" xlink:href=\"#DejaVuSans-116\"/>\r\n     <use x=\"222.314453\" xlink:href=\"#DejaVuSans-45\"/>\r\n     <use x=\"258.398438\" xlink:href=\"#DejaVuSans-101\"/>\r\n     <use x=\"319.921875\" xlink:href=\"#DejaVuSans-102\"/>\r\n     <use x=\"355.126953\" xlink:href=\"#DejaVuSans-102\"/>\r\n     <use x=\"390.332031\" xlink:href=\"#DejaVuSans-101\"/>\r\n     <use x=\"451.855469\" xlink:href=\"#DejaVuSans-99\"/>\r\n     <use x=\"506.835938\" xlink:href=\"#DejaVuSans-116\"/>\r\n     <use x=\"546.044922\" xlink:href=\"#DejaVuSans-105\"/>\r\n     <use x=\"573.828125\" xlink:href=\"#DejaVuSans-118\"/>\r\n     <use x=\"633.007812\" xlink:href=\"#DejaVuSans-101\"/>\r\n     <use x=\"694.53125\" xlink:href=\"#DejaVuSans-110\"/>\r\n     <use x=\"757.910156\" xlink:href=\"#DejaVuSans-101\"/>\r\n     <use x=\"819.433594\" xlink:href=\"#DejaVuSans-115\"/>\r\n     <use x=\"871.533203\" xlink:href=\"#DejaVuSans-115\"/>\r\n     <use x=\"923.632812\" xlink:href=\"#DejaVuSans-32\"/>\r\n     <use x=\"955.419922\" xlink:href=\"#DejaVuSans-97\"/>\r\n     <use x=\"1016.699219\" xlink:href=\"#DejaVuSans-110\"/>\r\n     <use x=\"1080.078125\" xlink:href=\"#DejaVuSans-97\"/>\r\n     <use x=\"1141.357422\" xlink:href=\"#DejaVuSans-108\"/>\r\n     <use x=\"1169.140625\" xlink:href=\"#DejaVuSans-121\"/>\r\n     <use x=\"1228.320312\" xlink:href=\"#DejaVuSans-115\"/>\r\n     <use x=\"1280.419922\" xlink:href=\"#DejaVuSans-105\"/>\r\n     <use x=\"1308.203125\" xlink:href=\"#DejaVuSans-115\"/>\r\n    </g>\r\n   </g>\r\n   <g id=\"legend_1\">\r\n    <g id=\"patch_7\">\r\n     <path d=\"M 871.442188 49.234375 \r\nL 875.442188 49.234375 \r\nQ 877.442188 49.234375 877.442188 47.234375 \r\nL 877.442188 43.234375 \r\nQ 877.442188 41.234375 875.442188 41.234375 \r\nL 871.442188 41.234375 \r\nQ 869.442188 41.234375 869.442188 43.234375 \r\nL 869.442188 47.234375 \r\nQ 869.442188 49.234375 871.442188 49.234375 \r\nz\r\n\" style=\"fill:#ffffff;opacity:0.8;stroke:#cccccc;stroke-linejoin:miter;\"/>\r\n    </g>\r\n   </g>\r\n  </g>\r\n </g>\r\n <defs>\r\n  <clipPath id=\"pbd7b1e9b33\">\r\n   <rect height=\"543.6\" width=\"837\" x=\"45.442188\" y=\"36.234375\"/>\r\n  </clipPath>\r\n </defs>\r\n</svg>\r\n",
      "image/png": "[encoded data removed]"
     },
     "metadata": {
      "needs_background": "light"
     }
    },
    {
     "output_type": "stream",
     "name": "stdout",
     "text": [
      "load default bestMainFeatures\n",
      "load default bestMainFeatures success!!\n",
      "load model from MultinomialNB\n",
      "計算成為王的男人的情緒分析....\n",
      "計算皇后的品格的情緒分析....\n",
      "計算赤月青日的情緒分析....\n",
      "計算神的測驗的情緒分析....\n",
      "計算死之詠讚的情緒分析....\n",
      "計算王牌大律師的情緒分析....\n",
      "計算Priest驅魔者的情緒分析....\n",
      "計算加油吧威基基的情緒分析....\n",
      "計算皮諾丘的情緒分析....\n",
      "計算魔女寶鑑的情緒分析....\n",
      "計算好運羅曼史的情緒分析....\n",
      "計算購物王路易的情緒分析....\n",
      "計算七次初吻的情緒分析....\n",
      "計算男朋友的情緒分析....\n",
      "計算請回答1997的情緒分析....\n",
      "計算來自星星的你的情緒分析....\n"
     ]
    }
   ],
   "source": [
    "final_list = plt_cp_product(removeword = removeword, \n",
    "                            movie = movie, \n",
    "                            bean = bean,\n",
    "                            drama_cost = drama_cost , \n",
    "                            KoreaDrama = KoreaDrama)"
   ]
  },
  {
   "cell_type": "code",
   "execution_count": null,
   "metadata": {},
   "outputs": [],
   "source": []
  },
  {
   "cell_type": "code",
   "execution_count": null,
   "metadata": {},
   "outputs": [],
   "source": []
  }
 ]
}