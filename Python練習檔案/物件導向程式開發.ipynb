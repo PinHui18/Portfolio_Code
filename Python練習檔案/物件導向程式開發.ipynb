{
 "cells": [
  {
   "cell_type": "markdown",
   "metadata": {},
   "source": [
    "## 類別與物件"
   ]
  },
  {
   "cell_type": "markdown",
   "metadata": {},
   "source": [
    "### 類別(Class) 與 物件(Object) 是個一體兩面的東西，以下我用幾個不同的方式說明這兩著的差別：\n",
    "\n",
    "#### 類別：一個藍圖、一個範本、一個可參考的文件，他沒有 實體 (Instance) 的概念，屬靜態的。\n",
    "#### 物件：一個看的到、摸的到的實體，屬於動態的，狀態會隨時改變，但架構與行為不會改變。\n",
    "#### 舉例來說：建築物，類別：設計藍圖；物件：實際蓋好的房子\n",
    "#### 兩者關係：設計藍圖(類別)決定房子應該怎麼蓋，決定幾台電梯、幾間房間、走道如何設計。實際蓋好的房子(物件)是照著設計藍圖所蓋出來的房子，人只能照設計藍圖的設計使用這間房子。"
   ]
  },
  {
   "cell_type": "code",
   "execution_count": 16,
   "metadata": {},
   "outputs": [
    {
     "name": "stdout",
     "output_type": "stream",
     "text": [
      "My car is blue and 4 seat.\n"
     ]
    }
   ],
   "source": [
    "# 汽車類別(class) = 藍圖 = 數計圖\n",
    "class Cars:\n",
    "    # 建構式(consturctor)\n",
    "    def __init__(self, color, seat):\n",
    "        self.color = color # 顏色屬性\n",
    "        self.seat = seat # 座位屬性\n",
    "\n",
    "    # 方法(Method)\n",
    "    def drive(self):\n",
    "        print(f\"My car is {self.color} and {self.seat} seat.\")\n",
    "\n",
    "mazda = Cars(\"blue\",4)  # 物件 = 實物\n",
    "mazda.drive()"
   ]
  },
  {
   "cell_type": "code",
   "execution_count": 5,
   "metadata": {},
   "outputs": [],
   "source": [
    "# 建立類別\n",
    "# 類別名稱的第一個字元建議大寫\n",
    "class Animal():   # 定義類別\n",
    "    name = \"小鳥\"  # 定義屬性(attribute)\n",
    "    def sing(self): # 定義方法(method)\n",
    "        print(\"很會唱歌！\") # 建立物件"
   ]
  },
  {
   "cell_type": "code",
   "execution_count": 6,
   "metadata": {},
   "outputs": [
    {
     "name": "stdout",
     "output_type": "stream",
     "text": [
      "小鳥\n",
      "很會唱歌！\n"
     ]
    }
   ],
   "source": [
    "bird = Animal() # 建立一個名叫bird的Animal物件\n",
    "print(bird.name) # 小鳥\n",
    "bird.sing() # 很會唱歌"
   ]
  },
  {
   "cell_type": "code",
   "execution_count": 7,
   "metadata": {},
   "outputs": [
    {
     "name": "stdout",
     "output_type": "stream",
     "text": [
      "鸚鵡\n",
      "鸚鵡, 很會唱歌!\n"
     ]
    }
   ],
   "source": [
    "# 類別的建構式\n",
    "# 建立類別時必須對類別初始化，因此須建立一個特殊的方法：\n",
    "# def(__init()__(self[, 參數1, 參數2,...]):\n",
    "class Animal():  # 定義類別\n",
    "    def __init__(self, name):\n",
    "        self.name = name # 定義屬性\n",
    "    def sing(self):  #定義方法\n",
    "        print(self.name + \", 很會唱歌!\")\n",
    "        \n",
    "bird = Animal(\"鸚鵡\")  # 以Animal類別建立一個名叫鸚鵡的bird物件\n",
    "print(bird.name)  # 鸚鵡\n",
    "bird.sing()"
   ]
  },
  {
   "cell_type": "code",
   "execution_count": 11,
   "metadata": {},
   "outputs": [
    {
     "name": "stdout",
     "output_type": "stream",
     "text": [
      "鸚鵡2歲, 很會唱歌!\n"
     ]
    }
   ],
   "source": [
    "#屬性初始值的設定\n",
    "class Animal():  # 定義類別\n",
    "    def __init__(self, name, age):\n",
    "        self.name = name  # 定義屬性\n",
    "        self.age = age\n",
    "    def sing(self):  # 定義方法\n",
    "        print(self.name + str(self.age) + \"歲, 很會唱歌!\")\n",
    "    def grow(self, year): # 定義方法\n",
    "        self.age += year\n",
    "        \n",
    "bird = Animal(\"鸚鵡\", 1) # 以Animal類別建立一個名叫鸚鵡1歲大的bird物件\n",
    "bird.grow(1) # 長大1歲\n",
    "bird.sing()"
   ]
  },
  {
   "cell_type": "markdown",
   "metadata": {},
   "source": [
    "## 類別封裝"
   ]
  },
  {
   "cell_type": "markdown",
   "metadata": {},
   "source": [
    "### 封裝(encapsulation)：Python提供私用(private)屬性和私用方法，只有類別內部可以使用，類別外部無法使用"
   ]
  },
  {
   "cell_type": "code",
   "execution_count": 1,
   "metadata": {},
   "outputs": [
    {
     "name": "stdout",
     "output_type": "stream",
     "text": [
      "灰鸚鵡2歲，很會唱歌，也會模仿人類說話\n",
      "灰鸚鵡2歲，很會唱歌，也會模仿人類說話\n"
     ]
    }
   ],
   "source": [
    "class Animal():\n",
    "    def __init__(self , name, age):\n",
    "        self.__name = name # 定義私用屬性\n",
    "        self.__age = age\n",
    "    def __sing(self):  # 定義私用方法\n",
    "        print(self.__name + str(self.__age), end=\"歲，很會唱歌，\")\n",
    "    def talk(self): # 定義共用方法\n",
    "        self.__sing()  # 使用私用方法\n",
    "        print(\"也會模仿人類說話\")\n",
    "\n",
    "bird = Animal(\"灰鸚鵡\",2)\n",
    "bird.talk()\n",
    "bird.__age = -1 # 設定無效\n",
    "bird.talk()\n",
    "# bird.__sing() 執行出現錯誤"
   ]
  },
  {
   "cell_type": "markdown",
   "metadata": {},
   "source": [
    "## 類別繼承"
   ]
  },
  {
   "cell_type": "markdown",
   "metadata": {},
   "source": [
    "### 類別可以繼承，被繼承的類別稱為 父類別(parent class)或基底類別(base class)，繼承的類別稱為子類別(child class)或行生類別(derived class)\n",
    "### 子類別可以繼承父類別中所有共用屬性和共用方法"
   ]
  },
  {
   "cell_type": "code",
   "execution_count": 2,
   "metadata": {},
   "outputs": [],
   "source": [
    "# 交通工具(基底類別)\n",
    "class Transportation:\n",
    "    # 建構式\n",
    "    def __init__(self):\n",
    "        self.color = \"white\"  #顏色屬性\n",
    "    # 駕駛方法\n",
    "    def drive(self):\n",
    "        print(\"drive method is called.\")\n",
    "\n",
    "        # 汽車子類別 class 類別名稱(父類別)\n",
    "class Car(Transportation):\n",
    "    # 加速方法\n",
    "    def accelerate(self):\n",
    "        print(\"accelerate is method called.\")\n",
    "# 飛機子類別\n",
    "class Airplane(Transportation):\n",
    "    # 飛行方法\n",
    "    def fly(self):\n",
    "        print(\"fly method is called.\")"
   ]
  },
  {
   "cell_type": "code",
   "execution_count": 3,
   "metadata": {},
   "outputs": [
    {
     "name": "stdout",
     "output_type": "stream",
     "text": [
      "drive method is called.\n",
      "white\n"
     ]
    }
   ],
   "source": [
    "mazda = Car()\n",
    "mazda.drive()\n",
    "print(mazda.color)"
   ]
  },
  {
   "cell_type": "markdown",
   "metadata": {},
   "source": [
    "## 多層"
   ]
  },
  {
   "cell_type": "markdown",
   "metadata": {},
   "source": [
    "### 繼承(Inheritance)的層級超過一層以上"
   ]
  },
  {
   "cell_type": "code",
   "execution_count": 1,
   "metadata": {},
   "outputs": [
    {
     "name": "stdout",
     "output_type": "stream",
     "text": [
      "fly\n"
     ]
    }
   ],
   "source": [
    "# 動物類別\n",
    "class Animal:\n",
    "    pass\n",
    "# 鳥類類別\n",
    "class Bird(Animal): # Bird類別(Class)繼承(Inheritance)了Animal類別(Class)\n",
    "    # 飛行方法\n",
    "    def fly(self):\n",
    "        print(\"fly\")\n",
    "# 鴨子類別\n",
    "class Duck(Bird): # Duck類別(Class)又再繼承(Inheritance)了Bird類別\n",
    "    pass\n",
    "duck = Duck()\n",
    "duck.fly()\n",
    "# 雖然繼承(Inheritance)在程式碼的重用(Reusable)上非常的好，但是如果沒有適當的使用就會產生邏輯上的錯誤"
   ]
  },
  {
   "cell_type": "markdown",
   "metadata": {},
   "source": [
    "## 多重繼承"
   ]
  },
  {
   "cell_type": "markdown",
   "metadata": {},
   "source": [
    "### 子類別繼承(Inheritance)一個以上的父類別"
   ]
  },
  {
   "cell_type": "code",
   "execution_count": 2,
   "metadata": {},
   "outputs": [
    {
     "name": "stdout",
     "output_type": "stream",
     "text": [
      "Animal eat method is called.\n"
     ]
    }
   ],
   "source": [
    "# 動物類別\n",
    "class Animal:\n",
    "    def eat(self):\n",
    "        print(\"Animal eat method is called.\")\n",
    "# 鳥類類別\n",
    "class Bird:\n",
    "    def eat(self):\n",
    "        print(\"Bird fly method is called.\")\n",
    "# 鴨子類別\n",
    "class Duck(Animal, Bird):\n",
    "    pass\n",
    "duck = Duck()\n",
    "duck.eat()"
   ]
  },
  {
   "cell_type": "code",
   "execution_count": null,
   "metadata": {},
   "outputs": [],
   "source": []
  }
 ],
 "metadata": {
  "kernelspec": {
   "display_name": "Python 3",
   "language": "python",
   "name": "python3"
  },
  "language_info": {
   "codemirror_mode": {
    "name": "ipython",
    "version": 3
   },
   "file_extension": ".py",
   "mimetype": "text/x-python",
   "name": "python",
   "nbconvert_exporter": "python",
   "pygments_lexer": "ipython3",
   "version": "3.8.3"
  }
 },
 "nbformat": 4,
 "nbformat_minor": 4
}
