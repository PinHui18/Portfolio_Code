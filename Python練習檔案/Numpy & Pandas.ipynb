{
 "cells": [
  {
   "cell_type": "markdown",
   "metadata": {},
   "source": [
    "## Numpy"
   ]
  },
  {
   "cell_type": "code",
   "execution_count": 1,
   "metadata": {},
   "outputs": [
    {
     "name": "stdout",
     "output_type": "stream",
     "text": [
      "[1 2 3]\n",
      "1\n",
      "[1 3 3]\n"
     ]
    }
   ],
   "source": [
    "# 一維陣列\n",
    "import numpy as np\n",
    "x = np.array([1,2,3])\n",
    "print(x)\n",
    "print(x[0])\n",
    "x[1] = 3\n",
    "print(x)"
   ]
  },
  {
   "cell_type": "code",
   "execution_count": 2,
   "metadata": {},
   "outputs": [
    {
     "name": "stdout",
     "output_type": "stream",
     "text": [
      "1\n",
      "(3,)\n",
      "3\n"
     ]
    }
   ],
   "source": [
    "import numpy as np\n",
    "x = np.array([1,2,3])\n",
    "print(x.ndim)\n",
    "print(x.shape) # 元素個數的元祖\n",
    "print(x.size) # 元素個數"
   ]
  },
  {
   "cell_type": "code",
   "execution_count": 3,
   "metadata": {},
   "outputs": [
    {
     "name": "stdout",
     "output_type": "stream",
     "text": [
      "[1 2 3 4 5]\n",
      "[0 0 0 0 0]\n",
      "[1. 1. 1. 1. 1.]\n"
     ]
    }
   ],
   "source": [
    "import numpy as np\n",
    "x = np.arange(1,6) # 建立陣列\n",
    "print(x)\n",
    "y = np.zeros(5, dtype=np.int_) # dtype 預設式浮點數陣列\n",
    "print(y)\n",
    "z = np.ones(5)\n",
    "print(z)"
   ]
  },
  {
   "cell_type": "code",
   "execution_count": 4,
   "metadata": {},
   "outputs": [
    {
     "name": "stdout",
     "output_type": "stream",
     "text": [
      "[1 2 3]\n",
      "8\n",
      "-----------------\n",
      "[1 2 3 4 5 6 7 8 4 5]\n",
      "-----------------\n",
      "[1 2 9 3 4 5 6 7 8]\n",
      "-----------------\n",
      "[1 3 5 6 7 8]\n"
     ]
    }
   ],
   "source": [
    "import numpy as np\n",
    "x = np.array([1,2,3,4,5,6,7,8])\n",
    "# 切片\n",
    "print(x[0:3])\n",
    "print(x[-1])\n",
    "print('-----------------')\n",
    "# 陣列結合 或 加入陣列元素\n",
    "y = np.array([4,5])\n",
    "z = np.concatenate((x,y))\n",
    "print(z)\n",
    "print('-----------------')\n",
    "# 在陣列指定索引插入元素\n",
    "z1 = np.insert(x,2,9) # 指定索引2插入元素9\n",
    "print(z1)\n",
    "print('-----------------')\n",
    "# 刪除指定索引的陣列元素\n",
    "z2 = np.delete(x,[1,3]) # 刪除索引1和3\n",
    "print((z2))"
   ]
  },
  {
   "cell_type": "code",
   "execution_count": 6,
   "metadata": {},
   "outputs": [
    {
     "name": "stdout",
     "output_type": "stream",
     "text": [
      "[[1 2 3]\n",
      " [4 5 6]]\n",
      "2\n",
      "(2, 3)\n",
      "6\n"
     ]
    }
   ],
   "source": [
    "# 二維陣列\n",
    "import numpy as np\n",
    "x = np.array([[1,2,3],[4,5,6]])\n",
    "print(x)\n",
    "print(x.ndim)\n",
    "print(x.shape)\n",
    "print(x.size)"
   ]
  },
  {
   "cell_type": "code",
   "execution_count": 7,
   "metadata": {},
   "outputs": [
    {
     "name": "stdout",
     "output_type": "stream",
     "text": [
      "[[False False False]\n",
      " [False False False]]\n"
     ]
    }
   ],
   "source": [
    "import numpy as np\n",
    "x = np.array([[1,2,3],[4,5,6]])\n",
    "y = np.array([[7,8,9],[10,11,12]])\n",
    "z = x > y\n",
    "print(z)"
   ]
  },
  {
   "cell_type": "code",
   "execution_count": 8,
   "metadata": {},
   "outputs": [
    {
     "name": "stdout",
     "output_type": "stream",
     "text": [
      "[[ 1  2  3]\n",
      " [ 4  5 10]]\n",
      "[[1 2]\n",
      " [4 5]]\n"
     ]
    }
   ],
   "source": [
    "import numpy as np\n",
    "x = np.array([[1,2,3],[4,5,6]])\n",
    "x[1,2] = 10\n",
    "print(x)\n",
    "# 切片\n",
    "print(x[0:2,0:2]) # row, column"
   ]
  },
  {
   "cell_type": "code",
   "execution_count": 10,
   "metadata": {},
   "outputs": [
    {
     "name": "stdout",
     "output_type": "stream",
     "text": [
      "[1 2 3 4 5 6]\n",
      "----------\n",
      "[[1 2 3]\n",
      " [4 5 6]]\n",
      "-------------\n",
      "[[1 4]\n",
      " [2 5]\n",
      " [3 6]]\n"
     ]
    }
   ],
   "source": [
    "import numpy as np\n",
    "x = np.array([[1,2,3],[4,5,6]])\n",
    "y = x.ravel() # 轉成一維陣列\n",
    "print(y)\n",
    "print('----------')\n",
    "x1 = np.array([1,2,3,4,5,6])\n",
    "y1 = x1.reshape(2,3)\n",
    "print(y1)\n",
    "print('-------------')\n",
    "# 矩陣轉置\n",
    "y2 = y1.transpose()\n",
    "print(y2)"
   ]
  },
  {
   "cell_type": "code",
   "execution_count": 14,
   "metadata": {},
   "outputs": [
    {
     "name": "stdout",
     "output_type": "stream",
     "text": [
      "[[0 1 2]\n",
      " [3 4 5]]\n",
      "[[1 2 3]\n",
      " [4 5 6]]\n",
      "[[0 1 2]\n",
      " [3 4 5]\n",
      " [1 2 3]\n",
      " [4 5 6]]\n",
      "[[0 1 2 1 2 3]\n",
      " [3 4 5 4 5 6]]\n",
      "[[0 1 2]\n",
      " [3 4 5]\n",
      " [1 2 3]\n",
      " [4 5 6]]\n"
     ]
    }
   ],
   "source": [
    "import numpy as np\n",
    "# 矩陣堆疊\n",
    "x = np.arange(6).reshape(2,3)\n",
    "y = np.arange(1,7).reshape(2,3)\n",
    "print(x)\n",
    "print(y)\n",
    "\n",
    "z1 = np.vstack((x,y)) # 垂直方向堆疊\n",
    "z2 = np.column_stack((x,y))\n",
    "z3 = np.row_stack((x,y))\n",
    "print(z1)\n",
    "print(z2)\n",
    "print(z3)"
   ]
  },
  {
   "cell_type": "markdown",
   "metadata": {},
   "source": [
    "## Pandas"
   ]
  },
  {
   "cell_type": "code",
   "execution_count": 16,
   "metadata": {},
   "outputs": [
    {
     "data": {
      "text/plain": [
       "0    1\n",
       "1    3\n",
       "2    3\n",
       "3    4\n",
       "4    5\n",
       "dtype: int64"
      ]
     },
     "execution_count": 16,
     "metadata": {},
     "output_type": "execute_result"
    }
   ],
   "source": [
    "# Series是一種一維陣列資料結構\n",
    "import pandas as pd\n",
    "s1 = pd.Series([1,2,3,4,5])\n",
    "s1\n",
    "s1[1] = 3\n",
    "s1"
   ]
  },
  {
   "cell_type": "code",
   "execution_count": 17,
   "metadata": {},
   "outputs": [
    {
     "data": {
      "text/plain": [
       "台灣    Taiwan\n",
       "東京     Tokyo\n",
       "dtype: object"
      ]
     },
     "execution_count": 17,
     "metadata": {},
     "output_type": "execute_result"
    }
   ],
   "source": [
    "import pandas as pd\n",
    "s2 = pd.Series({'台灣':'Taiwan','東京':'Tokyo'})\n",
    "s2"
   ]
  },
  {
   "cell_type": "code",
   "execution_count": 19,
   "metadata": {},
   "outputs": [
    {
     "data": {
      "text/plain": [
       "0    0\n",
       "1    2\n",
       "2    4\n",
       "3    6\n",
       "dtype: int32"
      ]
     },
     "execution_count": 19,
     "metadata": {},
     "output_type": "execute_result"
    }
   ],
   "source": [
    "import pandas as pd\n",
    "import numpy as np\n",
    "s3 = pd.Series(np.arange(0,7,2))\n",
    "s3"
   ]
  },
  {
   "cell_type": "code",
   "execution_count": 21,
   "metadata": {},
   "outputs": [
    {
     "data": {
      "text/plain": [
       "3    100\n",
       "4    200\n",
       "5    300\n",
       "dtype: int64"
      ]
     },
     "execution_count": 21,
     "metadata": {},
     "output_type": "execute_result"
    }
   ],
   "source": [
    "import pandas as pd\n",
    "myindex = [3,4,5] # 自訂索引\n",
    "price = [100,200,300]\n",
    "s4 = pd.Series(price, index=myindex)\n",
    "s4"
   ]
  },
  {
   "cell_type": "code",
   "execution_count": 22,
   "metadata": {},
   "outputs": [
    {
     "data": {
      "text/plain": [
       "2    2\n",
       "3    3\n",
       "4    4\n",
       "dtype: int64"
      ]
     },
     "execution_count": 22,
     "metadata": {},
     "output_type": "execute_result"
    }
   ],
   "source": [
    "# 切片\n",
    "import pandas as pd\n",
    "s = pd.Series([0,1,2,3,4,5])\n",
    "s[2:5]"
   ]
  },
  {
   "cell_type": "code",
   "execution_count": 23,
   "metadata": {},
   "outputs": [
    {
     "data": {
      "text/plain": [
       "0    4\n",
       "1    6\n",
       "dtype: int64"
      ]
     },
     "execution_count": 23,
     "metadata": {},
     "output_type": "execute_result"
    }
   ],
   "source": [
    "# 四則運算\n",
    "import pandas as pd\n",
    "x = pd.Series([1,2])\n",
    "y = pd.Series([3,4])\n",
    "z = x + y\n",
    "z"
   ]
  },
  {
   "cell_type": "code",
   "execution_count": 26,
   "metadata": {},
   "outputs": [
    {
     "name": "stdout",
     "output_type": "stream",
     "text": [
      "2020    18\n",
      "2021    19\n",
      "2022    20\n",
      "2020    25\n",
      "2021    26\n",
      "2022    27\n",
      "dtype: int64\n"
     ]
    }
   ],
   "source": [
    "# 使用Series物件成為二維陣列\n",
    "import pandas as pd\n",
    "years = range(2020, 2023)\n",
    "country1 = pd.Series([18,19,20], index=years)\n",
    "country2 = pd.Series([25,26,27], index=years)\n",
    "citydf = pd.concat([country1,country2], axis=0)\n",
    "print(citydf)"
   ]
  },
  {
   "cell_type": "code",
   "execution_count": 27,
   "metadata": {},
   "outputs": [
    {
     "name": "stdout",
     "output_type": "stream",
     "text": [
      "       0   1\n",
      "2020  18  25\n",
      "2021  19  26\n",
      "2022  20  27\n"
     ]
    }
   ],
   "source": [
    "import pandas as pd\n",
    "years = range(2020, 2023)\n",
    "country1 = pd.Series([18,19,20], index=years)\n",
    "country2 = pd.Series([25,26,27], index=years)\n",
    "citydf = pd.concat([country1,country2], axis=1)\n",
    "print(citydf)"
   ]
  },
  {
   "cell_type": "code",
   "execution_count": 28,
   "metadata": {},
   "outputs": [
    {
     "name": "stdout",
     "output_type": "stream",
     "text": [
      "      Taipei  Tokyo\n",
      "2020      18     25\n",
      "2021      19     26\n",
      "2022      20     27\n"
     ]
    }
   ],
   "source": [
    "import pandas as pd\n",
    "years = range(2020, 2023)\n",
    "country1 = pd.Series([18,19,20], index=years)\n",
    "country2 = pd.Series([25,26,27], index=years)\n",
    "citydf = pd.concat([country1,country2], axis=1)\n",
    "city = ['Taipei','Tokyo']\n",
    "citydf.columns = city\n",
    "print(citydf)"
   ]
  },
  {
   "cell_type": "code",
   "execution_count": 36,
   "metadata": {},
   "outputs": [
    {
     "name": "stdout",
     "output_type": "stream",
     "text": [
      "   apple  orange\n",
      "0     50      40\n",
      "1     45      50\n"
     ]
    }
   ],
   "source": [
    "# DataFrame 是一個二維的陣列資料結構\n",
    "import pandas as pd\n",
    "data1 = [{'apple':50, 'orange':40},{'apple':45, 'orange':50}]\n",
    "df1 = pd.DataFrame(data1)\n",
    "print(df1)"
   ]
  },
  {
   "cell_type": "code",
   "execution_count": 42,
   "metadata": {},
   "outputs": [
    {
     "name": "stdout",
     "output_type": "stream",
     "text": [
      "   apple  orange\n",
      "1     50      45\n",
      "2     45      50\n"
     ]
    }
   ],
   "source": [
    "import pandas as pd\n",
    "data2 = {'apple':[50,45], \n",
    "          'orange':[45,50]}\n",
    "fruitindex = ['1','2']\n",
    "df2 = pd.DataFrame(data2, index = fruitindex)\n",
    "print(df2)"
   ]
  },
  {
   "cell_type": "code",
   "execution_count": 45,
   "metadata": {},
   "outputs": [
    {
     "data": {
      "text/html": [
       "<div>\n",
       "<style scoped>\n",
       "    .dataframe tbody tr th:only-of-type {\n",
       "        vertical-align: middle;\n",
       "    }\n",
       "\n",
       "    .dataframe tbody tr th {\n",
       "        vertical-align: top;\n",
       "    }\n",
       "\n",
       "    .dataframe thead th {\n",
       "        text-align: right;\n",
       "    }\n",
       "</style>\n",
       "<table border=\"1\" class=\"dataframe\">\n",
       "  <thead>\n",
       "    <tr style=\"text-align: right;\">\n",
       "      <th></th>\n",
       "      <th>country</th>\n",
       "      <th>town</th>\n",
       "      <th>population</th>\n",
       "    </tr>\n",
       "  </thead>\n",
       "  <tbody>\n",
       "    <tr>\n",
       "      <th>first</th>\n",
       "      <td>China</td>\n",
       "      <td>Beijing</td>\n",
       "      <td>2000</td>\n",
       "    </tr>\n",
       "    <tr>\n",
       "      <th>second</th>\n",
       "      <td>Japan</td>\n",
       "      <td>Tokyo</td>\n",
       "      <td>1600</td>\n",
       "    </tr>\n",
       "    <tr>\n",
       "      <th>third</th>\n",
       "      <td>Taiwan</td>\n",
       "      <td>Taipei</td>\n",
       "      <td>230</td>\n",
       "    </tr>\n",
       "  </tbody>\n",
       "</table>\n",
       "</div>"
      ],
      "text/plain": [
       "       country     town  population\n",
       "first    China  Beijing        2000\n",
       "second   Japan    Tokyo        1600\n",
       "third   Taiwan   Taipei         230"
      ]
     },
     "execution_count": 45,
     "metadata": {},
     "output_type": "execute_result"
    }
   ],
   "source": [
    "# Pnadas 資料處理與分析\n",
    "import pandas as pd\n",
    "cities = {'country':['China','Japan','Taiwan'],\n",
    "          'town':['Beijing','Tokyo','Taipei'],\n",
    "          'population':[2000,1600,230]}\n",
    "cityindex = ['first','second','third']\n",
    "citydf = pd.DataFrame(cities, index=cityindex)\n",
    "citydf"
   ]
  },
  {
   "cell_type": "code",
   "execution_count": 46,
   "metadata": {},
   "outputs": [
    {
     "name": "stdout",
     "output_type": "stream",
     "text": [
      "Beijing\n"
     ]
    }
   ],
   "source": [
    "# 索引參照屬性\n",
    "print(citydf.at['first','town']) # row, column"
   ]
  },
  {
   "cell_type": "code",
   "execution_count": 47,
   "metadata": {},
   "outputs": [
    {
     "name": "stdout",
     "output_type": "stream",
     "text": [
      "Beijing\n"
     ]
    }
   ],
   "source": [
    "print(citydf.iat[0,1]) "
   ]
  },
  {
   "cell_type": "code",
   "execution_count": 49,
   "metadata": {},
   "outputs": [
    {
     "name": "stdout",
     "output_type": "stream",
     "text": [
      "country         China\n",
      "town          Beijing\n",
      "population       2000\n",
      "Name: first, dtype: object\n"
     ]
    }
   ],
   "source": [
    "print(citydf.loc['first']) "
   ]
  },
  {
   "cell_type": "code",
   "execution_count": 48,
   "metadata": {},
   "outputs": [
    {
     "name": "stdout",
     "output_type": "stream",
     "text": [
      "country         China\n",
      "town          Beijing\n",
      "population       2000\n",
      "Name: first, dtype: object\n"
     ]
    }
   ],
   "source": [
    "print(citydf.iloc[0]) "
   ]
  },
  {
   "cell_type": "code",
   "execution_count": 50,
   "metadata": {},
   "outputs": [
    {
     "name": "stdout",
     "output_type": "stream",
     "text": [
      "       country     town  population\n",
      "first    China  Beijing        2000\n",
      "second   Japan    Tokyo        1600\n"
     ]
    }
   ],
   "source": [
    "print(citydf[citydf['population'] > 1000]) "
   ]
  },
  {
   "cell_type": "code",
   "execution_count": null,
   "metadata": {},
   "outputs": [],
   "source": []
  }
 ],
 "metadata": {
  "kernelspec": {
   "display_name": "Python 3",
   "language": "python",
   "name": "python3"
  },
  "language_info": {
   "codemirror_mode": {
    "name": "ipython",
    "version": 3
   },
   "file_extension": ".py",
   "mimetype": "text/x-python",
   "name": "python",
   "nbconvert_exporter": "python",
   "pygments_lexer": "ipython3",
   "version": "3.8.3"
  }
 },
 "nbformat": 4,
 "nbformat_minor": 4
}
