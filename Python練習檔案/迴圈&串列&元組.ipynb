{
 "cells": [
  {
   "cell_type": "markdown",
   "metadata": {},
   "source": [
    "## 迴圈"
   ]
  },
  {
   "cell_type": "code",
   "execution_count": 1,
   "metadata": {},
   "outputs": [
    {
     "name": "stdout",
     "output_type": "stream",
     "text": [
      "1\n",
      "2\n"
     ]
    }
   ],
   "source": [
    "## while\n",
    "i = 1\n",
    "while i < 3:\n",
    "    print(i)\n",
    "    i = i + 1"
   ]
  },
  {
   "cell_type": "code",
   "execution_count": 3,
   "metadata": {},
   "outputs": [
    {
     "name": "stdout",
     "output_type": "stream",
     "text": [
      "請輸入1~99的數字：55\n",
      "猜小一點\n",
      "請輸入1~99的數字：40\n",
      "猜小一點\n",
      "請輸入1~99的數字：30\n",
      "猜大一點\n",
      "請輸入1~99的數字：35\n",
      "猜大一點\n",
      "請輸入1~99的數字：37\n",
      "猜小一點\n",
      "請輸入1~99的數字：36\n",
      "猜大一點\n",
      "請輸入1~99的數字：36\n",
      "猜大一點\n",
      "請輸入1~99的數字：37\n",
      "猜小一點\n",
      "請輸入1~99的數字：36\n",
      "猜大一點\n",
      "請輸入1~99的數字：36.5\n"
     ]
    },
    {
     "ename": "ValueError",
     "evalue": "invalid literal for int() with base 10: '36.5'",
     "output_type": "error",
     "traceback": [
      "\u001b[1;31m---------------------------------------------------------------------------\u001b[0m",
      "\u001b[1;31mValueError\u001b[0m                                Traceback (most recent call last)",
      "\u001b[1;32m<ipython-input-3-f9e05f797676>\u001b[0m in \u001b[0;36m<module>\u001b[1;34m\u001b[0m\n\u001b[0;32m      3\u001b[0m \u001b[0mguess\u001b[0m \u001b[1;33m=\u001b[0m \u001b[1;36m0\u001b[0m \u001b[1;31m# 初始化變數\u001b[0m\u001b[1;33m\u001b[0m\u001b[1;33m\u001b[0m\u001b[0m\n\u001b[0;32m      4\u001b[0m \u001b[1;32mwhile\u001b[0m \u001b[0mtarget\u001b[0m \u001b[1;33m!=\u001b[0m \u001b[0mguess\u001b[0m\u001b[1;33m:\u001b[0m\u001b[1;33m\u001b[0m\u001b[1;33m\u001b[0m\u001b[0m\n\u001b[1;32m----> 5\u001b[1;33m     \u001b[0mguess\u001b[0m \u001b[1;33m=\u001b[0m \u001b[0mint\u001b[0m\u001b[1;33m(\u001b[0m\u001b[0minput\u001b[0m\u001b[1;33m(\u001b[0m\u001b[1;34m\"請輸入1~99的數字：\"\u001b[0m\u001b[1;33m)\u001b[0m\u001b[1;33m)\u001b[0m\u001b[1;33m\u001b[0m\u001b[1;33m\u001b[0m\u001b[0m\n\u001b[0m\u001b[0;32m      6\u001b[0m     \u001b[1;32mif\u001b[0m \u001b[0mtaget\u001b[0m \u001b[1;33m<\u001b[0m \u001b[0mguess\u001b[0m\u001b[1;33m:\u001b[0m\u001b[1;33m\u001b[0m\u001b[1;33m\u001b[0m\u001b[0m\n\u001b[0;32m      7\u001b[0m         \u001b[0mprint\u001b[0m\u001b[1;33m(\u001b[0m\u001b[1;34m\"猜小一點\"\u001b[0m\u001b[1;33m)\u001b[0m\u001b[1;33m\u001b[0m\u001b[1;33m\u001b[0m\u001b[0m\n",
      "\u001b[1;31mValueError\u001b[0m: invalid literal for int() with base 10: '36.5'"
     ]
    }
   ],
   "source": [
    "import random\n",
    "target = random.randint(1,99)\n",
    "guess = 0 # 初始化變數\n",
    "while target != guess:\n",
    "    guess = int(input(\"請輸入1~99的數字：\"))\n",
    "    if taget < guess:\n",
    "        print(\"猜小一點\")\n",
    "    elif target < guess:\n",
    "        print(\"猜大一點\")\n",
    "    else:\n",
    "        print(\"猜中了！\")"
   ]
  },
  {
   "cell_type": "code",
   "execution_count": 4,
   "metadata": {},
   "outputs": [
    {
     "name": "stdout",
     "output_type": "stream",
     "text": [
      "1\n",
      "2\n",
      "3\n",
      "4\n",
      "5\n"
     ]
    }
   ],
   "source": [
    "## for 迴圈\n",
    "x = [1,2,3,4,5]\n",
    "for i in x:\n",
    "    print(i)"
   ]
  },
  {
   "cell_type": "code",
   "execution_count": 5,
   "metadata": {},
   "outputs": [
    {
     "name": "stdout",
     "output_type": "stream",
     "text": [
      "2\n",
      "4\n",
      "6\n",
      "8\n",
      "10\n"
     ]
    }
   ],
   "source": [
    "for i in range(2,11,2):\n",
    "    print(i)"
   ]
  },
  {
   "cell_type": "code",
   "execution_count": 6,
   "metadata": {},
   "outputs": [
    {
     "name": "stdout",
     "output_type": "stream",
     "text": [
      "0--Ann\n",
      "1--Ben\n",
      "2--Cindy\n"
     ]
    }
   ],
   "source": [
    "names = [\"Ann\", \"Ben\", \"Cindy\"]\n",
    "for index, x in enumerate(names): # enumerate 元素索引值\n",
    "    print(\"{0}--{1}\".format(index,x))"
   ]
  },
  {
   "cell_type": "code",
   "execution_count": 7,
   "metadata": {},
   "outputs": [
    {
     "name": "stdout",
     "output_type": "stream",
     "text": [
      "0 牛奶\n",
      "1 蛋\n",
      "2 咖啡\n",
      "1 牛奶\n",
      "2 蛋\n",
      "3 咖啡\n"
     ]
    }
   ],
   "source": [
    "sh = [\"牛奶\",\"蛋\",\"咖啡\"]\n",
    "for i in range(0,len(sh)):\n",
    "    print(i, sh[i])\n",
    "    \n",
    "for i, name in enumerate(sh, start=1): # start 預測從0開始\n",
    "    print(i, name)"
   ]
  },
  {
   "cell_type": "code",
   "execution_count": 8,
   "metadata": {},
   "outputs": [
    {
     "name": "stdout",
     "output_type": "stream",
     "text": [
      "e\n",
      "t\n",
      "p\n",
      "a\n",
      "h\n",
      "n\n",
      "l\n"
     ]
    }
   ],
   "source": [
    "word = \"elephant\"\n",
    "letters = {letter for letter in word}\n",
    "# 取出字串每個字母，且會自動刪除重複字母\n",
    "for i in letters:\n",
    "    print(i)"
   ]
  },
  {
   "cell_type": "code",
   "execution_count": 9,
   "metadata": {},
   "outputs": [
    {
     "name": "stdout",
     "output_type": "stream",
     "text": [
      "1*1=1  \n",
      "2*1=2  \n",
      "3*1=3  \n",
      "4*1=4  \n",
      "5*1=5  \n",
      "6*1=6  \n",
      "7*1=7  \n",
      "8*1=8  \n",
      "9*1=9  \n",
      "1*2=2  \n",
      "2*2=4  \n",
      "3*2=6  \n",
      "4*2=8  \n",
      "5*2=10 \n",
      "6*2=12 \n",
      "7*2=14 \n",
      "8*2=16 \n",
      "9*2=18 \n",
      "1*3=3  \n",
      "2*3=6  \n",
      "3*3=9  \n",
      "4*3=12 \n",
      "5*3=15 \n",
      "6*3=18 \n",
      "7*3=21 \n",
      "8*3=24 \n",
      "9*3=27 \n",
      "1*4=4  \n",
      "2*4=8  \n",
      "3*4=12 \n",
      "4*4=16 \n",
      "5*4=20 \n",
      "6*4=24 \n",
      "7*4=28 \n",
      "8*4=32 \n",
      "9*4=36 \n",
      "1*5=5  \n",
      "2*5=10 \n",
      "3*5=15 \n",
      "4*5=20 \n",
      "5*5=25 \n",
      "6*5=30 \n",
      "7*5=35 \n",
      "8*5=40 \n",
      "9*5=45 \n",
      "1*6=6  \n",
      "2*6=12 \n",
      "3*6=18 \n",
      "4*6=24 \n",
      "5*6=30 \n",
      "6*6=36 \n",
      "7*6=42 \n",
      "8*6=48 \n",
      "9*6=54 \n",
      "1*7=7  \n",
      "2*7=14 \n",
      "3*7=21 \n",
      "4*7=28 \n",
      "5*7=35 \n",
      "6*7=42 \n",
      "7*7=49 \n",
      "8*7=56 \n",
      "9*7=63 \n",
      "1*8=8  \n",
      "2*8=16 \n",
      "3*8=24 \n",
      "4*8=32 \n",
      "5*8=40 \n",
      "6*8=48 \n",
      "7*8=56 \n",
      "8*8=64 \n",
      "9*8=72 \n",
      "1*9=9  \n",
      "2*9=18 \n",
      "3*9=27 \n",
      "4*9=36 \n",
      "5*9=45 \n",
      "6*9=54 \n",
      "7*9=63 \n",
      "8*9=72 \n",
      "9*9=81 \n"
     ]
    }
   ],
   "source": [
    "## 巢狀迴圈\n",
    "for x in range(1,10):\n",
    "    for y in range(1,10):\n",
    "        print(\"{0}*{1}={2:^2}\".format(y,x,x*y), end=\" \")\n",
    "        print()"
   ]
  },
  {
   "cell_type": "code",
   "execution_count": 13,
   "metadata": {},
   "outputs": [
    {
     "name": "stdout",
     "output_type": "stream",
     "text": [
      "1 2 3 4 "
     ]
    }
   ],
   "source": [
    "## continue 和 break\n",
    "for x in range(1,10):\n",
    "    if x == 5:\n",
    "        break\n",
    "    else:\n",
    "        print(x,end=\" \")"
   ]
  },
  {
   "cell_type": "code",
   "execution_count": 14,
   "metadata": {},
   "outputs": [
    {
     "name": "stdout",
     "output_type": "stream",
     "text": [
      "1 2 3 4 6 7 8 9 "
     ]
    }
   ],
   "source": [
    "for x in range(1,10):\n",
    "    if x == 5:\n",
    "        continue\n",
    "    else:\n",
    "        print(x,end=\" \")"
   ]
  },
  {
   "cell_type": "code",
   "execution_count": null,
   "metadata": {},
   "outputs": [],
   "source": [
    "while True: # 進入loop(死循環)\n",
    "    acc = input(\"請輸入帳號：\")\n",
    "    pwr = input(\"請輸入密碼：\")\n",
    "    if (acc == \"abc\" and pwr == \"123\"):\n",
    "        print(\"登入成功\")\n",
    "        break # 跳出lOOP\n",
    "    else:\n",
    "        print(\"登入失敗\")"
   ]
  },
  {
   "cell_type": "markdown",
   "metadata": {},
   "source": [
    "## 字串"
   ]
  },
  {
   "cell_type": "code",
   "execution_count": 4,
   "metadata": {},
   "outputs": [
    {
     "name": "stdout",
     "output_type": "stream",
     "text": [
      "[1, 2, 3, 8]\n",
      "8\n"
     ]
    }
   ],
   "source": [
    "list1 = [1,2,3]\n",
    "list1.append(8) # 將元素加在串列最後面\n",
    "print(list1)\n",
    "print(list1[3])"
   ]
  },
  {
   "cell_type": "code",
   "execution_count": 5,
   "metadata": {},
   "outputs": [
    {
     "name": "stdout",
     "output_type": "stream",
     "text": [
      "[1, 5, 2, 3]\n"
     ]
    }
   ],
   "source": [
    "list1 = [1,2,3]\n",
    "list1.insert(1,5) # 將元素加在特定位置\n",
    "print(list1)"
   ]
  },
  {
   "cell_type": "code",
   "execution_count": 7,
   "metadata": {},
   "outputs": [
    {
     "name": "stdout",
     "output_type": "stream",
     "text": [
      "[1, 2, 3, 8, 9]\n"
     ]
    }
   ],
   "source": [
    "list1 = [1,2,3]\n",
    "list1.extend([8,9]) # 加入串列\n",
    "print(list1)"
   ]
  },
  {
   "cell_type": "code",
   "execution_count": 10,
   "metadata": {},
   "outputs": [
    {
     "name": "stdout",
     "output_type": "stream",
     "text": [
      "3\n",
      "2\n"
     ]
    }
   ],
   "source": [
    "list1 = [1,2,3]\n",
    "n = list1.pop() # 取出最後一個元素\n",
    "print(n)\n",
    "n1 = list1.pop(1) \n",
    "print(n1)"
   ]
  },
  {
   "cell_type": "markdown",
   "metadata": {},
   "source": [
    "## 元組"
   ]
  },
  {
   "cell_type": "markdown",
   "metadata": {},
   "source": [
    "### 不能修改的串列"
   ]
  },
  {
   "cell_type": "code",
   "execution_count": 13,
   "metadata": {},
   "outputs": [
    {
     "name": "stdout",
     "output_type": "stream",
     "text": [
      "2\n"
     ]
    }
   ],
   "source": [
    "tuple1 = (1,2,3)\n",
    "print(tuple1[1])"
   ]
  },
  {
   "cell_type": "code",
   "execution_count": 20,
   "metadata": {},
   "outputs": [
    {
     "name": "stdout",
     "output_type": "stream",
     "text": [
      "[1, 2, 3]\n"
     ]
    }
   ],
   "source": [
    "tuple1 = (1,2,3)\n",
    "list1 = list(tuple1)\n",
    "print(list1)"
   ]
  },
  {
   "cell_type": "code",
   "execution_count": 17,
   "metadata": {},
   "outputs": [
    {
     "name": "stdout",
     "output_type": "stream",
     "text": [
      "(1, 2, 3)\n"
     ]
    }
   ],
   "source": [
    "list1 = [1,2,3]\n",
    "tuple1 = tuple(list1)\n",
    "print(tuple1)"
   ]
  }
 ],
 "metadata": {
  "kernelspec": {
   "display_name": "Python 3",
   "language": "python",
   "name": "python3"
  },
  "language_info": {
   "codemirror_mode": {
    "name": "ipython",
    "version": 3
   },
   "file_extension": ".py",
   "mimetype": "text/x-python",
   "name": "python",
   "nbconvert_exporter": "python",
   "pygments_lexer": "ipython3",
   "version": "3.8.3"
  }
 },
 "nbformat": 4,
 "nbformat_minor": 4
}
