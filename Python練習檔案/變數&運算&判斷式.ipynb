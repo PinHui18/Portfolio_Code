{
 "cells": [
  {
   "cell_type": "markdown",
   "metadata": {},
   "source": [
    "## 入門"
   ]
  },
  {
   "cell_type": "code",
   "execution_count": 6,
   "metadata": {},
   "outputs": [
    {
     "name": "stdout",
     "output_type": "stream",
     "text": [
      "Pass\n",
      "Finish\n"
     ]
    }
   ],
   "source": [
    "# 這是單行註解\n",
    "\"\"\"\n",
    "這是多行註解\n",
    "用來說明程式的描述都可以寫在這裡\n",
    "\"\"\"\n",
    "\n",
    "score = 60\n",
    "if score >= 60:\n",
    "    print(\"Pass\")\n",
    "else:\n",
    "    print(\"Fail\")\n",
    "    \n",
    "print(\"Finish\")"
   ]
  },
  {
   "cell_type": "code",
   "execution_count": 7,
   "metadata": {
    "scrolled": true
   },
   "outputs": [
    {
     "name": "stdout",
     "output_type": "stream",
     "text": [
      "Hello World\n",
      "Hello World\n"
     ]
    }
   ],
   "source": [
    "print(\"Hello World\")\n",
    "\n",
    "A = \"Hello World\"\n",
    "print(A)"
   ]
  },
  {
   "cell_type": "markdown",
   "metadata": {},
   "source": [
    "## 變數"
   ]
  },
  {
   "cell_type": "code",
   "execution_count": 9,
   "metadata": {},
   "outputs": [
    {
     "name": "stdout",
     "output_type": "stream",
     "text": [
      "Apple\n"
     ]
    }
   ],
   "source": [
    "# 動態型別\n",
    "number = 10\n",
    "number = \"Apple\"\n",
    "print(number)"
   ]
  },
  {
   "cell_type": "code",
   "execution_count": 10,
   "metadata": {},
   "outputs": [
    {
     "name": "stdout",
     "output_type": "stream",
     "text": [
      "10\n"
     ]
    },
    {
     "ename": "NameError",
     "evalue": "name 'number' is not defined",
     "output_type": "error",
     "traceback": [
      "\u001b[1;31m---------------------------------------------------------------------------\u001b[0m",
      "\u001b[1;31mNameError\u001b[0m                                 Traceback (most recent call last)",
      "\u001b[1;32m<ipython-input-10-2808c1164351>\u001b[0m in \u001b[0;36m<module>\u001b[1;34m\u001b[0m\n\u001b[0;32m      3\u001b[0m \u001b[0mprint\u001b[0m\u001b[1;33m(\u001b[0m\u001b[0mnumber\u001b[0m\u001b[1;33m)\u001b[0m\u001b[1;33m\u001b[0m\u001b[1;33m\u001b[0m\u001b[0m\n\u001b[0;32m      4\u001b[0m \u001b[1;32mdel\u001b[0m \u001b[0mnumber\u001b[0m\u001b[1;33m\u001b[0m\u001b[1;33m\u001b[0m\u001b[0m\n\u001b[1;32m----> 5\u001b[1;33m \u001b[0mprint\u001b[0m\u001b[1;33m(\u001b[0m\u001b[0mnumber\u001b[0m\u001b[1;33m)\u001b[0m\u001b[1;33m\u001b[0m\u001b[1;33m\u001b[0m\u001b[0m\n\u001b[0m",
      "\u001b[1;31mNameError\u001b[0m: name 'number' is not defined"
     ]
    }
   ],
   "source": [
    "# 回收機制\n",
    "number = 10\n",
    "print(number)\n",
    "del number # 刪除物件\n",
    "print(number)"
   ]
  },
  {
   "cell_type": "code",
   "execution_count": 13,
   "metadata": {},
   "outputs": [
    {
     "name": "stdout",
     "output_type": "stream",
     "text": [
      "2\n",
      "100\n",
      "100\n"
     ]
    }
   ],
   "source": [
    "# 數值型態\n",
    "## 整數 int\n",
    "'''\n",
    "0b數值 == bin() == 2進位制\n",
    "0o數值 == oct() == 8進位制\n",
    "0x數值 == hex() == 16進位制\n",
    "數值 == int() == 10進位制\n",
    "'''\n",
    "print(0b10) \n",
    "print(0x64)\n",
    "print(0o144)"
   ]
  },
  {
   "cell_type": "code",
   "execution_count": 17,
   "metadata": {},
   "outputs": [
    {
     "name": "stdout",
     "output_type": "stream",
     "text": [
      "0.3\n",
      "0.30000000000000004\n",
      "0.3000000000000000166533453694\n",
      "3\n",
      "=====================================\n",
      "0.3\n",
      "0.30000000000000004\n"
     ]
    }
   ],
   "source": [
    "## 浮點數 float\n",
    "import decimal\n",
    "num = decimal.Decimal(\"0.1\") + decimal.Decimal(\"0.2\") # 利用decimal.Decimal類別儲存精確數值，若引述非整數，則必須以字串形式傳入\n",
    "print(num)\n",
    "\n",
    "num1 = 0.1 + 0.2\n",
    "print(num1)\n",
    "\n",
    "num2 = decimal.Decimal(0.1) + decimal.Decimal(0.2) \n",
    "print(num2)\n",
    "\n",
    "num3 = decimal.Decimal(1) + decimal.Decimal(2) \n",
    "print(num3)\n",
    "\n",
    "print('=====================================')\n",
    "\n",
    "## round() 函數強制小數點的指定位數\n",
    "num = 0.2 + 0.1\n",
    "print(round(num, 1))\n",
    "print(num)"
   ]
  },
  {
   "cell_type": "code",
   "execution_count": 20,
   "metadata": {},
   "outputs": [
    {
     "name": "stdout",
     "output_type": "stream",
     "text": [
      "6\n",
      "False\n",
      "False\n",
      "True\n",
      "True\n",
      "True\n",
      "False\n"
     ]
    }
   ],
   "source": [
    "## 布林值 bool 輸出真假值，True=1, False=0\n",
    "num = 5 + True\n",
    "print(num)\n",
    "print(bool(0))\n",
    "print(bool(\"\"))\n",
    "print(bool(\" \"))\n",
    "print(bool(\"ABO\"))\n",
    "print(bool(1))\n",
    "print(bool([]))"
   ]
  },
  {
   "cell_type": "code",
   "execution_count": 21,
   "metadata": {},
   "outputs": [
    {
     "name": "stdout",
     "output_type": "stream",
     "text": [
      "請輸入一個字串abc\n",
      "迴文判斷結果為False.\n"
     ]
    }
   ],
   "source": [
    "s = input(\"請輸入一個字串\")\n",
    "print(\"迴文判斷結果為{}.\".format(s==s[::-1]))"
   ]
  },
  {
   "cell_type": "code",
   "execution_count": 24,
   "metadata": {},
   "outputs": [
    {
     "name": "stdout",
     "output_type": "stream",
     "text": [
      "(5+6j)\n",
      "5.0\n",
      "6.0\n"
     ]
    }
   ],
   "source": [
    "## 複數 complex\n",
    "print( complex(5,6))\n",
    "a = 5+6j\n",
    "print(a.real) # 取出實部的數\n",
    "print(a.imag) # 取出虛部的數"
   ]
  },
  {
   "cell_type": "code",
   "execution_count": 25,
   "metadata": {},
   "outputs": [
    {
     "name": "stdout",
     "output_type": "stream",
     "text": [
      "1 2 3\n",
      "4@5@6\n",
      "7|8|9 10*11\n"
     ]
    }
   ],
   "source": [
    "## 輸出 ptint()\n",
    "print(1,2,3)\n",
    "print(4,5,6, sep=\"@\")\n",
    "print(7,8,9, sep=\"|\", end=\" \") # end 預設「\\n」換行\n",
    "print(10,11, sep=\"*\")"
   ]
  },
  {
   "cell_type": "code",
   "execution_count": 33,
   "metadata": {},
   "outputs": [
    {
     "name": "stdout",
     "output_type": "stream",
     "text": [
      "小明的數學成績:66\n",
      "Jenny的數學成績:95.00\n",
      "小明是個用功的學生.\n",
      "王曉明今年18歲.\n",
      "王曉明今年18歲.\n",
      "5.1\n",
      "5.12\n"
     ]
    }
   ],
   "source": [
    "## 格式化輸出\n",
    "score = 66\n",
    "print(\"小明的數學成績:%d\" % score)\n",
    "\n",
    "print(\"%s的數學成績:%5.2f\" % (\"Jenny\", 95))\n",
    "\n",
    "print(\"{}是個用功的學生.\" .format(\"小明\"))\n",
    "print(\"{0}今年{1}歲.\".format(\"王曉明\", 18))\n",
    "print(\"{name}今年{age}歲.\".format(name = \"王曉明\", age = 18))\n",
    "print('{0:.2}'.format(5.1234))\n",
    "print('{0:.3}'.format(5.1234))"
   ]
  },
  {
   "cell_type": "code",
   "execution_count": 35,
   "metadata": {},
   "outputs": [
    {
     "name": "stdout",
     "output_type": "stream",
     "text": [
      "請輸入名字：Olga\n",
      "請輸入國文成績：100\n",
      "姓名         國文\n",
      "Olga         100\n"
     ]
    }
   ],
   "source": [
    "name = input(\"請輸入名字：\")\n",
    "chinese_score = input(\"請輸入國文成績：\")\n",
    "\n",
    "print(\"{0:8}{1:>5}\".format(\"姓名\",\"國文\"))\n",
    "print(\"{0:<10}{1:>6}\".format(name, chinese_score))"
   ]
  },
  {
   "cell_type": "code",
   "execution_count": 38,
   "metadata": {},
   "outputs": [
    {
     "name": "stdout",
     "output_type": "stream",
     "text": [
      "10\n",
      "數值10.3\n"
     ]
    },
    {
     "ename": "TypeError",
     "evalue": "can only concatenate str (not \"float\") to str",
     "output_type": "error",
     "traceback": [
      "\u001b[1;31m---------------------------------------------------------------------------\u001b[0m",
      "\u001b[1;31mTypeError\u001b[0m                                 Traceback (most recent call last)",
      "\u001b[1;32m<ipython-input-38-c5baef644ec0>\u001b[0m in \u001b[0;36m<module>\u001b[1;34m\u001b[0m\n\u001b[0;32m      7\u001b[0m \u001b[0mnum1\u001b[0m \u001b[1;33m=\u001b[0m \u001b[1;36m5\u001b[0m \u001b[1;33m+\u001b[0m \u001b[0mfloat\u001b[0m\u001b[1;33m(\u001b[0m\u001b[0mxx\u001b[0m\u001b[1;33m)\u001b[0m\u001b[1;33m\u001b[0m\u001b[1;33m\u001b[0m\u001b[0m\n\u001b[0;32m      8\u001b[0m \u001b[0mprint\u001b[0m\u001b[1;33m(\u001b[0m\u001b[1;34m\"數值\"\u001b[0m \u001b[1;33m+\u001b[0m \u001b[0mstr\u001b[0m\u001b[1;33m(\u001b[0m\u001b[0mnum1\u001b[0m\u001b[1;33m)\u001b[0m\u001b[1;33m)\u001b[0m\u001b[1;33m\u001b[0m\u001b[1;33m\u001b[0m\u001b[0m\n\u001b[1;32m----> 9\u001b[1;33m \u001b[0mprint\u001b[0m\u001b[1;33m(\u001b[0m\u001b[1;34m\"數值\"\u001b[0m \u001b[1;33m+\u001b[0m \u001b[0mnum1\u001b[0m\u001b[1;33m)\u001b[0m\u001b[1;33m\u001b[0m\u001b[1;33m\u001b[0m\u001b[0m\n\u001b[0m",
      "\u001b[1;31mTypeError\u001b[0m: can only concatenate str (not \"float\") to str"
     ]
    }
   ],
   "source": [
    "## 資料型態轉換\n",
    "x = \"5\"\n",
    "num = 5 + int(x)\n",
    "print(num)\n",
    "\n",
    "xx = 5.3\n",
    "num1 = 5 + float(xx)\n",
    "print(\"數值\" + str(num1)) # 強制轉成字串\n",
    "print(\"數值\" + num1)"
   ]
  },
  {
   "cell_type": "markdown",
   "metadata": {},
   "source": [
    "## 判斷式"
   ]
  },
  {
   "cell_type": "code",
   "execution_count": 42,
   "metadata": {},
   "outputs": [
    {
     "name": "stdout",
     "output_type": "stream",
     "text": [
      "請輸入密碼：123\n",
      "密碼錯誤\n"
     ]
    }
   ],
   "source": [
    "pwr = input(\"請輸入密碼：\")\n",
    "if pwr == \"1234\":\n",
    "    print(\"歡迎光臨\")\n",
    "else:\n",
    "    print(\"密碼錯誤\")"
   ]
  },
  {
   "cell_type": "code",
   "execution_count": 48,
   "metadata": {},
   "outputs": [
    {
     "name": "stdout",
     "output_type": "stream",
     "text": [
      "請輸入成績：85\n",
      "甲等\n"
     ]
    }
   ],
   "source": [
    "score =int(input(\"請輸入成績：\"))\n",
    "if score >= 90:\n",
    "    print(\"優等\")\n",
    "elif 80 <= score < 90:\n",
    "    print(\"甲等\")\n",
    "else:\n",
    "    print(\"乙等\")"
   ]
  }
 ],
 "metadata": {
  "kernelspec": {
   "display_name": "Python 3",
   "language": "python",
   "name": "python3"
  },
  "language_info": {
   "codemirror_mode": {
    "name": "ipython",
    "version": 3
   },
   "file_extension": ".py",
   "mimetype": "text/x-python",
   "name": "python",
   "nbconvert_exporter": "python",
   "pygments_lexer": "ipython3",
   "version": "3.8.3"
  }
 },
 "nbformat": 4,
 "nbformat_minor": 4
}
