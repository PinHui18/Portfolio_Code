{
 "cells": [
  {
   "cell_type": "markdown",
   "metadata": {},
   "source": [
    "## 自訂函式"
   ]
  },
  {
   "cell_type": "code",
   "execution_count": 1,
   "metadata": {},
   "outputs": [
    {
     "name": "stdout",
     "output_type": "stream",
     "text": [
      "54\n"
     ]
    }
   ],
   "source": [
    "def GetArea(width, height):\n",
    "    area = width * height\n",
    "    return area\n",
    "ret1 = GetArea(6,9)\n",
    "print(ret1)"
   ]
  },
  {
   "cell_type": "code",
   "execution_count": 2,
   "metadata": {},
   "outputs": [
    {
     "name": "stdout",
     "output_type": "stream",
     "text": [
      "請輸入攝氏溫度:10\n",
      "華氏溫度為:  50.0 度\n"
     ]
    }
   ],
   "source": [
    "def ctof(c):\n",
    "    f = c * 1.8 + 32\n",
    "    return f\n",
    "\n",
    "inputc = float(input(\"請輸入攝氏溫度:\"))\n",
    "print(\"華氏溫度為: %5.1f 度\" % ctof(inputc))"
   ]
  },
  {
   "cell_type": "code",
   "execution_count": 3,
   "metadata": {},
   "outputs": [
    {
     "name": "stdout",
     "output_type": "stream",
     "text": [
      "54\n",
      "72\n"
     ]
    }
   ],
   "source": [
    "def GetArea(width, height=12):\n",
    "    area = width * height\n",
    "    return area\n",
    "ret1 = GetArea(6,9)\n",
    "print(ret1)\n",
    "ret2 = GetArea(6)\n",
    "print(ret2)"
   ]
  },
  {
   "cell_type": "markdown",
   "metadata": {},
   "source": [
    "### 全域變數：定義在函式外的變數，期有效範圍式整個Python檔案"
   ]
  },
  {
   "cell_type": "markdown",
   "metadata": {},
   "source": [
    "### 區域變數：定義在一個函式中的變數，其有效範圍是在該函式內"
   ]
  },
  {
   "cell_type": "code",
   "execution_count": 4,
   "metadata": {},
   "outputs": [
    {
     "name": "stdout",
     "output_type": "stream",
     "text": [
      "1 20\n",
      "10 20\n"
     ]
    }
   ],
   "source": [
    "def scope():\n",
    "    var1 = 1 # 建立區域變數\n",
    "    print(var1, var2)\n",
    "\n",
    "var1 = 10 # 建立全域變數\n",
    "var2 = 20\n",
    "scope()\n",
    "print(var1, var2)"
   ]
  },
  {
   "cell_type": "markdown",
   "metadata": {},
   "source": [
    "## 數值函式"
   ]
  },
  {
   "cell_type": "code",
   "execution_count": 7,
   "metadata": {},
   "outputs": [
    {
     "name": "stdout",
     "output_type": "stream",
     "text": [
      "8\n"
     ]
    }
   ],
   "source": [
    "print(pow(2,3)) # 指數"
   ]
  },
  {
   "cell_type": "code",
   "execution_count": 8,
   "metadata": {},
   "outputs": [
    {
     "name": "stdout",
     "output_type": "stream",
     "text": [
      "7 2\n"
     ]
    }
   ],
   "source": [
    "ret = divmod(44,6)\n",
    "print(ret[0],ret[1]) # ret[0]商 , ret[1]餘數"
   ]
  },
  {
   "cell_type": "code",
   "execution_count": 9,
   "metadata": {},
   "outputs": [
    {
     "name": "stdout",
     "output_type": "stream",
     "text": [
      "4\n",
      "3\n"
     ]
    }
   ],
   "source": [
    "print(round(3.6))\n",
    "print(round(3.4))"
   ]
  },
  {
   "cell_type": "code",
   "execution_count": 12,
   "metadata": {},
   "outputs": [
    {
     "name": "stdout",
     "output_type": "stream",
     "text": [
      "7\n",
      "16\n"
     ]
    }
   ],
   "source": [
    "print(max(1,3,6,7))\n",
    "print(sum([1,3,5,7]))"
   ]
  },
  {
   "cell_type": "code",
   "execution_count": 15,
   "metadata": {},
   "outputs": [
    {
     "name": "stdout",
     "output_type": "stream",
     "text": [
      "[1, 3, 5, 7]\n",
      "[7, 5, 3, 1]\n"
     ]
    }
   ],
   "source": [
    "# 排序\n",
    "print(sorted([1,3,5,7]))\n",
    "print(sorted([1,3,5,7], reverse=True))"
   ]
  },
  {
   "cell_type": "markdown",
   "metadata": {},
   "source": [
    "## 字串函式"
   ]
  },
  {
   "cell_type": "code",
   "execution_count": 17,
   "metadata": {},
   "outputs": [
    {
     "name": "stdout",
     "output_type": "stream",
     "text": [
      "This is a book\n",
      "This*is*a*book\n"
     ]
    }
   ],
   "source": [
    "list1 = ['This','is','a','book']\n",
    "print(\" \".join(list1))\n",
    "print(\"*\".join(list1))"
   ]
  },
  {
   "cell_type": "code",
   "execution_count": 18,
   "metadata": {},
   "outputs": [
    {
     "name": "stdout",
     "output_type": "stream",
     "text": [
      "['This', 'is', 'a', 'book.']\n"
     ]
    }
   ],
   "source": [
    "str1 = \"This is a book.\"\n",
    "print(str1.split(\" \"))"
   ]
  },
  {
   "cell_type": "code",
   "execution_count": 21,
   "metadata": {},
   "outputs": [
    {
     "name": "stdout",
     "output_type": "stream",
     "text": [
      "True\n",
      "False\n"
     ]
    }
   ],
   "source": [
    "str1 = \"mailto:test@e-happy.com.tw\"\n",
    "print(str1.startswith(\"mailto:\")) # 字串開頭\n",
    "print(str1.startswith(\"to:\"))"
   ]
  },
  {
   "cell_type": "code",
   "execution_count": 22,
   "metadata": {},
   "outputs": [
    {
     "name": "stdout",
     "output_type": "stream",
     "text": [
      "True\n",
      "False\n"
     ]
    }
   ],
   "source": [
    "str1 = \"mailto:test@e-happy.com.tw\"\n",
    "print(str1.endswith(\".tw\")) # 字串結尾\n",
    "print(str1.endswith(\"cn\"))"
   ]
  },
  {
   "cell_type": "code",
   "execution_count": 25,
   "metadata": {},
   "outputs": [
    {
     "name": "stdout",
     "output_type": "stream",
     "text": [
      "python######\n",
      "######python\n",
      "###python###\n"
     ]
    }
   ],
   "source": [
    "str1 = \"python\"\n",
    "print(str1.ljust(12,\"#\"))\n",
    "print(str1.rjust(12,\"#\"))\n",
    "print(str1.center(12,\"#\"))"
   ]
  },
  {
   "cell_type": "code",
   "execution_count": 27,
   "metadata": {},
   "outputs": [
    {
     "name": "stdout",
     "output_type": "stream",
     "text": [
      "I  love  python.   \n",
      "   I  love  python.\n",
      "I  love  python.\n"
     ]
    }
   ],
   "source": [
    "# 移除空白\n",
    "str2 = \"   I  love  python.   \"\n",
    "print(str2.lstrip())\n",
    "print(str2.rstrip())\n",
    "print(str2.strip())"
   ]
  },
  {
   "cell_type": "code",
   "execution_count": 28,
   "metadata": {},
   "outputs": [
    {
     "name": "stdout",
     "output_type": "stream",
     "text": [
      "3\n",
      "7\n",
      "-1\n"
     ]
    }
   ],
   "source": [
    "# 搜尋位置 & 取代字串\n",
    "str3 = \"I love python.\"\n",
    "print(str3.find(\"o\"))\n",
    "print(str3.find(\"python\"))\n",
    "print(str3.find(\"x\")) # 不存在"
   ]
  },
  {
   "cell_type": "code",
   "execution_count": 29,
   "metadata": {},
   "outputs": [
    {
     "name": "stdout",
     "output_type": "stream",
     "text": [
      "I l&ve pyth&n.\n"
     ]
    }
   ],
   "source": [
    "str4 = \"I love python.\"\n",
    "print(str4.replace(\"o\",\"&\"))"
   ]
  },
  {
   "cell_type": "markdown",
   "metadata": {},
   "source": [
    "## 亂數模組"
   ]
  },
  {
   "cell_type": "code",
   "execution_count": 35,
   "metadata": {},
   "outputs": [
    {
     "name": "stdout",
     "output_type": "stream",
     "text": [
      "1,4,9,1,3,"
     ]
    }
   ],
   "source": [
    "import random as r\n",
    "for i in range(0,5): # 產生五個亂數\n",
    "    print(r.randint(1,10), end=\",\")"
   ]
  },
  {
   "cell_type": "code",
   "execution_count": 36,
   "metadata": {},
   "outputs": [
    {
     "name": "stdout",
     "output_type": "stream",
     "text": [
      "8,10,10,4,6,"
     ]
    }
   ],
   "source": [
    "import random as r\n",
    "for i in range(0,5): # 產生五個亂數\n",
    "    print(r.randrange(0,12,2), end=\",\") #亂數會從0,2,4,6,8,10產生"
   ]
  },
  {
   "cell_type": "code",
   "execution_count": 38,
   "metadata": {},
   "outputs": [
    {
     "name": "stdout",
     "output_type": "stream",
     "text": [
      "按任意鍵再按[Enter]鍵擲骰子，直接按[Enter]鍵結束：s\n",
      "你擲的骰子點數是：4\n",
      "按任意鍵再按[Enter]鍵擲骰子，直接按[Enter]鍵結束：\n",
      "遊戲結束！\n"
     ]
    }
   ],
   "source": [
    "import random as r\n",
    "\n",
    "while True:\n",
    "    inkey = input(\"按任意鍵再按[Enter]鍵擲骰子，直接按[Enter]鍵結束：\")\n",
    "    if len(inkey) > 0:\n",
    "        num = r.randint(1,6)\n",
    "        print(\"你擲的骰子點數是：\"+ str(num))\n",
    "    else:\n",
    "        print(\"遊戲結束！\")\n",
    "        break"
   ]
  },
  {
   "cell_type": "code",
   "execution_count": 48,
   "metadata": {},
   "outputs": [
    {
     "name": "stdout",
     "output_type": "stream",
     "text": [
      "本期大樂購中獎號碼為：4,16,21,26,27,35\n",
      "本期大樂透特別號為：45\n"
     ]
    }
   ],
   "source": [
    "import random as r\n",
    "\n",
    "list1 = r.sample(range(1,50),7) # 從1~49中取7個亂數\n",
    "special = list1.pop()\n",
    "list1.sort() # 排序\n",
    "print(\"本期大樂購中獎號碼為：\", end=\"\")\n",
    "for i in range(0,6):\n",
    "    if i == 5:\n",
    "        print(str(list1[i]))\n",
    "    else:\n",
    "        print(str(list1[i]), end=\",\")\n",
    "print(\"本期大樂透特別號為：\"+ str(special))"
   ]
  },
  {
   "cell_type": "code",
   "execution_count": null,
   "metadata": {},
   "outputs": [],
   "source": []
  }
 ],
 "metadata": {
  "kernelspec": {
   "display_name": "Python 3",
   "language": "python",
   "name": "python3"
  },
  "language_info": {
   "codemirror_mode": {
    "name": "ipython",
    "version": 3
   },
   "file_extension": ".py",
   "mimetype": "text/x-python",
   "name": "python",
   "nbconvert_exporter": "python",
   "pygments_lexer": "ipython3",
   "version": "3.8.3"
  }
 },
 "nbformat": 4,
 "nbformat_minor": 4
}
