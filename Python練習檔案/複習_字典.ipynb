{
 "cells": [
  {
   "cell_type": "markdown",
   "metadata": {},
   "source": [
    "## 字典基本操作"
   ]
  },
  {
   "cell_type": "code",
   "execution_count": 2,
   "metadata": {},
   "outputs": [
    {
     "name": "stdout",
     "output_type": "stream",
     "text": [
      "50\n",
      "20\n",
      "80\n"
     ]
    }
   ],
   "source": [
    "dict1 = {\"banana\":20, \"apple\":50, \"orange\":30}\n",
    "print(dict1[\"apple\"])\n",
    "print(dict1.get(\"banana\")) #取值\n",
    "print(dict1.get(\"pineapple\",80))"
   ]
  },
  {
   "cell_type": "code",
   "execution_count": 2,
   "metadata": {},
   "outputs": [
    {
     "name": "stdout",
     "output_type": "stream",
     "text": [
      "請輸入要查詢的血型：AB\n",
      "AB型的個性為:聰明\n",
      "AB型的個性為:聰明\n"
     ]
    }
   ],
   "source": [
    "blood_dict = {\"A\":\"穩重\", \"B\":\"樂觀\", \"O\":\"堅強\", \"AB\":\"聰明\"}\n",
    "name = input(\"請輸入要查詢的血型：\")\n",
    "blood = blood_dict.get(name)\n",
    "# print(blood)\n",
    "if blood == None:\n",
    "    print(\"沒有\"+name+\"血型!\")\n",
    "else:\n",
    "    print(name+\"型的個性為:\"+str(blood_dict[name]))\n",
    "    print(name+\"型的個性為:\"+blood_dict[name])"
   ]
  },
  {
   "cell_type": "code",
   "execution_count": 3,
   "metadata": {},
   "outputs": [
    {
     "name": "stdout",
     "output_type": "stream",
     "text": [
      "{'banana': 20, 'apple': 60, 'orange': 30}\n"
     ]
    }
   ],
   "source": [
    "# 修改\n",
    "dict1 = {\"banana\":20, \"apple\":50, \"orange\":30}\n",
    "dict1[\"apple\"] = 60\n",
    "print(dict1)"
   ]
  },
  {
   "cell_type": "code",
   "execution_count": 4,
   "metadata": {},
   "outputs": [
    {
     "name": "stdout",
     "output_type": "stream",
     "text": [
      "{'banana': 20, 'orange': 30}\n"
     ]
    }
   ],
   "source": [
    "dict1 = {\"banana\":20, \"apple\":50, \"orange\":30}\n",
    "del dict1[\"apple\"] \n",
    "print(dict1)"
   ]
  },
  {
   "cell_type": "code",
   "execution_count": 5,
   "metadata": {},
   "outputs": [
    {
     "name": "stdout",
     "output_type": "stream",
     "text": [
      "{}\n"
     ]
    }
   ],
   "source": [
    "dict1 = {\"banana\":20, \"apple\":50, \"orange\":30}\n",
    "dict1.clear() \n",
    "print(dict1)"
   ]
  },
  {
   "cell_type": "markdown",
   "metadata": {},
   "source": [
    "## 字典進階操作"
   ]
  },
  {
   "cell_type": "code",
   "execution_count": 6,
   "metadata": {},
   "outputs": [
    {
     "name": "stdout",
     "output_type": "stream",
     "text": [
      "3\n"
     ]
    }
   ],
   "source": [
    "dict1 = {\"banana\":20, \"apple\":50, \"orange\":30}\n",
    "print(len(dict1))"
   ]
  },
  {
   "cell_type": "code",
   "execution_count": 7,
   "metadata": {},
   "outputs": [
    {
     "name": "stdout",
     "output_type": "stream",
     "text": [
      "{'banana': 20, 'apple': 50, 'orange': 30}\n"
     ]
    }
   ],
   "source": [
    "dict1 = {\"banana\":20, \"apple\":50, \"orange\":30}\n",
    "dict2 = dict1.copy()\n",
    "print(dict2)"
   ]
  },
  {
   "cell_type": "code",
   "execution_count": 8,
   "metadata": {},
   "outputs": [
    {
     "name": "stdout",
     "output_type": "stream",
     "text": [
      "True\n"
     ]
    }
   ],
   "source": [
    "dict1 = {\"banana\":20, \"apple\":50, \"orange\":30}\n",
    "a = \"apple\" in dict1\n",
    "print(a)"
   ]
  },
  {
   "cell_type": "code",
   "execution_count": 12,
   "metadata": {},
   "outputs": [
    {
     "name": "stdout",
     "output_type": "stream",
     "text": [
      "dict_items([('banana', 20), ('apple', 50), ('orange', 30)])\n",
      "dict_keys(['banana', 'apple', 'orange'])\n",
      "dict_values([20, 50, 30])\n"
     ]
    }
   ],
   "source": [
    "dict1 = {\"banana\":20, \"apple\":50, \"orange\":30}\n",
    "item1 = dict1.items()\n",
    "print(item1)\n",
    "key1 = dict1.keys()\n",
    "print(key1)\n",
    "value1 = dict1.values()\n",
    "print(value1)"
   ]
  },
  {
   "cell_type": "code",
   "execution_count": 21,
   "metadata": {},
   "outputs": [
    {
     "name": "stdout",
     "output_type": "stream",
     "text": [
      "請輸入名字Dick\n",
      "請輸入成績60\n",
      "成績:{'Ann': 85, 'Ben': 90, 'Cindy': 100, 'Dick': 60}\n"
     ]
    }
   ],
   "source": [
    "dict_score = {\"Ann\":85, \"Ben\":90, \"Cindy\":100}\n",
    "name = input(\"請輸入名字\")\n",
    "if name in dict_score:\n",
    "    print(name +\"成績為\"+ str(dict_score[name]))\n",
    "else:\n",
    "    score = int(input(\"請輸入成績\"))\n",
    "    dict_score[name] = score\n",
    "    print(\"成績:\"+ str(dict_score))"
   ]
  },
  {
   "cell_type": "code",
   "execution_count": 23,
   "metadata": {},
   "outputs": [
    {
     "name": "stdout",
     "output_type": "stream",
     "text": [
      "dict_items([('banana', 20), ('apple', 50), ('orange', 30)])\n",
      "[('banana', 20), ('apple', 50), ('orange', 30)]\n",
      "50\n"
     ]
    }
   ],
   "source": [
    "dict1 = {\"banana\":20, \"apple\":50, \"orange\":30}\n",
    "item1 = dict1.items()\n",
    "print(item1)\n",
    "item2 = list(dict1.items())\n",
    "print(item2)\n",
    "print(item2[1][1])"
   ]
  },
  {
   "cell_type": "code",
   "execution_count": null,
   "metadata": {},
   "outputs": [],
   "source": []
  }
 ],
 "metadata": {
  "kernelspec": {
   "display_name": "Python 3",
   "language": "python",
   "name": "python3"
  },
  "language_info": {
   "codemirror_mode": {
    "name": "ipython",
    "version": 3
   },
   "file_extension": ".py",
   "mimetype": "text/x-python",
   "name": "python",
   "nbconvert_exporter": "python",
   "pygments_lexer": "ipython3",
   "version": "3.8.3"
  }
 },
 "nbformat": 4,
 "nbformat_minor": 4
}
